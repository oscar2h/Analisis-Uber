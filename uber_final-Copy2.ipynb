{
 "cells": [
  {
   "cell_type": "code",
   "execution_count": 1,
   "metadata": {},
   "outputs": [],
   "source": [
    "# Tratamiento de datos\n",
    "# ==============================================================================\n",
    "import pandas as pd\n",
    "import numpy as np"
   ]
  },
  {
   "cell_type": "code",
   "execution_count": 2,
   "metadata": {},
   "outputs": [],
   "source": [
    "# Gráficos\n",
    "# ==============================================================================\n",
    "import matplotlib.pyplot as plt\n",
    "from matplotlib import style\n",
    "import seaborn as sns"
   ]
  },
  {
   "cell_type": "code",
   "execution_count": 53,
   "metadata": {},
   "outputs": [],
   "source": [
    "# Preprocesado y modelado\n",
    "# ==============================================================================\n",
    "from scipy.stats import pearsonr\n",
    "from sklearn.model_selection import train_test_split\n",
    "from sklearn.metrics import mean_squared_error\n",
    "from sklearn.linear_model import LinearRegression\n",
    "from sklearn.linear_model import Ridge\n",
    "from sklearn.linear_model import Lasso\n",
    "from sklearn.linear_model import ElasticNet\n",
    "from sklearn.linear_model import RidgeCV\n",
    "from sklearn.linear_model import LassoCV\n",
    "from sklearn.linear_model import ElasticNetCV\n",
    "import statsmodels.api as sm\n",
    "import statsmodels.formula.api as smf\n",
    "from sklearn import datasets, linear_model\n",
    "from sklearn.cluster import KMeans"
   ]
  },
  {
   "cell_type": "code",
   "execution_count": 4,
   "metadata": {},
   "outputs": [],
   "source": [
    "# Configuración matplotlib\n",
    "# ==============================================================================\n",
    "plt.rcParams['image.cmap'] = \"bwr\"\n",
    "#plt.rcParams['figure.dpi'] = \"100\"\n",
    "plt.rcParams['savefig.bbox'] = \"tight\"\n",
    "style.use('ggplot') or plt.style.use('ggplot')"
   ]
  },
  {
   "cell_type": "code",
   "execution_count": 5,
   "metadata": {},
   "outputs": [],
   "source": [
    "# Configuración warnings\n",
    "# ==============================================================================\n",
    "import warnings\n",
    "warnings.filterwarnings('ignore')"
   ]
  },
  {
   "cell_type": "code",
   "execution_count": 6,
   "metadata": {},
   "outputs": [],
   "source": [
    "pd.set_option('display.float_format', lambda x: '%.5f' % x)"
   ]
  },
  {
   "cell_type": "code",
   "execution_count": 7,
   "metadata": {},
   "outputs": [],
   "source": [
    "archivos2014 =['uber-raw-data-may14.csv',\n",
    "                'uber-raw-data-apr14.csv',\n",
    "                'uber-raw-data-jul14.csv',\n",
    "                'uber-raw-data-jun14.csv',\n",
    "                'uber-raw-data-sep14.csv',\n",
    "                'uber-raw-data-aug14.csv']\n",
    "df2014 = pd.DataFrame()\n",
    "for file in archivos2014:\n",
    "    df = pd.read_csv(file,encoding='utf-8')\n",
    "    df2014 = pd.concat([df,df2014])"
   ]
  },
  {
   "cell_type": "code",
   "execution_count": 8,
   "metadata": {},
   "outputs": [
    {
     "data": {
      "text/html": [
       "<div>\n",
       "<style scoped>\n",
       "    .dataframe tbody tr th:only-of-type {\n",
       "        vertical-align: middle;\n",
       "    }\n",
       "\n",
       "    .dataframe tbody tr th {\n",
       "        vertical-align: top;\n",
       "    }\n",
       "\n",
       "    .dataframe thead th {\n",
       "        text-align: right;\n",
       "    }\n",
       "</style>\n",
       "<table border=\"1\" class=\"dataframe\">\n",
       "  <thead>\n",
       "    <tr style=\"text-align: right;\">\n",
       "      <th></th>\n",
       "      <th>Date/Time</th>\n",
       "      <th>Lat</th>\n",
       "      <th>Lon</th>\n",
       "      <th>Base</th>\n",
       "    </tr>\n",
       "  </thead>\n",
       "  <tbody>\n",
       "    <tr>\n",
       "      <th>0</th>\n",
       "      <td>8/1/2014 0:03:00</td>\n",
       "      <td>40.73660</td>\n",
       "      <td>-73.99060</td>\n",
       "      <td>B02512</td>\n",
       "    </tr>\n",
       "    <tr>\n",
       "      <th>1</th>\n",
       "      <td>8/1/2014 0:09:00</td>\n",
       "      <td>40.72600</td>\n",
       "      <td>-73.99180</td>\n",
       "      <td>B02512</td>\n",
       "    </tr>\n",
       "    <tr>\n",
       "      <th>2</th>\n",
       "      <td>8/1/2014 0:12:00</td>\n",
       "      <td>40.72090</td>\n",
       "      <td>-74.05070</td>\n",
       "      <td>B02512</td>\n",
       "    </tr>\n",
       "    <tr>\n",
       "      <th>3</th>\n",
       "      <td>8/1/2014 0:12:00</td>\n",
       "      <td>40.73870</td>\n",
       "      <td>-73.98560</td>\n",
       "      <td>B02512</td>\n",
       "    </tr>\n",
       "    <tr>\n",
       "      <th>4</th>\n",
       "      <td>8/1/2014 0:12:00</td>\n",
       "      <td>40.73230</td>\n",
       "      <td>-74.00770</td>\n",
       "      <td>B02512</td>\n",
       "    </tr>\n",
       "    <tr>\n",
       "      <th>...</th>\n",
       "      <td>...</td>\n",
       "      <td>...</td>\n",
       "      <td>...</td>\n",
       "      <td>...</td>\n",
       "    </tr>\n",
       "    <tr>\n",
       "      <th>652430</th>\n",
       "      <td>5/31/2014 23:45:00</td>\n",
       "      <td>40.73090</td>\n",
       "      <td>-74.00140</td>\n",
       "      <td>B02764</td>\n",
       "    </tr>\n",
       "    <tr>\n",
       "      <th>652431</th>\n",
       "      <td>5/31/2014 23:52:00</td>\n",
       "      <td>40.75280</td>\n",
       "      <td>-73.97980</td>\n",
       "      <td>B02764</td>\n",
       "    </tr>\n",
       "    <tr>\n",
       "      <th>652432</th>\n",
       "      <td>5/31/2014 23:55:00</td>\n",
       "      <td>40.71580</td>\n",
       "      <td>-73.95190</td>\n",
       "      <td>B02764</td>\n",
       "    </tr>\n",
       "    <tr>\n",
       "      <th>652433</th>\n",
       "      <td>5/31/2014 23:56:00</td>\n",
       "      <td>40.69610</td>\n",
       "      <td>-73.89970</td>\n",
       "      <td>B02764</td>\n",
       "    </tr>\n",
       "    <tr>\n",
       "      <th>652434</th>\n",
       "      <td>5/31/2014 23:59:00</td>\n",
       "      <td>40.73930</td>\n",
       "      <td>-73.99190</td>\n",
       "      <td>B02764</td>\n",
       "    </tr>\n",
       "  </tbody>\n",
       "</table>\n",
       "<p>4534327 rows × 4 columns</p>\n",
       "</div>"
      ],
      "text/plain": [
       "                 Date/Time      Lat       Lon    Base\n",
       "0         8/1/2014 0:03:00 40.73660 -73.99060  B02512\n",
       "1         8/1/2014 0:09:00 40.72600 -73.99180  B02512\n",
       "2         8/1/2014 0:12:00 40.72090 -74.05070  B02512\n",
       "3         8/1/2014 0:12:00 40.73870 -73.98560  B02512\n",
       "4         8/1/2014 0:12:00 40.73230 -74.00770  B02512\n",
       "...                    ...      ...       ...     ...\n",
       "652430  5/31/2014 23:45:00 40.73090 -74.00140  B02764\n",
       "652431  5/31/2014 23:52:00 40.75280 -73.97980  B02764\n",
       "652432  5/31/2014 23:55:00 40.71580 -73.95190  B02764\n",
       "652433  5/31/2014 23:56:00 40.69610 -73.89970  B02764\n",
       "652434  5/31/2014 23:59:00 40.73930 -73.99190  B02764\n",
       "\n",
       "[4534327 rows x 4 columns]"
      ]
     },
     "execution_count": 8,
     "metadata": {},
     "output_type": "execute_result"
    }
   ],
   "source": [
    "df2014"
   ]
  },
  {
   "cell_type": "code",
   "execution_count": 9,
   "metadata": {},
   "outputs": [
    {
     "data": {
      "text/plain": [
       "0    8/1/2014 0:03:00\n",
       "1    8/1/2014 0:09:00\n",
       "2    8/1/2014 0:12:00\n",
       "3    8/1/2014 0:12:00\n",
       "4    8/1/2014 0:12:00\n",
       "Name: Date/Time, dtype: object"
      ]
     },
     "execution_count": 9,
     "metadata": {},
     "output_type": "execute_result"
    }
   ],
   "source": [
    "df2014['Date/Time'].head(5)"
   ]
  },
  {
   "cell_type": "code",
   "execution_count": 10,
   "metadata": {},
   "outputs": [],
   "source": [
    "df2014['Date/Time'] = pd.to_datetime(df2014['Date/Time'], format=\"%m/%d/%Y %H:%M:%S\")"
   ]
  },
  {
   "cell_type": "code",
   "execution_count": 11,
   "metadata": {},
   "outputs": [],
   "source": [
    "df2014['DiaSemana'] = df2014['Date/Time'].dt.dayofweek\n",
    "df2014['DiaMes'] = df2014['Date/Time'].dt.day\n",
    "df2014['Hora'] = df2014['Date/Time'].dt.hour\n",
    "df2014['DiaSemana'] = df2014['Date/Time'].dt.day_name()\n",
    "df2014['Mes'] = df2014['Date/Time'].dt.month\n",
    "df2014['Minuto'] = df2014['Date/Time'].dt.minute"
   ]
  },
  {
   "cell_type": "code",
   "execution_count": 12,
   "metadata": {
    "scrolled": true
   },
   "outputs": [
    {
     "name": "stdout",
     "output_type": "stream",
     "text": [
      "82581\n"
     ]
    },
    {
     "data": {
      "text/html": [
       "<div>\n",
       "<style scoped>\n",
       "    .dataframe tbody tr th:only-of-type {\n",
       "        vertical-align: middle;\n",
       "    }\n",
       "\n",
       "    .dataframe tbody tr th {\n",
       "        vertical-align: top;\n",
       "    }\n",
       "\n",
       "    .dataframe thead th {\n",
       "        text-align: right;\n",
       "    }\n",
       "</style>\n",
       "<table border=\"1\" class=\"dataframe\">\n",
       "  <thead>\n",
       "    <tr style=\"text-align: right;\">\n",
       "      <th></th>\n",
       "      <th>Date/Time</th>\n",
       "      <th>Lat</th>\n",
       "      <th>Lon</th>\n",
       "      <th>Base</th>\n",
       "      <th>DiaSemana</th>\n",
       "      <th>DiaMes</th>\n",
       "      <th>Hora</th>\n",
       "      <th>Mes</th>\n",
       "      <th>Minuto</th>\n",
       "    </tr>\n",
       "  </thead>\n",
       "  <tbody>\n",
       "    <tr>\n",
       "      <th>0</th>\n",
       "      <td>2014-08-01 00:03:00</td>\n",
       "      <td>40.73660</td>\n",
       "      <td>-73.99060</td>\n",
       "      <td>B02512</td>\n",
       "      <td>Friday</td>\n",
       "      <td>1</td>\n",
       "      <td>0</td>\n",
       "      <td>8</td>\n",
       "      <td>3</td>\n",
       "    </tr>\n",
       "    <tr>\n",
       "      <th>1</th>\n",
       "      <td>2014-08-01 00:09:00</td>\n",
       "      <td>40.72600</td>\n",
       "      <td>-73.99180</td>\n",
       "      <td>B02512</td>\n",
       "      <td>Friday</td>\n",
       "      <td>1</td>\n",
       "      <td>0</td>\n",
       "      <td>8</td>\n",
       "      <td>9</td>\n",
       "    </tr>\n",
       "    <tr>\n",
       "      <th>2</th>\n",
       "      <td>2014-08-01 00:12:00</td>\n",
       "      <td>40.72090</td>\n",
       "      <td>-74.05070</td>\n",
       "      <td>B02512</td>\n",
       "      <td>Friday</td>\n",
       "      <td>1</td>\n",
       "      <td>0</td>\n",
       "      <td>8</td>\n",
       "      <td>12</td>\n",
       "    </tr>\n",
       "    <tr>\n",
       "      <th>3</th>\n",
       "      <td>2014-08-01 00:12:00</td>\n",
       "      <td>40.73870</td>\n",
       "      <td>-73.98560</td>\n",
       "      <td>B02512</td>\n",
       "      <td>Friday</td>\n",
       "      <td>1</td>\n",
       "      <td>0</td>\n",
       "      <td>8</td>\n",
       "      <td>12</td>\n",
       "    </tr>\n",
       "    <tr>\n",
       "      <th>4</th>\n",
       "      <td>2014-08-01 00:12:00</td>\n",
       "      <td>40.73230</td>\n",
       "      <td>-74.00770</td>\n",
       "      <td>B02512</td>\n",
       "      <td>Friday</td>\n",
       "      <td>1</td>\n",
       "      <td>0</td>\n",
       "      <td>8</td>\n",
       "      <td>12</td>\n",
       "    </tr>\n",
       "  </tbody>\n",
       "</table>\n",
       "</div>"
      ],
      "text/plain": [
       "            Date/Time      Lat       Lon    Base DiaSemana  DiaMes  Hora  Mes  \\\n",
       "0 2014-08-01 00:03:00 40.73660 -73.99060  B02512    Friday       1     0    8   \n",
       "1 2014-08-01 00:09:00 40.72600 -73.99180  B02512    Friday       1     0    8   \n",
       "2 2014-08-01 00:12:00 40.72090 -74.05070  B02512    Friday       1     0    8   \n",
       "3 2014-08-01 00:12:00 40.73870 -73.98560  B02512    Friday       1     0    8   \n",
       "4 2014-08-01 00:12:00 40.73230 -74.00770  B02512    Friday       1     0    8   \n",
       "\n",
       "   Minuto  \n",
       "0       3  \n",
       "1       9  \n",
       "2      12  \n",
       "3      12  \n",
       "4      12  "
      ]
     },
     "execution_count": 12,
     "metadata": {},
     "output_type": "execute_result"
    }
   ],
   "source": [
    "df2014.duplicated().sum()\n",
    "print(df2014.duplicated().sum())\n",
    "df2014.drop_duplicates(inplace=True)\n",
    "df2014.head(5)"
   ]
  },
  {
   "cell_type": "code",
   "execution_count": 13,
   "metadata": {},
   "outputs": [],
   "source": [
    "def esFinde(dia):\n",
    "    if dia == 'Sunday' or dia == 'Saturday' :\n",
    "        return 0\n",
    "    else:\n",
    "        return 1"
   ]
  },
  {
   "cell_type": "code",
   "execution_count": 14,
   "metadata": {},
   "outputs": [],
   "source": [
    "df2014['DiaLaboral'] = df2014['DiaSemana'].apply(esFinde)"
   ]
  },
  {
   "cell_type": "code",
   "execution_count": 15,
   "metadata": {},
   "outputs": [
    {
     "data": {
      "text/html": [
       "<div>\n",
       "<style scoped>\n",
       "    .dataframe tbody tr th:only-of-type {\n",
       "        vertical-align: middle;\n",
       "    }\n",
       "\n",
       "    .dataframe tbody tr th {\n",
       "        vertical-align: top;\n",
       "    }\n",
       "\n",
       "    .dataframe thead th {\n",
       "        text-align: right;\n",
       "    }\n",
       "</style>\n",
       "<table border=\"1\" class=\"dataframe\">\n",
       "  <thead>\n",
       "    <tr style=\"text-align: right;\">\n",
       "      <th></th>\n",
       "      <th>Date/Time</th>\n",
       "      <th>Lat</th>\n",
       "      <th>Lon</th>\n",
       "      <th>Base</th>\n",
       "      <th>DiaSemana</th>\n",
       "      <th>DiaMes</th>\n",
       "      <th>Hora</th>\n",
       "      <th>Mes</th>\n",
       "      <th>Minuto</th>\n",
       "      <th>DiaLaboral</th>\n",
       "    </tr>\n",
       "  </thead>\n",
       "  <tbody>\n",
       "    <tr>\n",
       "      <th>0</th>\n",
       "      <td>2014-08-01 00:03:00</td>\n",
       "      <td>40.73660</td>\n",
       "      <td>-73.99060</td>\n",
       "      <td>B02512</td>\n",
       "      <td>Friday</td>\n",
       "      <td>1</td>\n",
       "      <td>0</td>\n",
       "      <td>8</td>\n",
       "      <td>3</td>\n",
       "      <td>1</td>\n",
       "    </tr>\n",
       "    <tr>\n",
       "      <th>1</th>\n",
       "      <td>2014-08-01 00:09:00</td>\n",
       "      <td>40.72600</td>\n",
       "      <td>-73.99180</td>\n",
       "      <td>B02512</td>\n",
       "      <td>Friday</td>\n",
       "      <td>1</td>\n",
       "      <td>0</td>\n",
       "      <td>8</td>\n",
       "      <td>9</td>\n",
       "      <td>1</td>\n",
       "    </tr>\n",
       "    <tr>\n",
       "      <th>2</th>\n",
       "      <td>2014-08-01 00:12:00</td>\n",
       "      <td>40.72090</td>\n",
       "      <td>-74.05070</td>\n",
       "      <td>B02512</td>\n",
       "      <td>Friday</td>\n",
       "      <td>1</td>\n",
       "      <td>0</td>\n",
       "      <td>8</td>\n",
       "      <td>12</td>\n",
       "      <td>1</td>\n",
       "    </tr>\n",
       "    <tr>\n",
       "      <th>3</th>\n",
       "      <td>2014-08-01 00:12:00</td>\n",
       "      <td>40.73870</td>\n",
       "      <td>-73.98560</td>\n",
       "      <td>B02512</td>\n",
       "      <td>Friday</td>\n",
       "      <td>1</td>\n",
       "      <td>0</td>\n",
       "      <td>8</td>\n",
       "      <td>12</td>\n",
       "      <td>1</td>\n",
       "    </tr>\n",
       "    <tr>\n",
       "      <th>4</th>\n",
       "      <td>2014-08-01 00:12:00</td>\n",
       "      <td>40.73230</td>\n",
       "      <td>-74.00770</td>\n",
       "      <td>B02512</td>\n",
       "      <td>Friday</td>\n",
       "      <td>1</td>\n",
       "      <td>0</td>\n",
       "      <td>8</td>\n",
       "      <td>12</td>\n",
       "      <td>1</td>\n",
       "    </tr>\n",
       "  </tbody>\n",
       "</table>\n",
       "</div>"
      ],
      "text/plain": [
       "            Date/Time      Lat       Lon    Base DiaSemana  DiaMes  Hora  Mes  \\\n",
       "0 2014-08-01 00:03:00 40.73660 -73.99060  B02512    Friday       1     0    8   \n",
       "1 2014-08-01 00:09:00 40.72600 -73.99180  B02512    Friday       1     0    8   \n",
       "2 2014-08-01 00:12:00 40.72090 -74.05070  B02512    Friday       1     0    8   \n",
       "3 2014-08-01 00:12:00 40.73870 -73.98560  B02512    Friday       1     0    8   \n",
       "4 2014-08-01 00:12:00 40.73230 -74.00770  B02512    Friday       1     0    8   \n",
       "\n",
       "   Minuto  DiaLaboral  \n",
       "0       3           1  \n",
       "1       9           1  \n",
       "2      12           1  \n",
       "3      12           1  \n",
       "4      12           1  "
      ]
     },
     "execution_count": 15,
     "metadata": {},
     "output_type": "execute_result"
    }
   ],
   "source": [
    "df2014.head()"
   ]
  },
  {
   "cell_type": "code",
   "execution_count": 16,
   "metadata": {},
   "outputs": [],
   "source": [
    "df2014['DiaSemana'] = df2014['DiaSemana'].replace('Monday', '1')\n",
    "df2014['DiaSemana'] = df2014['DiaSemana'].replace('Tuesday', '2')\n",
    "df2014['DiaSemana'] = df2014['DiaSemana'].replace('Wednesday', '3')\n",
    "df2014['DiaSemana'] = df2014['DiaSemana'].replace('Thursday', '4')\n",
    "df2014['DiaSemana'] = df2014['DiaSemana'].replace('Friday', '5')\n",
    "df2014['DiaSemana'] = df2014['DiaSemana'].replace('Saturday', '6')\n",
    "df2014['DiaSemana'] = df2014['DiaSemana'].replace('Sunday', '7')"
   ]
  },
  {
   "cell_type": "code",
   "execution_count": 17,
   "metadata": {},
   "outputs": [
    {
     "data": {
      "text/plain": [
       "0         5\n",
       "1         5\n",
       "2         5\n",
       "3         5\n",
       "4         5\n",
       "         ..\n",
       "652430    6\n",
       "652431    6\n",
       "652432    6\n",
       "652433    6\n",
       "652434    6\n",
       "Name: DiaSemana, Length: 4451746, dtype: int32"
      ]
     },
     "execution_count": 17,
     "metadata": {},
     "output_type": "execute_result"
    }
   ],
   "source": [
    "df2014['DiaSemana'].astype(int)"
   ]
  },
  {
   "cell_type": "code",
   "execution_count": 18,
   "metadata": {},
   "outputs": [],
   "source": [
    "datos_2=df2014. groupby (['DiaMes','DiaSemana','Hora','DiaLaboral']). agg ({'Hora': ['count']}). reset_index ()"
   ]
  },
  {
   "cell_type": "code",
   "execution_count": 19,
   "metadata": {},
   "outputs": [],
   "source": [
    "datos_2.drop_duplicates(inplace=True)"
   ]
  },
  {
   "cell_type": "code",
   "execution_count": 20,
   "metadata": {},
   "outputs": [],
   "source": [
    "df_lluvias = pd.read_excel(\"Lluvia.xlsx\")\n",
    "X2 = pd.merge(df2014, df_lluvias, how='left', left_on=['Hora', 'Mes','DiaMes'], right_on=['hora', 'mes', 'Dia'])\n",
    "X2= X2.drop(['año', 'mes', 'Dia', 'hora', 'New York'], axis=1)"
   ]
  },
  {
   "cell_type": "code",
   "execution_count": 21,
   "metadata": {},
   "outputs": [
    {
     "data": {
      "text/html": [
       "<div>\n",
       "<style scoped>\n",
       "    .dataframe tbody tr th:only-of-type {\n",
       "        vertical-align: middle;\n",
       "    }\n",
       "\n",
       "    .dataframe tbody tr th {\n",
       "        vertical-align: top;\n",
       "    }\n",
       "\n",
       "    .dataframe thead th {\n",
       "        text-align: right;\n",
       "    }\n",
       "</style>\n",
       "<table border=\"1\" class=\"dataframe\">\n",
       "  <thead>\n",
       "    <tr style=\"text-align: right;\">\n",
       "      <th></th>\n",
       "      <th>Date/Time</th>\n",
       "      <th>Lat</th>\n",
       "      <th>Lon</th>\n",
       "      <th>Base</th>\n",
       "      <th>DiaSemana</th>\n",
       "      <th>DiaMes</th>\n",
       "      <th>Hora</th>\n",
       "      <th>Mes</th>\n",
       "      <th>Minuto</th>\n",
       "      <th>DiaLaboral</th>\n",
       "      <th>Lluvia</th>\n",
       "      <th>temp</th>\n",
       "    </tr>\n",
       "  </thead>\n",
       "  <tbody>\n",
       "    <tr>\n",
       "      <th>0</th>\n",
       "      <td>2014-08-01 00:03:00</td>\n",
       "      <td>40.73660</td>\n",
       "      <td>-73.99060</td>\n",
       "      <td>B02512</td>\n",
       "      <td>5</td>\n",
       "      <td>1</td>\n",
       "      <td>0</td>\n",
       "      <td>8</td>\n",
       "      <td>3</td>\n",
       "      <td>1</td>\n",
       "      <td>0</td>\n",
       "      <td>297.51000</td>\n",
       "    </tr>\n",
       "    <tr>\n",
       "      <th>1</th>\n",
       "      <td>2014-08-01 00:09:00</td>\n",
       "      <td>40.72600</td>\n",
       "      <td>-73.99180</td>\n",
       "      <td>B02512</td>\n",
       "      <td>5</td>\n",
       "      <td>1</td>\n",
       "      <td>0</td>\n",
       "      <td>8</td>\n",
       "      <td>9</td>\n",
       "      <td>1</td>\n",
       "      <td>0</td>\n",
       "      <td>297.51000</td>\n",
       "    </tr>\n",
       "    <tr>\n",
       "      <th>2</th>\n",
       "      <td>2014-08-01 00:12:00</td>\n",
       "      <td>40.72090</td>\n",
       "      <td>-74.05070</td>\n",
       "      <td>B02512</td>\n",
       "      <td>5</td>\n",
       "      <td>1</td>\n",
       "      <td>0</td>\n",
       "      <td>8</td>\n",
       "      <td>12</td>\n",
       "      <td>1</td>\n",
       "      <td>0</td>\n",
       "      <td>297.51000</td>\n",
       "    </tr>\n",
       "    <tr>\n",
       "      <th>3</th>\n",
       "      <td>2014-08-01 00:12:00</td>\n",
       "      <td>40.73870</td>\n",
       "      <td>-73.98560</td>\n",
       "      <td>B02512</td>\n",
       "      <td>5</td>\n",
       "      <td>1</td>\n",
       "      <td>0</td>\n",
       "      <td>8</td>\n",
       "      <td>12</td>\n",
       "      <td>1</td>\n",
       "      <td>0</td>\n",
       "      <td>297.51000</td>\n",
       "    </tr>\n",
       "    <tr>\n",
       "      <th>4</th>\n",
       "      <td>2014-08-01 00:12:00</td>\n",
       "      <td>40.73230</td>\n",
       "      <td>-74.00770</td>\n",
       "      <td>B02512</td>\n",
       "      <td>5</td>\n",
       "      <td>1</td>\n",
       "      <td>0</td>\n",
       "      <td>8</td>\n",
       "      <td>12</td>\n",
       "      <td>1</td>\n",
       "      <td>0</td>\n",
       "      <td>297.51000</td>\n",
       "    </tr>\n",
       "    <tr>\n",
       "      <th>...</th>\n",
       "      <td>...</td>\n",
       "      <td>...</td>\n",
       "      <td>...</td>\n",
       "      <td>...</td>\n",
       "      <td>...</td>\n",
       "      <td>...</td>\n",
       "      <td>...</td>\n",
       "      <td>...</td>\n",
       "      <td>...</td>\n",
       "      <td>...</td>\n",
       "      <td>...</td>\n",
       "      <td>...</td>\n",
       "    </tr>\n",
       "    <tr>\n",
       "      <th>4451741</th>\n",
       "      <td>2014-05-31 23:45:00</td>\n",
       "      <td>40.73090</td>\n",
       "      <td>-74.00140</td>\n",
       "      <td>B02764</td>\n",
       "      <td>6</td>\n",
       "      <td>31</td>\n",
       "      <td>23</td>\n",
       "      <td>5</td>\n",
       "      <td>45</td>\n",
       "      <td>0</td>\n",
       "      <td>0</td>\n",
       "      <td>292.80000</td>\n",
       "    </tr>\n",
       "    <tr>\n",
       "      <th>4451742</th>\n",
       "      <td>2014-05-31 23:52:00</td>\n",
       "      <td>40.75280</td>\n",
       "      <td>-73.97980</td>\n",
       "      <td>B02764</td>\n",
       "      <td>6</td>\n",
       "      <td>31</td>\n",
       "      <td>23</td>\n",
       "      <td>5</td>\n",
       "      <td>52</td>\n",
       "      <td>0</td>\n",
       "      <td>0</td>\n",
       "      <td>292.80000</td>\n",
       "    </tr>\n",
       "    <tr>\n",
       "      <th>4451743</th>\n",
       "      <td>2014-05-31 23:55:00</td>\n",
       "      <td>40.71580</td>\n",
       "      <td>-73.95190</td>\n",
       "      <td>B02764</td>\n",
       "      <td>6</td>\n",
       "      <td>31</td>\n",
       "      <td>23</td>\n",
       "      <td>5</td>\n",
       "      <td>55</td>\n",
       "      <td>0</td>\n",
       "      <td>0</td>\n",
       "      <td>292.80000</td>\n",
       "    </tr>\n",
       "    <tr>\n",
       "      <th>4451744</th>\n",
       "      <td>2014-05-31 23:56:00</td>\n",
       "      <td>40.69610</td>\n",
       "      <td>-73.89970</td>\n",
       "      <td>B02764</td>\n",
       "      <td>6</td>\n",
       "      <td>31</td>\n",
       "      <td>23</td>\n",
       "      <td>5</td>\n",
       "      <td>56</td>\n",
       "      <td>0</td>\n",
       "      <td>0</td>\n",
       "      <td>292.80000</td>\n",
       "    </tr>\n",
       "    <tr>\n",
       "      <th>4451745</th>\n",
       "      <td>2014-05-31 23:59:00</td>\n",
       "      <td>40.73930</td>\n",
       "      <td>-73.99190</td>\n",
       "      <td>B02764</td>\n",
       "      <td>6</td>\n",
       "      <td>31</td>\n",
       "      <td>23</td>\n",
       "      <td>5</td>\n",
       "      <td>59</td>\n",
       "      <td>0</td>\n",
       "      <td>0</td>\n",
       "      <td>292.80000</td>\n",
       "    </tr>\n",
       "  </tbody>\n",
       "</table>\n",
       "<p>4451746 rows × 12 columns</p>\n",
       "</div>"
      ],
      "text/plain": [
       "                  Date/Time      Lat       Lon    Base DiaSemana  DiaMes  \\\n",
       "0       2014-08-01 00:03:00 40.73660 -73.99060  B02512         5       1   \n",
       "1       2014-08-01 00:09:00 40.72600 -73.99180  B02512         5       1   \n",
       "2       2014-08-01 00:12:00 40.72090 -74.05070  B02512         5       1   \n",
       "3       2014-08-01 00:12:00 40.73870 -73.98560  B02512         5       1   \n",
       "4       2014-08-01 00:12:00 40.73230 -74.00770  B02512         5       1   \n",
       "...                     ...      ...       ...     ...       ...     ...   \n",
       "4451741 2014-05-31 23:45:00 40.73090 -74.00140  B02764         6      31   \n",
       "4451742 2014-05-31 23:52:00 40.75280 -73.97980  B02764         6      31   \n",
       "4451743 2014-05-31 23:55:00 40.71580 -73.95190  B02764         6      31   \n",
       "4451744 2014-05-31 23:56:00 40.69610 -73.89970  B02764         6      31   \n",
       "4451745 2014-05-31 23:59:00 40.73930 -73.99190  B02764         6      31   \n",
       "\n",
       "         Hora  Mes  Minuto  DiaLaboral  Lluvia      temp  \n",
       "0           0    8       3           1       0 297.51000  \n",
       "1           0    8       9           1       0 297.51000  \n",
       "2           0    8      12           1       0 297.51000  \n",
       "3           0    8      12           1       0 297.51000  \n",
       "4           0    8      12           1       0 297.51000  \n",
       "...       ...  ...     ...         ...     ...       ...  \n",
       "4451741    23    5      45           0       0 292.80000  \n",
       "4451742    23    5      52           0       0 292.80000  \n",
       "4451743    23    5      55           0       0 292.80000  \n",
       "4451744    23    5      56           0       0 292.80000  \n",
       "4451745    23    5      59           0       0 292.80000  \n",
       "\n",
       "[4451746 rows x 12 columns]"
      ]
     },
     "execution_count": 21,
     "metadata": {},
     "output_type": "execute_result"
    }
   ],
   "source": [
    "X2"
   ]
  },
  {
   "cell_type": "code",
   "execution_count": 49,
   "metadata": {},
   "outputs": [],
   "source": [
    "datos_2=X2.groupby(['DiaMes','DiaSemana','Hora','DiaLaboral', 'Lluvia', 'temp','Mes']).agg({'Date/Time': ['count']}).reset_index()"
   ]
  },
  {
   "cell_type": "markdown",
   "metadata": {},
   "source": [
    "### Cluster"
   ]
  },
  {
   "cell_type": "code",
   "execution_count": 51,
   "metadata": {},
   "outputs": [],
   "source": [
    "df_lat_long = df2014[['Lat', 'Lon']]"
   ]
  },
  {
   "cell_type": "code",
   "execution_count": 54,
   "metadata": {},
   "outputs": [
    {
     "ename": "KeyboardInterrupt",
     "evalue": "",
     "output_type": "error",
     "traceback": [
      "\u001b[1;31m---------------------------------------------------------------------------\u001b[0m",
      "\u001b[1;31mKeyboardInterrupt\u001b[0m                         Traceback (most recent call last)",
      "\u001b[1;32m<ipython-input-54-7dd005f35b0f>\u001b[0m in \u001b[0;36m<module>\u001b[1;34m\u001b[0m\n\u001b[0;32m      3\u001b[0m \u001b[1;32mfor\u001b[0m \u001b[0mi\u001b[0m \u001b[1;32min\u001b[0m \u001b[0mrange\u001b[0m\u001b[1;33m(\u001b[0m\u001b[1;36m2\u001b[0m\u001b[1;33m,\u001b[0m \u001b[1;36m11\u001b[0m\u001b[1;33m)\u001b[0m\u001b[1;33m:\u001b[0m\u001b[1;33m\u001b[0m\u001b[1;33m\u001b[0m\u001b[0m\n\u001b[0;32m      4\u001b[0m     \u001b[0mkm\u001b[0m \u001b[1;33m=\u001b[0m \u001b[0mKMeans\u001b[0m\u001b[1;33m(\u001b[0m\u001b[0mn_clusters\u001b[0m \u001b[1;33m=\u001b[0m \u001b[0mi\u001b[0m\u001b[1;33m,\u001b[0m \u001b[0mrandom_state\u001b[0m \u001b[1;33m=\u001b[0m \u001b[1;36m0\u001b[0m\u001b[1;33m)\u001b[0m\u001b[1;33m\u001b[0m\u001b[1;33m\u001b[0m\u001b[0m\n\u001b[1;32m----> 5\u001b[1;33m     \u001b[0mkm\u001b[0m\u001b[1;33m.\u001b[0m\u001b[0mfit\u001b[0m\u001b[1;33m(\u001b[0m\u001b[0mdf_lat_long\u001b[0m\u001b[1;33m)\u001b[0m\u001b[1;33m\u001b[0m\u001b[1;33m\u001b[0m\u001b[0m\n\u001b[0m\u001b[0;32m      6\u001b[0m     \u001b[0mscores\u001b[0m\u001b[1;33m.\u001b[0m\u001b[0mappend\u001b[0m\u001b[1;33m(\u001b[0m\u001b[0mkm\u001b[0m\u001b[1;33m.\u001b[0m\u001b[0minertia_\u001b[0m\u001b[1;33m)\u001b[0m\u001b[1;33m\u001b[0m\u001b[1;33m\u001b[0m\u001b[0m\n",
      "\u001b[1;32mC:\\ProgramData\\Anaconda3\\lib\\site-packages\\sklearn\\cluster\\_kmeans.py\u001b[0m in \u001b[0;36mfit\u001b[1;34m(self, X, y, sample_weight)\u001b[0m\n\u001b[0;32m   1177\u001b[0m         \u001b[1;32mfor\u001b[0m \u001b[0mi\u001b[0m \u001b[1;32min\u001b[0m \u001b[0mrange\u001b[0m\u001b[1;33m(\u001b[0m\u001b[0mself\u001b[0m\u001b[1;33m.\u001b[0m\u001b[0m_n_init\u001b[0m\u001b[1;33m)\u001b[0m\u001b[1;33m:\u001b[0m\u001b[1;33m\u001b[0m\u001b[1;33m\u001b[0m\u001b[0m\n\u001b[0;32m   1178\u001b[0m             \u001b[1;31m# Initialize centers\u001b[0m\u001b[1;33m\u001b[0m\u001b[1;33m\u001b[0m\u001b[1;33m\u001b[0m\u001b[0m\n\u001b[1;32m-> 1179\u001b[1;33m             centers_init = self._init_centroids(\n\u001b[0m\u001b[0;32m   1180\u001b[0m                 \u001b[0mX\u001b[0m\u001b[1;33m,\u001b[0m \u001b[0mx_squared_norms\u001b[0m\u001b[1;33m=\u001b[0m\u001b[0mx_squared_norms\u001b[0m\u001b[1;33m,\u001b[0m \u001b[0minit\u001b[0m\u001b[1;33m=\u001b[0m\u001b[0minit\u001b[0m\u001b[1;33m,\u001b[0m \u001b[0mrandom_state\u001b[0m\u001b[1;33m=\u001b[0m\u001b[0mrandom_state\u001b[0m\u001b[1;33m\u001b[0m\u001b[1;33m\u001b[0m\u001b[0m\n\u001b[0;32m   1181\u001b[0m             )\n",
      "\u001b[1;32mC:\\ProgramData\\Anaconda3\\lib\\site-packages\\sklearn\\cluster\\_kmeans.py\u001b[0m in \u001b[0;36m_init_centroids\u001b[1;34m(self, X, x_squared_norms, init, random_state, init_size)\u001b[0m\n\u001b[0;32m   1088\u001b[0m \u001b[1;33m\u001b[0m\u001b[0m\n\u001b[0;32m   1089\u001b[0m         \u001b[1;32mif\u001b[0m \u001b[0misinstance\u001b[0m\u001b[1;33m(\u001b[0m\u001b[0minit\u001b[0m\u001b[1;33m,\u001b[0m \u001b[0mstr\u001b[0m\u001b[1;33m)\u001b[0m \u001b[1;32mand\u001b[0m \u001b[0minit\u001b[0m \u001b[1;33m==\u001b[0m \u001b[1;34m\"k-means++\"\u001b[0m\u001b[1;33m:\u001b[0m\u001b[1;33m\u001b[0m\u001b[1;33m\u001b[0m\u001b[0m\n\u001b[1;32m-> 1090\u001b[1;33m             centers, _ = _kmeans_plusplus(\n\u001b[0m\u001b[0;32m   1091\u001b[0m                 \u001b[0mX\u001b[0m\u001b[1;33m,\u001b[0m\u001b[1;33m\u001b[0m\u001b[1;33m\u001b[0m\u001b[0m\n\u001b[0;32m   1092\u001b[0m                 \u001b[0mn_clusters\u001b[0m\u001b[1;33m,\u001b[0m\u001b[1;33m\u001b[0m\u001b[1;33m\u001b[0m\u001b[0m\n",
      "\u001b[1;32mC:\\ProgramData\\Anaconda3\\lib\\site-packages\\sklearn\\cluster\\_kmeans.py\u001b[0m in \u001b[0;36m_kmeans_plusplus\u001b[1;34m(X, n_clusters, x_squared_norms, random_state, n_local_trials)\u001b[0m\n\u001b[0;32m    221\u001b[0m \u001b[1;33m\u001b[0m\u001b[0m\n\u001b[0;32m    222\u001b[0m         \u001b[1;31m# update closest distances squared and potential for each candidate\u001b[0m\u001b[1;33m\u001b[0m\u001b[1;33m\u001b[0m\u001b[1;33m\u001b[0m\u001b[0m\n\u001b[1;32m--> 223\u001b[1;33m         \u001b[0mnp\u001b[0m\u001b[1;33m.\u001b[0m\u001b[0mminimum\u001b[0m\u001b[1;33m(\u001b[0m\u001b[0mclosest_dist_sq\u001b[0m\u001b[1;33m,\u001b[0m \u001b[0mdistance_to_candidates\u001b[0m\u001b[1;33m,\u001b[0m \u001b[0mout\u001b[0m\u001b[1;33m=\u001b[0m\u001b[0mdistance_to_candidates\u001b[0m\u001b[1;33m)\u001b[0m\u001b[1;33m\u001b[0m\u001b[1;33m\u001b[0m\u001b[0m\n\u001b[0m\u001b[0;32m    224\u001b[0m         \u001b[0mcandidates_pot\u001b[0m \u001b[1;33m=\u001b[0m \u001b[0mdistance_to_candidates\u001b[0m\u001b[1;33m.\u001b[0m\u001b[0msum\u001b[0m\u001b[1;33m(\u001b[0m\u001b[0maxis\u001b[0m\u001b[1;33m=\u001b[0m\u001b[1;36m1\u001b[0m\u001b[1;33m)\u001b[0m\u001b[1;33m\u001b[0m\u001b[1;33m\u001b[0m\u001b[0m\n\u001b[0;32m    225\u001b[0m \u001b[1;33m\u001b[0m\u001b[0m\n",
      "\u001b[1;31mKeyboardInterrupt\u001b[0m: "
     ]
    }
   ],
   "source": [
    "scores = []\n",
    "\n",
    "for i in range(2, 11):\n",
    "    km = KMeans(n_clusters = i, random_state = 0)\n",
    "    km.fit(df_lat_long)\n",
    "    scores.append(km.inertia_)"
   ]
  },
  {
   "cell_type": "code",
   "execution_count": null,
   "metadata": {},
   "outputs": [],
   "source": [
    "plt.figure(figsize=(10,5))\n",
    "plt.plot(range(2,11), scores, 'bx-')\n",
    "plt.xlabel('k')\n",
    "plt.ylabel('Inertia')\n",
    "plt.title('Metodo del codo')\n",
    "plt.show()"
   ]
  },
  {
   "cell_type": "code",
   "execution_count": null,
   "metadata": {},
   "outputs": [],
   "source": [
    "from sklearn.cluster import KMeans\n",
    "kmeans = KMeans(n_clusters=6, random_state=0)\n",
    "kmeans.fit(df_lat_long)\n",
    "y_kmeans = kmeans.predict(df_lat_long)"
   ]
  },
  {
   "cell_type": "code",
   "execution_count": null,
   "metadata": {},
   "outputs": [],
   "source": [
    "df2014['cluster'] = y_kmeans"
   ]
  },
  {
   "cell_type": "code",
   "execution_count": null,
   "metadata": {},
   "outputs": [],
   "source": [
    "df_cluster = pd.get_dummies(df2014['cluster'],prefix='cluster')\n",
    "df2014['cluster0'] = df_cluster['cluster_0']\n",
    "df2014['cluster1'] = df_cluster['cluster_1']\n",
    "df2014['cluster2'] = df_cluster['cluster_2']\n",
    "df2014['cluster3'] = df_cluster['cluster_3']\n",
    "df2014['cluster4'] = df_cluster['cluster_4']\n",
    "df2014['cluster5'] = df_cluster['cluster_5']"
   ]
  },
  {
   "cell_type": "code",
   "execution_count": null,
   "metadata": {},
   "outputs": [],
   "source": []
  },
  {
   "cell_type": "code",
   "execution_count": 24,
   "metadata": {},
   "outputs": [],
   "source": [
    "#datos_2.to_stata('DFdatos2.dta')"
   ]
  },
  {
   "cell_type": "code",
   "execution_count": 25,
   "metadata": {},
   "outputs": [],
   "source": [
    "#datos_2=pd.read_stata('C:/Users/Cristian/Desktop/TAREA ANALÍTICA/uber/DFdatos2.dta')"
   ]
  },
  {
   "cell_type": "code",
   "execution_count": 26,
   "metadata": {},
   "outputs": [
    {
     "data": {
      "text/html": [
       "<div>\n",
       "<style scoped>\n",
       "    .dataframe tbody tr th:only-of-type {\n",
       "        vertical-align: middle;\n",
       "    }\n",
       "\n",
       "    .dataframe tbody tr th {\n",
       "        vertical-align: top;\n",
       "    }\n",
       "\n",
       "    .dataframe thead tr th {\n",
       "        text-align: left;\n",
       "    }\n",
       "</style>\n",
       "<table border=\"1\" class=\"dataframe\">\n",
       "  <thead>\n",
       "    <tr>\n",
       "      <th></th>\n",
       "      <th>DiaMes</th>\n",
       "      <th>DiaSemana</th>\n",
       "      <th>Hora</th>\n",
       "      <th>DiaLaboral</th>\n",
       "      <th>Lluvia</th>\n",
       "      <th>temp</th>\n",
       "      <th>Mes</th>\n",
       "      <th>Date/Time</th>\n",
       "    </tr>\n",
       "    <tr>\n",
       "      <th></th>\n",
       "      <th></th>\n",
       "      <th></th>\n",
       "      <th></th>\n",
       "      <th></th>\n",
       "      <th></th>\n",
       "      <th></th>\n",
       "      <th></th>\n",
       "      <th>count</th>\n",
       "    </tr>\n",
       "  </thead>\n",
       "  <tbody>\n",
       "    <tr>\n",
       "      <th>0</th>\n",
       "      <td>1</td>\n",
       "      <td>1</td>\n",
       "      <td>0</td>\n",
       "      <td>1</td>\n",
       "      <td>0</td>\n",
       "      <td>298.01000</td>\n",
       "      <td>9</td>\n",
       "      <td>682</td>\n",
       "    </tr>\n",
       "    <tr>\n",
       "      <th>1</th>\n",
       "      <td>1</td>\n",
       "      <td>1</td>\n",
       "      <td>1</td>\n",
       "      <td>1</td>\n",
       "      <td>0</td>\n",
       "      <td>297.23000</td>\n",
       "      <td>9</td>\n",
       "      <td>480</td>\n",
       "    </tr>\n",
       "    <tr>\n",
       "      <th>2</th>\n",
       "      <td>1</td>\n",
       "      <td>1</td>\n",
       "      <td>2</td>\n",
       "      <td>1</td>\n",
       "      <td>0</td>\n",
       "      <td>297.23000</td>\n",
       "      <td>9</td>\n",
       "      <td>356</td>\n",
       "    </tr>\n",
       "    <tr>\n",
       "      <th>3</th>\n",
       "      <td>1</td>\n",
       "      <td>1</td>\n",
       "      <td>3</td>\n",
       "      <td>1</td>\n",
       "      <td>0</td>\n",
       "      <td>296.81000</td>\n",
       "      <td>9</td>\n",
       "      <td>329</td>\n",
       "    </tr>\n",
       "    <tr>\n",
       "      <th>4</th>\n",
       "      <td>1</td>\n",
       "      <td>1</td>\n",
       "      <td>4</td>\n",
       "      <td>1</td>\n",
       "      <td>0</td>\n",
       "      <td>296.72000</td>\n",
       "      <td>9</td>\n",
       "      <td>260</td>\n",
       "    </tr>\n",
       "    <tr>\n",
       "      <th>...</th>\n",
       "      <td>...</td>\n",
       "      <td>...</td>\n",
       "      <td>...</td>\n",
       "      <td>...</td>\n",
       "      <td>...</td>\n",
       "      <td>...</td>\n",
       "      <td>...</td>\n",
       "      <td>...</td>\n",
       "    </tr>\n",
       "    <tr>\n",
       "      <th>4386</th>\n",
       "      <td>31</td>\n",
       "      <td>7</td>\n",
       "      <td>19</td>\n",
       "      <td>0</td>\n",
       "      <td>1</td>\n",
       "      <td>303.45000</td>\n",
       "      <td>8</td>\n",
       "      <td>1315</td>\n",
       "    </tr>\n",
       "    <tr>\n",
       "      <th>4387</th>\n",
       "      <td>31</td>\n",
       "      <td>7</td>\n",
       "      <td>20</td>\n",
       "      <td>0</td>\n",
       "      <td>0</td>\n",
       "      <td>302.18000</td>\n",
       "      <td>8</td>\n",
       "      <td>1223</td>\n",
       "    </tr>\n",
       "    <tr>\n",
       "      <th>4388</th>\n",
       "      <td>31</td>\n",
       "      <td>7</td>\n",
       "      <td>21</td>\n",
       "      <td>0</td>\n",
       "      <td>0</td>\n",
       "      <td>299.70000</td>\n",
       "      <td>8</td>\n",
       "      <td>1395</td>\n",
       "    </tr>\n",
       "    <tr>\n",
       "      <th>4389</th>\n",
       "      <td>31</td>\n",
       "      <td>7</td>\n",
       "      <td>22</td>\n",
       "      <td>0</td>\n",
       "      <td>0</td>\n",
       "      <td>298.71000</td>\n",
       "      <td>8</td>\n",
       "      <td>1325</td>\n",
       "    </tr>\n",
       "    <tr>\n",
       "      <th>4390</th>\n",
       "      <td>31</td>\n",
       "      <td>7</td>\n",
       "      <td>23</td>\n",
       "      <td>0</td>\n",
       "      <td>0</td>\n",
       "      <td>298.53000</td>\n",
       "      <td>8</td>\n",
       "      <td>1012</td>\n",
       "    </tr>\n",
       "  </tbody>\n",
       "</table>\n",
       "<p>4391 rows × 8 columns</p>\n",
       "</div>"
      ],
      "text/plain": [
       "     DiaMes DiaSemana Hora DiaLaboral Lluvia      temp Mes Date/Time\n",
       "                                                               count\n",
       "0         1         1    0          1      0 298.01000   9       682\n",
       "1         1         1    1          1      0 297.23000   9       480\n",
       "2         1         1    2          1      0 297.23000   9       356\n",
       "3         1         1    3          1      0 296.81000   9       329\n",
       "4         1         1    4          1      0 296.72000   9       260\n",
       "...     ...       ...  ...        ...    ...       ...  ..       ...\n",
       "4386     31         7   19          0      1 303.45000   8      1315\n",
       "4387     31         7   20          0      0 302.18000   8      1223\n",
       "4388     31         7   21          0      0 299.70000   8      1395\n",
       "4389     31         7   22          0      0 298.71000   8      1325\n",
       "4390     31         7   23          0      0 298.53000   8      1012\n",
       "\n",
       "[4391 rows x 8 columns]"
      ]
     },
     "execution_count": 26,
     "metadata": {},
     "output_type": "execute_result"
    }
   ],
   "source": [
    "datos_2"
   ]
  },
  {
   "cell_type": "code",
   "execution_count": 27,
   "metadata": {},
   "outputs": [],
   "source": [
    "datos_2= datos_2.rename(columns={'Date/Time':'flujo_hora'})"
   ]
  },
  {
   "cell_type": "code",
   "execution_count": 28,
   "metadata": {},
   "outputs": [
    {
     "data": {
      "image/png": "[encoded data removed]",
      "text/plain": [
       "<Figure size 1080x720 with 1 Axes>"
      ]
     },
     "metadata": {},
     "output_type": "display_data"
    }
   ],
   "source": [
    "# Correlación entre columnas numéricas\n",
    "data = datos_2.corr(method='pearson')\n",
    "plt.figure(figsize=(15, 10))\n",
    "sns.heatmap(data[0:9], annot=True,fmt='.0', linewidths=.1, cmap=\"YlGnBu\", cbar=False)\n",
    "plt.show()"
   ]
  },
  {
   "cell_type": "markdown",
   "metadata": {},
   "source": [
    "# OLS"
   ]
  },
  {
   "cell_type": "code",
   "execution_count": 31,
   "metadata": {},
   "outputs": [
    {
     "name": "stdout",
     "output_type": "stream",
     "text": [
      "                            OLS Regression Results                            \n",
      "==============================================================================\n",
      "Dep. Variable:             flujo_hora   R-squared:                       0.510\n",
      "Model:                            OLS   Adj. R-squared:                  0.510\n",
      "Method:                 Least Squares   F-statistic:                     761.6\n",
      "Date:                Fri, 10 Jun 2022   Prob (F-statistic):               0.00\n",
      "Time:                        18:00:45   Log-Likelihood:                -32978.\n",
      "No. Observations:                4391   AIC:                         6.597e+04\n",
      "Df Residuals:                    4384   BIC:                         6.601e+04\n",
      "Df Model:                           6                                         \n",
      "Covariance Type:            nonrobust                                         \n",
      "==============================================================================\n",
      "                 coef    std err          t      P>|t|      [0.025      0.975]\n",
      "------------------------------------------------------------------------------\n",
      "Intercept   1049.6243    355.575      2.952      0.003     352.519    1746.730\n",
      "DiaMes         2.7927      0.759      3.680      0.000       1.305       4.281\n",
      "Hora          59.1375      1.029     57.477      0.000      57.120      61.155\n",
      "DiaLaboral   173.9604     14.816     11.741      0.000     144.914     203.007\n",
      "Lluvia        70.7883     18.072      3.917      0.000      35.358     106.219\n",
      "temp          -5.8826      1.277     -4.607      0.000      -8.386      -3.379\n",
      "Mes          126.4692      4.606     27.460      0.000     117.440     135.498\n",
      "==============================================================================\n",
      "Omnibus:                      161.963   Durbin-Watson:                   0.664\n",
      "Prob(Omnibus):                  0.000   Jarque-Bera (JB):              313.707\n",
      "Skew:                           0.272   Prob(JB):                     7.57e-69\n",
      "Kurtosis:                       4.191   Cond. No.                     1.56e+04\n",
      "==============================================================================\n",
      "\n",
      "Notes:\n",
      "[1] Standard Errors assume that the covariance matrix of the errors is correctly specified.\n",
      "[2] The condition number is large, 1.56e+04. This might indicate that there are\n",
      "strong multicollinearity or other numerical problems.\n"
     ]
    }
   ],
   "source": [
    "import statsmodels.formula.api as smf\n",
    "reg = smf.ols('flujo_hora ~ DiaMes + Hora + DiaLaboral + Lluvia + temp + Mes',data=datos_2)\n",
    "modelo = reg.fit()\n",
    "print(modelo.summary())"
   ]
  },
  {
   "cell_type": "code",
   "execution_count": 34,
   "metadata": {},
   "outputs": [],
   "source": [
    "# División de los datos en train y test\n",
    "# ==============================================================================\n",
    "X = datos_2.drop(columns='flujo_hora')\n",
    "y = datos_2[('flujo_hora')]\n",
    "\n",
    "X_train, X_test, y_train, y_test = train_test_split(\n",
    "                                        X,\n",
    "                                        y.values.reshape(-1,1),\n",
    "                                        train_size   = 0.7,\n",
    "                                        random_state = 1234,\n",
    "                                        shuffle      = True\n",
    "                                    )"
   ]
  },
  {
   "cell_type": "code",
   "execution_count": 35,
   "metadata": {},
   "outputs": [
    {
     "data": {
      "text/plain": [
       "LinearRegression(normalize=True)"
      ]
     },
     "execution_count": 35,
     "metadata": {},
     "output_type": "execute_result"
    }
   ],
   "source": [
    "# Creación y entrenamiento del modelo\n",
    "# ==============================================================================\n",
    "modelo = LinearRegression(normalize=True)\n",
    "modelo.fit(X = X_train, y = y_train)"
   ]
  },
  {
   "cell_type": "code",
   "execution_count": 41,
   "metadata": {},
   "outputs": [
    {
     "name": "stdout",
     "output_type": "stream",
     "text": [
      "Intercept: [836.25746446]\n",
      "Coeficiente: [(('DiaMes', ''), 2.11094470337558), (('DiaSemana', ''), 62.00640764901578), (('Hora', ''), 59.200139368517256), (('DiaLaboral', ''), 375.5403832824105), (('Lluvia', ''), 49.50385092168694), (('temp', ''), -6.396871951449842), (('Mes', ''), 124.14137159045237)]\n",
      "Coeficiente de determinación R^2: 0.5252057071754929\n"
     ]
    }
   ],
   "source": [
    "# Información del modelo\n",
    "# ==============================================================================\n",
    "print(\"Intercept:\", modelo.intercept_)\n",
    "print(\"Coeficiente:\", list(zip(X.columns, modelo.coef_.flatten(), )))\n",
    "print(\"Coeficiente de determinación R^2:\", modelo.score(X, y))"
   ]
  },
  {
   "cell_type": "markdown",
   "metadata": {},
   "source": [
    "Una vez entrenado el modelo, se evalúa la capacidad predictiva empleando el conjunto de test."
   ]
  },
  {
   "cell_type": "code",
   "execution_count": 42,
   "metadata": {},
   "outputs": [
    {
     "ename": "AttributeError",
     "evalue": "'MultiIndex' object has no attribute '_data'",
     "output_type": "error",
     "traceback": [
      "\u001b[1;31m---------------------------------------------------------------------------\u001b[0m",
      "\u001b[1;31mAttributeError\u001b[0m                            Traceback (most recent call last)",
      "\u001b[1;32m<ipython-input-42-80e2ba41978b>\u001b[0m in \u001b[0;36m<module>\u001b[1;34m\u001b[0m\n\u001b[0;32m      1\u001b[0m \u001b[1;31m# Coeficientes del modelo\u001b[0m\u001b[1;33m\u001b[0m\u001b[1;33m\u001b[0m\u001b[1;33m\u001b[0m\u001b[0m\n\u001b[0;32m      2\u001b[0m \u001b[1;31m# ==============================================================================\u001b[0m\u001b[1;33m\u001b[0m\u001b[1;33m\u001b[0m\u001b[1;33m\u001b[0m\u001b[0m\n\u001b[1;32m----> 3\u001b[1;33m df_coeficientes = pd.DataFrame(\n\u001b[0m\u001b[0;32m      4\u001b[0m                         {'predictor': X_train.columns,\n\u001b[0;32m      5\u001b[0m                          'coef': modelo.coef_.flatten()}\n",
      "\u001b[1;32mC:\\ProgramData\\Anaconda3\\lib\\site-packages\\pandas\\core\\frame.py\u001b[0m in \u001b[0;36m__init__\u001b[1;34m(self, data, index, columns, dtype, copy)\u001b[0m\n\u001b[0;32m    466\u001b[0m \u001b[1;33m\u001b[0m\u001b[0m\n\u001b[0;32m    467\u001b[0m         \u001b[1;32melif\u001b[0m \u001b[0misinstance\u001b[0m\u001b[1;33m(\u001b[0m\u001b[0mdata\u001b[0m\u001b[1;33m,\u001b[0m \u001b[0mdict\u001b[0m\u001b[1;33m)\u001b[0m\u001b[1;33m:\u001b[0m\u001b[1;33m\u001b[0m\u001b[1;33m\u001b[0m\u001b[0m\n\u001b[1;32m--> 468\u001b[1;33m             \u001b[0mmgr\u001b[0m \u001b[1;33m=\u001b[0m \u001b[0minit_dict\u001b[0m\u001b[1;33m(\u001b[0m\u001b[0mdata\u001b[0m\u001b[1;33m,\u001b[0m \u001b[0mindex\u001b[0m\u001b[1;33m,\u001b[0m \u001b[0mcolumns\u001b[0m\u001b[1;33m,\u001b[0m \u001b[0mdtype\u001b[0m\u001b[1;33m=\u001b[0m\u001b[0mdtype\u001b[0m\u001b[1;33m)\u001b[0m\u001b[1;33m\u001b[0m\u001b[1;33m\u001b[0m\u001b[0m\n\u001b[0m\u001b[0;32m    469\u001b[0m         \u001b[1;32melif\u001b[0m \u001b[0misinstance\u001b[0m\u001b[1;33m(\u001b[0m\u001b[0mdata\u001b[0m\u001b[1;33m,\u001b[0m \u001b[0mma\u001b[0m\u001b[1;33m.\u001b[0m\u001b[0mMaskedArray\u001b[0m\u001b[1;33m)\u001b[0m\u001b[1;33m:\u001b[0m\u001b[1;33m\u001b[0m\u001b[1;33m\u001b[0m\u001b[0m\n\u001b[0;32m    470\u001b[0m             \u001b[1;32mimport\u001b[0m \u001b[0mnumpy\u001b[0m\u001b[1;33m.\u001b[0m\u001b[0mma\u001b[0m\u001b[1;33m.\u001b[0m\u001b[0mmrecords\u001b[0m \u001b[1;32mas\u001b[0m \u001b[0mmrecords\u001b[0m\u001b[1;33m\u001b[0m\u001b[1;33m\u001b[0m\u001b[0m\n",
      "\u001b[1;32mC:\\ProgramData\\Anaconda3\\lib\\site-packages\\pandas\\core\\internals\\construction.py\u001b[0m in \u001b[0;36minit_dict\u001b[1;34m(data, index, columns, dtype)\u001b[0m\n\u001b[0;32m    275\u001b[0m         \u001b[1;31m# GH#24096 need copy to be deep for datetime64tz case\u001b[0m\u001b[1;33m\u001b[0m\u001b[1;33m\u001b[0m\u001b[1;33m\u001b[0m\u001b[0m\n\u001b[0;32m    276\u001b[0m         \u001b[1;31m# TODO: See if we can avoid these copies\u001b[0m\u001b[1;33m\u001b[0m\u001b[1;33m\u001b[0m\u001b[1;33m\u001b[0m\u001b[0m\n\u001b[1;32m--> 277\u001b[1;33m         arrays = [\n\u001b[0m\u001b[0;32m    278\u001b[0m             \u001b[0marr\u001b[0m \u001b[1;32mif\u001b[0m \u001b[1;32mnot\u001b[0m \u001b[0misinstance\u001b[0m\u001b[1;33m(\u001b[0m\u001b[0marr\u001b[0m\u001b[1;33m,\u001b[0m \u001b[0mABCIndexClass\u001b[0m\u001b[1;33m)\u001b[0m \u001b[1;32melse\u001b[0m \u001b[0marr\u001b[0m\u001b[1;33m.\u001b[0m\u001b[0m_data\u001b[0m \u001b[1;32mfor\u001b[0m \u001b[0marr\u001b[0m \u001b[1;32min\u001b[0m \u001b[0marrays\u001b[0m\u001b[1;33m\u001b[0m\u001b[1;33m\u001b[0m\u001b[0m\n\u001b[0;32m    279\u001b[0m         ]\n",
      "\u001b[1;32mC:\\ProgramData\\Anaconda3\\lib\\site-packages\\pandas\\core\\internals\\construction.py\u001b[0m in \u001b[0;36m<listcomp>\u001b[1;34m(.0)\u001b[0m\n\u001b[0;32m    276\u001b[0m         \u001b[1;31m# TODO: See if we can avoid these copies\u001b[0m\u001b[1;33m\u001b[0m\u001b[1;33m\u001b[0m\u001b[1;33m\u001b[0m\u001b[0m\n\u001b[0;32m    277\u001b[0m         arrays = [\n\u001b[1;32m--> 278\u001b[1;33m             \u001b[0marr\u001b[0m \u001b[1;32mif\u001b[0m \u001b[1;32mnot\u001b[0m \u001b[0misinstance\u001b[0m\u001b[1;33m(\u001b[0m\u001b[0marr\u001b[0m\u001b[1;33m,\u001b[0m \u001b[0mABCIndexClass\u001b[0m\u001b[1;33m)\u001b[0m \u001b[1;32melse\u001b[0m \u001b[0marr\u001b[0m\u001b[1;33m.\u001b[0m\u001b[0m_data\u001b[0m \u001b[1;32mfor\u001b[0m \u001b[0marr\u001b[0m \u001b[1;32min\u001b[0m \u001b[0marrays\u001b[0m\u001b[1;33m\u001b[0m\u001b[1;33m\u001b[0m\u001b[0m\n\u001b[0m\u001b[0;32m    279\u001b[0m         ]\n\u001b[0;32m    280\u001b[0m         arrays = [\n",
      "\u001b[1;31mAttributeError\u001b[0m: 'MultiIndex' object has no attribute '_data'"
     ]
    }
   ],
   "source": [
    "# Coeficientes del modelo\n",
    "# ==============================================================================\n",
    "df_coeficientes = pd.DataFrame(\n",
    "                        {'predictor': X_train.columns,\n",
    "                         'coef': modelo.coef_.flatten()}\n",
    "                  )"
   ]
  },
  {
   "cell_type": "code",
   "execution_count": 43,
   "metadata": {},
   "outputs": [
    {
     "ename": "AttributeError",
     "evalue": "'MultiIndex' object has no attribute '_data'",
     "output_type": "error",
     "traceback": [
      "\u001b[1;31m---------------------------------------------------------------------------\u001b[0m",
      "\u001b[1;31mAttributeError\u001b[0m                            Traceback (most recent call last)",
      "\u001b[1;32m<ipython-input-43-a17726de6d57>\u001b[0m in \u001b[0;36m<module>\u001b[1;34m\u001b[0m\n\u001b[0;32m      1\u001b[0m \u001b[1;31m# Coeficientes del modelo\u001b[0m\u001b[1;33m\u001b[0m\u001b[1;33m\u001b[0m\u001b[1;33m\u001b[0m\u001b[0m\n\u001b[0;32m      2\u001b[0m \u001b[1;31m# ==============================================================================\u001b[0m\u001b[1;33m\u001b[0m\u001b[1;33m\u001b[0m\u001b[1;33m\u001b[0m\u001b[0m\n\u001b[1;32m----> 3\u001b[1;33m df_coeficientes = pd.DataFrame(\n\u001b[0m\u001b[0;32m      4\u001b[0m                         {'predictor': X_train.columns,\n\u001b[0;32m      5\u001b[0m                          'coef': modelo.coef_.flatten()}\n",
      "\u001b[1;32mC:\\ProgramData\\Anaconda3\\lib\\site-packages\\pandas\\core\\frame.py\u001b[0m in \u001b[0;36m__init__\u001b[1;34m(self, data, index, columns, dtype, copy)\u001b[0m\n\u001b[0;32m    466\u001b[0m \u001b[1;33m\u001b[0m\u001b[0m\n\u001b[0;32m    467\u001b[0m         \u001b[1;32melif\u001b[0m \u001b[0misinstance\u001b[0m\u001b[1;33m(\u001b[0m\u001b[0mdata\u001b[0m\u001b[1;33m,\u001b[0m \u001b[0mdict\u001b[0m\u001b[1;33m)\u001b[0m\u001b[1;33m:\u001b[0m\u001b[1;33m\u001b[0m\u001b[1;33m\u001b[0m\u001b[0m\n\u001b[1;32m--> 468\u001b[1;33m             \u001b[0mmgr\u001b[0m \u001b[1;33m=\u001b[0m \u001b[0minit_dict\u001b[0m\u001b[1;33m(\u001b[0m\u001b[0mdata\u001b[0m\u001b[1;33m,\u001b[0m \u001b[0mindex\u001b[0m\u001b[1;33m,\u001b[0m \u001b[0mcolumns\u001b[0m\u001b[1;33m,\u001b[0m \u001b[0mdtype\u001b[0m\u001b[1;33m=\u001b[0m\u001b[0mdtype\u001b[0m\u001b[1;33m)\u001b[0m\u001b[1;33m\u001b[0m\u001b[1;33m\u001b[0m\u001b[0m\n\u001b[0m\u001b[0;32m    469\u001b[0m         \u001b[1;32melif\u001b[0m \u001b[0misinstance\u001b[0m\u001b[1;33m(\u001b[0m\u001b[0mdata\u001b[0m\u001b[1;33m,\u001b[0m \u001b[0mma\u001b[0m\u001b[1;33m.\u001b[0m\u001b[0mMaskedArray\u001b[0m\u001b[1;33m)\u001b[0m\u001b[1;33m:\u001b[0m\u001b[1;33m\u001b[0m\u001b[1;33m\u001b[0m\u001b[0m\n\u001b[0;32m    470\u001b[0m             \u001b[1;32mimport\u001b[0m \u001b[0mnumpy\u001b[0m\u001b[1;33m.\u001b[0m\u001b[0mma\u001b[0m\u001b[1;33m.\u001b[0m\u001b[0mmrecords\u001b[0m \u001b[1;32mas\u001b[0m \u001b[0mmrecords\u001b[0m\u001b[1;33m\u001b[0m\u001b[1;33m\u001b[0m\u001b[0m\n",
      "\u001b[1;32mC:\\ProgramData\\Anaconda3\\lib\\site-packages\\pandas\\core\\internals\\construction.py\u001b[0m in \u001b[0;36minit_dict\u001b[1;34m(data, index, columns, dtype)\u001b[0m\n\u001b[0;32m    275\u001b[0m         \u001b[1;31m# GH#24096 need copy to be deep for datetime64tz case\u001b[0m\u001b[1;33m\u001b[0m\u001b[1;33m\u001b[0m\u001b[1;33m\u001b[0m\u001b[0m\n\u001b[0;32m    276\u001b[0m         \u001b[1;31m# TODO: See if we can avoid these copies\u001b[0m\u001b[1;33m\u001b[0m\u001b[1;33m\u001b[0m\u001b[1;33m\u001b[0m\u001b[0m\n\u001b[1;32m--> 277\u001b[1;33m         arrays = [\n\u001b[0m\u001b[0;32m    278\u001b[0m             \u001b[0marr\u001b[0m \u001b[1;32mif\u001b[0m \u001b[1;32mnot\u001b[0m \u001b[0misinstance\u001b[0m\u001b[1;33m(\u001b[0m\u001b[0marr\u001b[0m\u001b[1;33m,\u001b[0m \u001b[0mABCIndexClass\u001b[0m\u001b[1;33m)\u001b[0m \u001b[1;32melse\u001b[0m \u001b[0marr\u001b[0m\u001b[1;33m.\u001b[0m\u001b[0m_data\u001b[0m \u001b[1;32mfor\u001b[0m \u001b[0marr\u001b[0m \u001b[1;32min\u001b[0m \u001b[0marrays\u001b[0m\u001b[1;33m\u001b[0m\u001b[1;33m\u001b[0m\u001b[0m\n\u001b[0;32m    279\u001b[0m         ]\n",
      "\u001b[1;32mC:\\ProgramData\\Anaconda3\\lib\\site-packages\\pandas\\core\\internals\\construction.py\u001b[0m in \u001b[0;36m<listcomp>\u001b[1;34m(.0)\u001b[0m\n\u001b[0;32m    276\u001b[0m         \u001b[1;31m# TODO: See if we can avoid these copies\u001b[0m\u001b[1;33m\u001b[0m\u001b[1;33m\u001b[0m\u001b[1;33m\u001b[0m\u001b[0m\n\u001b[0;32m    277\u001b[0m         arrays = [\n\u001b[1;32m--> 278\u001b[1;33m             \u001b[0marr\u001b[0m \u001b[1;32mif\u001b[0m \u001b[1;32mnot\u001b[0m \u001b[0misinstance\u001b[0m\u001b[1;33m(\u001b[0m\u001b[0marr\u001b[0m\u001b[1;33m,\u001b[0m \u001b[0mABCIndexClass\u001b[0m\u001b[1;33m)\u001b[0m \u001b[1;32melse\u001b[0m \u001b[0marr\u001b[0m\u001b[1;33m.\u001b[0m\u001b[0m_data\u001b[0m \u001b[1;32mfor\u001b[0m \u001b[0marr\u001b[0m \u001b[1;32min\u001b[0m \u001b[0marrays\u001b[0m\u001b[1;33m\u001b[0m\u001b[1;33m\u001b[0m\u001b[0m\n\u001b[0m\u001b[0;32m    279\u001b[0m         ]\n\u001b[0;32m    280\u001b[0m         arrays = [\n",
      "\u001b[1;31mAttributeError\u001b[0m: 'MultiIndex' object has no attribute '_data'"
     ]
    }
   ],
   "source": [
    "# Coeficientes del modelo\n",
    "# ==============================================================================\n",
    "df_coeficientes = pd.DataFrame(\n",
    "                        {'predictor': X_train.columns,\n",
    "                         'coef': modelo.coef_.flatten()}\n",
    "                  )\n",
    "\n",
    "fig, ax = plt.subplots(figsize=(11, 3.84))\n",
    "ax.stem(df_coeficientes.predictor, df_coeficientes.coef, markerfmt=' ')\n",
    "plt.xticks(rotation=90, ha='right', size=5)\n",
    "ax.set_xlabel('variable')\n",
    "ax.set_ylabel('coeficientes')\n",
    "ax.set_title('Coeficientes del modelo');"
   ]
  },
  {
   "cell_type": "code",
   "execution_count": 513,
   "metadata": {},
   "outputs": [
    {
     "data": {
      "text/plain": [
       "array([4547.49853425, 3259.43066824, 4629.15715104, 2234.48513027,\n",
       "       2265.82917891])"
      ]
     },
     "execution_count": 513,
     "metadata": {},
     "output_type": "execute_result"
    }
   ],
   "source": [
    "# Predicciones test\n",
    "# ==============================================================================\n",
    "predicciones = modelo.predict(X=X_test)\n",
    "predicciones = predicciones.flatten()\n",
    "predicciones[:5]"
   ]
  },
  {
   "cell_type": "code",
   "execution_count": 514,
   "metadata": {},
   "outputs": [
    {
     "name": "stdout",
     "output_type": "stream",
     "text": [
      "\n",
      "El error (rmse) de test es: 1828.3209201958962\n"
     ]
    }
   ],
   "source": [
    "# Error de test del modelo \n",
    "# ==============================================================================\n",
    "rmse_ols = mean_squared_error(\n",
    "            y_true  = y_test,\n",
    "            y_pred  = predicciones,\n",
    "            squared = False\n",
    "           )\n",
    "print(\"\")\n",
    "print(f\"El error (rmse) de test es: {rmse_ols}\")"
   ]
  },
  {
   "cell_type": "markdown",
   "metadata": {},
   "source": [
    "Las predicciones del modelo final se alejan en promedio 1828.32 unidades del valor real."
   ]
  },
  {
   "cell_type": "markdown",
   "metadata": {},
   "source": [
    "RIDGE"
   ]
  },
  {
   "cell_type": "code",
   "execution_count": 492,
   "metadata": {},
   "outputs": [
    {
     "ename": "AttributeError",
     "evalue": "module 'statsmodels.formula.api' has no attribute 'ridge'",
     "output_type": "error",
     "traceback": [
      "\u001b[1;31m---------------------------------------------------------------------------\u001b[0m",
      "\u001b[1;31mAttributeError\u001b[0m                            Traceback (most recent call last)",
      "\u001b[1;32m<ipython-input-492-f02258626ed4>\u001b[0m in \u001b[0;36m<module>\u001b[1;34m\u001b[0m\n\u001b[1;32m----> 1\u001b[1;33m \u001b[0mreg\u001b[0m \u001b[1;33m=\u001b[0m \u001b[0msmf\u001b[0m\u001b[1;33m.\u001b[0m\u001b[0mridge\u001b[0m\u001b[1;33m(\u001b[0m\u001b[1;34m'flujo_hora ~ DiaMes + dia_sem + Hora + DiaLaboral'\u001b[0m\u001b[1;33m,\u001b[0m\u001b[0mdata\u001b[0m\u001b[1;33m=\u001b[0m\u001b[0mdatos_2\u001b[0m\u001b[1;33m)\u001b[0m\u001b[1;33m\u001b[0m\u001b[1;33m\u001b[0m\u001b[0m\n\u001b[0m\u001b[0;32m      2\u001b[0m \u001b[0mmodelo\u001b[0m \u001b[1;33m=\u001b[0m \u001b[0mreg\u001b[0m\u001b[1;33m.\u001b[0m\u001b[0mfit\u001b[0m\u001b[1;33m(\u001b[0m\u001b[1;33m)\u001b[0m\u001b[1;33m\u001b[0m\u001b[1;33m\u001b[0m\u001b[0m\n\u001b[0;32m      3\u001b[0m \u001b[0mprint\u001b[0m\u001b[1;33m(\u001b[0m\u001b[0mmodelo\u001b[0m\u001b[1;33m.\u001b[0m\u001b[0msummary\u001b[0m\u001b[1;33m(\u001b[0m\u001b[1;33m)\u001b[0m\u001b[1;33m)\u001b[0m\u001b[1;33m\u001b[0m\u001b[1;33m\u001b[0m\u001b[0m\n",
      "\u001b[1;31mAttributeError\u001b[0m: module 'statsmodels.formula.api' has no attribute 'ridge'"
     ]
    }
   ],
   "source": [
    "reg = smf.ridge('flujo_hora ~ DiaMes + dia_sem + Hora + DiaLaboral',data=datos_2)\n",
    "modelo = reg.fit()\n",
    "print(modelo.summary())"
   ]
  },
  {
   "cell_type": "code",
   "execution_count": 276,
   "metadata": {},
   "outputs": [],
   "source": [
    "# Creación y entrenamiento del modelo (con búsqueda por CV del valor óptimo alpha)\n",
    "# ==============================================================================\n",
    "# Por defecto RidgeCV utiliza el mean squared error\n",
    "modelo = RidgeCV(\n",
    "            alphas          = np.logspace(-10, 2, 200),\n",
    "            fit_intercept   = True,\n",
    "            normalize       = True,\n",
    "            store_cv_values = True\n",
    "         )\n",
    "\n",
    "_ = modelo.fit(X = X_train, y = y_train)"
   ]
  },
  {
   "cell_type": "code",
   "execution_count": 277,
   "metadata": {},
   "outputs": [
    {
     "data": {
      "image/png": "[encoded data removed]",
      "text/plain": [
       "<Figure size 504x276.48 with 1 Axes>"
      ]
     },
     "metadata": {},
     "output_type": "display_data"
    }
   ],
   "source": [
    "# Evolución de los coeficientes en función de alpha\n",
    "# ==============================================================================\n",
    "alphas = modelo.alphas\n",
    "coefs = []\n",
    "\n",
    "for alpha in alphas:\n",
    "    modelo_temp = Ridge(alpha=alpha, fit_intercept=False, normalize=True)\n",
    "    modelo_temp.fit(X_train, y_train)\n",
    "    coefs.append(modelo_temp.coef_.flatten())\n",
    "\n",
    "fig, ax = plt.subplots(figsize=(7, 3.84))\n",
    "ax.plot(alphas, coefs)\n",
    "#ax.set_xscale('log')\n",
    "ax.set_xlabel('alpha')\n",
    "ax.set_ylabel('coeficientes')\n",
    "ax.set_title('Coeficientes del modelo en función de la regularización');\n",
    "plt.axis('tight')\n",
    "plt.show()"
   ]
  },
  {
   "cell_type": "code",
   "execution_count": 278,
   "metadata": {},
   "outputs": [
    {
     "data": {
      "image/png": "[encoded data removed]",
      "text/plain": [
       "<Figure size 504x276.48 with 1 Axes>"
      ]
     },
     "metadata": {},
     "output_type": "display_data"
    }
   ],
   "source": [
    "# Evolución del error en función de alpha\n",
    "# ==============================================================================\n",
    "# modelo.cv_values almacena el mse de cv para cada valor de alpha. Tiene\n",
    "# dimensiones (n_samples, n_targets, n_alphas)\n",
    "mse_cv = modelo.cv_values_.reshape((-1, 200)).mean(axis=0)\n",
    "mse_sd = modelo.cv_values_.reshape((-1, 200)).std(axis=0)\n",
    "\n",
    "# Se aplica la raíz cuadrada para pasar de mse a rmse\n",
    "rmse_cv = np.sqrt(mse_cv)\n",
    "rmse_sd = np.sqrt(mse_sd)\n",
    "\n",
    "# Se identifica el óptimo y el óptimo + 1std\n",
    "min_rmse     = np.min(rmse_cv)\n",
    "sd_min_rmse  = rmse_sd[np.argmin(rmse_cv)]\n",
    "min_rsme_1sd = np.max(rmse_cv[rmse_cv <= min_rmse + sd_min_rmse])\n",
    "optimo       = modelo.alphas[np.argmin(rmse_cv)]\n",
    "optimo_1sd   = modelo.alphas[rmse_cv == min_rsme_1sd]\n",
    "\n",
    "\n",
    "# Gráfico del error +- 1 desviación estándar\n",
    "fig, ax = plt.subplots(figsize=(7, 3.84))\n",
    "ax.plot(modelo.alphas, rmse_cv)\n",
    "ax.fill_between(\n",
    "    modelo.alphas,\n",
    "    rmse_cv + rmse_sd,\n",
    "    rmse_cv - rmse_sd,\n",
    "    alpha=0.2\n",
    ")\n",
    "\n",
    "ax.axvline(\n",
    "    x         = optimo,\n",
    "    c         = \"gray\",\n",
    "    linestyle = '--',\n",
    "    label     = 'óptimo'\n",
    ")\n",
    "\n",
    "ax.axvline(\n",
    "    x         = optimo_1sd,\n",
    "    c         = \"blue\",\n",
    "    linestyle = '--',\n",
    "    label     = 'óptimo_1sd'\n",
    ")\n",
    "#ax.set_xscale('log')\n",
    "ax.set_ylim([0,None])\n",
    "ax.set_title('Evolución del error CV en función de la regularización')\n",
    "ax.set_xlabel('alpha')\n",
    "ax.set_ylabel('RMSE')\n",
    "plt.legend();\n",
    "\n"
   ]
  },
  {
   "cell_type": "code",
   "execution_count": 281,
   "metadata": {},
   "outputs": [
    {
     "name": "stdout",
     "output_type": "stream",
     "text": [
      "Mejor valor de alpha encontrado: 0.005231099308056258\n"
     ]
    }
   ],
   "source": [
    "# Mejor valor alpha encontrado\n",
    "# ==============================================================================\n",
    "print(f\"Mejor valor de alpha encontrado: {modelo.alpha_}\")"
   ]
  },
  {
   "cell_type": "code",
   "execution_count": 282,
   "metadata": {},
   "outputs": [
    {
     "data": {
      "image/png": "[encoded data removed]",
      "text/plain": [
       "<Figure size 792x276.48 with 1 Axes>"
      ]
     },
     "metadata": {},
     "output_type": "display_data"
    }
   ],
   "source": [
    "# Coeficientes del modelo\n",
    "# ==============================================================================\n",
    "df_coeficientes = pd.DataFrame(\n",
    "                        {'predictor': X_train.columns,\n",
    "                         'coef': modelo.coef_.flatten()}\n",
    "                  )\n",
    "\n",
    "fig, ax = plt.subplots(figsize=(11, 3.84))\n",
    "ax.stem(df_coeficientes.predictor, df_coeficientes.coef, markerfmt=' ')\n",
    "plt.xticks(rotation=90, ha='right', size=5)\n",
    "ax.set_xlabel('variable')\n",
    "ax.set_ylabel('coeficientes')\n",
    "ax.set_title('Coeficientes del modelo');"
   ]
  },
  {
   "cell_type": "markdown",
   "metadata": {},
   "source": [
    "En comparación al modelo por mínimos cuadrados ordinarios, con ridge, el orden de magnitud de los coeficientes es similar."
   ]
  },
  {
   "cell_type": "code",
   "execution_count": 283,
   "metadata": {},
   "outputs": [
    {
     "data": {
      "text/plain": [
       "array([4540.93947423, 3260.60495052, 4620.87651278, 2239.62418456,\n",
       "       2270.73774756])"
      ]
     },
     "execution_count": 283,
     "metadata": {},
     "output_type": "execute_result"
    }
   ],
   "source": [
    "# Predicciones test\n",
    "# ==============================================================================\n",
    "predicciones = modelo.predict(X=X_test)\n",
    "predicciones = predicciones.flatten()\n",
    "predicciones[:5]"
   ]
  },
  {
   "cell_type": "code",
   "execution_count": 284,
   "metadata": {},
   "outputs": [
    {
     "name": "stdout",
     "output_type": "stream",
     "text": [
      "\n",
      "El error (rmse) de test es: 1828.5751090993294\n"
     ]
    }
   ],
   "source": [
    "# Error de test del modelo \n",
    "# ==============================================================================\n",
    "rmse_ridge = mean_squared_error(\n",
    "                y_true  = y_test,\n",
    "                y_pred  = predicciones,\n",
    "                squared = False\n",
    "             )\n",
    "print(\"\")\n",
    "print(f\"El error (rmse) de test es: {rmse_ridge}\")"
   ]
  },
  {
   "cell_type": "markdown",
   "metadata": {},
   "source": [
    "Las predicciones del modelo final se alejan en promedio 1828.57 unidades del valor real."
   ]
  },
  {
   "cell_type": "markdown",
   "metadata": {},
   "source": [
    "LASSO"
   ]
  },
  {
   "cell_type": "code",
   "execution_count": 285,
   "metadata": {},
   "outputs": [],
   "source": [
    "# Creación y entrenamiento del modelo (con búsqueda por CV del valor óptimo alpha)\n",
    "# ==============================================================================\n",
    "# Por defecto LassoCV utiliza el mean squared error\n",
    "modelo = LassoCV(\n",
    "            alphas          = np.logspace(-10, 3, 200),\n",
    "            normalize       = True,\n",
    "            cv              = 10\n",
    "         )\n",
    "_ = modelo.fit(X = X_train, y = y_train)"
   ]
  },
  {
   "cell_type": "code",
   "execution_count": 286,
   "metadata": {},
   "outputs": [
    {
     "data": {
      "image/png": "[encoded data removed]",
      "text/plain": [
       "<Figure size 504x276.48 with 1 Axes>"
      ]
     },
     "metadata": {},
     "output_type": "display_data"
    }
   ],
   "source": [
    "# Evolución de los coeficientes en función de alpha\n",
    "# ==============================================================================\n",
    "alphas = modelo.alphas_\n",
    "coefs = []\n",
    "\n",
    "for alpha in alphas:\n",
    "    modelo_temp = Lasso(alpha=alpha, fit_intercept=False, normalize=True)\n",
    "    modelo_temp.fit(X_train, y_train)\n",
    "    coefs.append(modelo_temp.coef_.flatten())\n",
    "\n",
    "fig, ax = plt.subplots(figsize=(7, 3.84))\n",
    "ax.plot(alphas, coefs)\n",
    "#ax.set_xscale('log')\n",
    "ax.set_ylim([-15,None])\n",
    "ax.set_xlabel('alpha')\n",
    "ax.set_ylabel('coeficientes')\n",
    "ax.set_title('Coeficientes del modelo en función de la regularización');"
   ]
  },
  {
   "cell_type": "code",
   "execution_count": 261,
   "metadata": {},
   "outputs": [
    {
     "data": {
      "image/png": "[encoded data removed]",
      "text/plain": [
       "<Figure size 504x276.48 with 1 Axes>"
      ]
     },
     "metadata": {},
     "output_type": "display_data"
    }
   ],
   "source": [
    "# Número de predictores incluidos (coeficiente !=0) en función de alpha\n",
    "# ==============================================================================\n",
    "alphas = modelo.alphas_\n",
    "n_predictores = []\n",
    "\n",
    "for alpha in alphas:\n",
    "    modelo_temp = Lasso(alpha=alpha, fit_intercept=False, normalize=True)\n",
    "    modelo_temp.fit(X_train, y_train)\n",
    "    coef_no_cero = np.sum(modelo_temp.coef_.flatten() != 0)\n",
    "    n_predictores.append(coef_no_cero)\n",
    "\n",
    "fig, ax = plt.subplots(figsize=(7, 3.84))\n",
    "ax.plot(alphas, n_predictores)\n",
    "#ax.set_xscale('log')\n",
    "ax.set_ylim([-15,None])\n",
    "ax.set_xlabel('alpha')\n",
    "ax.set_ylabel('nº predictores')\n",
    "ax.set_title('Predictores incluidos en función de la regularización');"
   ]
  },
  {
   "cell_type": "code",
   "execution_count": 263,
   "metadata": {},
   "outputs": [
    {
     "ename": "ValueError",
     "evalue": "The truth value of an array with more than one element is ambiguous. Use a.any() or a.all()",
     "output_type": "error",
     "traceback": [
      "\u001b[1;31m---------------------------------------------------------------------------\u001b[0m",
      "\u001b[1;31mValueError\u001b[0m                                Traceback (most recent call last)",
      "\u001b[1;32m<ipython-input-263-435c9cd099bd>\u001b[0m in \u001b[0;36m<module>\u001b[1;34m\u001b[0m\n\u001b[0;32m     34\u001b[0m )\n\u001b[0;32m     35\u001b[0m \u001b[1;33m\u001b[0m\u001b[0m\n\u001b[1;32m---> 36\u001b[1;33m ax.axvline(\n\u001b[0m\u001b[0;32m     37\u001b[0m     \u001b[0mx\u001b[0m         \u001b[1;33m=\u001b[0m \u001b[0moptimo_1sd\u001b[0m\u001b[1;33m,\u001b[0m\u001b[1;33m\u001b[0m\u001b[1;33m\u001b[0m\u001b[0m\n\u001b[0;32m     38\u001b[0m     \u001b[0mc\u001b[0m         \u001b[1;33m=\u001b[0m \u001b[1;34m\"blue\"\u001b[0m\u001b[1;33m,\u001b[0m\u001b[1;33m\u001b[0m\u001b[1;33m\u001b[0m\u001b[0m\n",
      "\u001b[1;32m~\\anaconda3\\lib\\site-packages\\matplotlib\\axes\\_axes.py\u001b[0m in \u001b[0;36maxvline\u001b[1;34m(self, x, ymin, ymax, **kwargs)\u001b[0m\n\u001b[0;32m    911\u001b[0m         \u001b[0mself\u001b[0m\u001b[1;33m.\u001b[0m\u001b[0m_process_unit_info\u001b[0m\u001b[1;33m(\u001b[0m\u001b[0mxdata\u001b[0m\u001b[1;33m=\u001b[0m\u001b[0mx\u001b[0m\u001b[1;33m,\u001b[0m \u001b[0mkwargs\u001b[0m\u001b[1;33m=\u001b[0m\u001b[0mkwargs\u001b[0m\u001b[1;33m)\u001b[0m\u001b[1;33m\u001b[0m\u001b[1;33m\u001b[0m\u001b[0m\n\u001b[0;32m    912\u001b[0m         \u001b[0mxx\u001b[0m \u001b[1;33m=\u001b[0m \u001b[0mself\u001b[0m\u001b[1;33m.\u001b[0m\u001b[0mconvert_xunits\u001b[0m\u001b[1;33m(\u001b[0m\u001b[0mx\u001b[0m\u001b[1;33m)\u001b[0m\u001b[1;33m\u001b[0m\u001b[1;33m\u001b[0m\u001b[0m\n\u001b[1;32m--> 913\u001b[1;33m         \u001b[0mscalex\u001b[0m \u001b[1;33m=\u001b[0m \u001b[1;33m(\u001b[0m\u001b[0mxx\u001b[0m \u001b[1;33m<\u001b[0m \u001b[0mxmin\u001b[0m\u001b[1;33m)\u001b[0m \u001b[1;32mor\u001b[0m \u001b[1;33m(\u001b[0m\u001b[0mxx\u001b[0m \u001b[1;33m>\u001b[0m \u001b[0mxmax\u001b[0m\u001b[1;33m)\u001b[0m\u001b[1;33m\u001b[0m\u001b[1;33m\u001b[0m\u001b[0m\n\u001b[0m\u001b[0;32m    914\u001b[0m \u001b[1;33m\u001b[0m\u001b[0m\n\u001b[0;32m    915\u001b[0m         \u001b[0mtrans\u001b[0m \u001b[1;33m=\u001b[0m \u001b[0mself\u001b[0m\u001b[1;33m.\u001b[0m\u001b[0mget_xaxis_transform\u001b[0m\u001b[1;33m(\u001b[0m\u001b[0mwhich\u001b[0m\u001b[1;33m=\u001b[0m\u001b[1;34m'grid'\u001b[0m\u001b[1;33m)\u001b[0m\u001b[1;33m\u001b[0m\u001b[1;33m\u001b[0m\u001b[0m\n",
      "\u001b[1;31mValueError\u001b[0m: The truth value of an array with more than one element is ambiguous. Use a.any() or a.all()"
     ]
    },
    {
     "data": {
      "image/png": "[encoded data removed]",
      "text/plain": [
       "<Figure size 504x276.48 with 1 Axes>"
      ]
     },
     "metadata": {},
     "output_type": "display_data"
    }
   ],
   "source": [
    "# Evolución del error en función de alpha\n",
    "# ==============================================================================\n",
    "# modelo.mse_path_ almacena el mse de cv para cada valor de alpha. Tiene\n",
    "# dimensiones (n_alphas, n_folds)\n",
    "mse_cv = modelo.mse_path_.mean(axis=1)\n",
    "mse_sd = modelo.mse_path_.std(axis=1)\n",
    "\n",
    "# Se aplica la raíz cuadrada para pasar de mse a rmse\n",
    "rmse_cv = np.sqrt(mse_cv)\n",
    "rmse_sd = np.sqrt(mse_sd)\n",
    "\n",
    "# Se identifica el óptimo y el óptimo + 1std\n",
    "min_rmse     = np.min(rmse_cv)\n",
    "sd_min_rmse  = rmse_sd[np.argmin(rmse_cv)]\n",
    "min_rsme_1sd = np.max(rmse_cv[rmse_cv <= min_rmse + sd_min_rmse])\n",
    "optimo       = modelo.alphas_[np.argmin(rmse_cv)]\n",
    "optimo_1sd   = modelo.alphas_[rmse_cv == min_rsme_1sd]\n",
    "\n",
    "# Gráfico del error +- 1 desviación estándar\n",
    "fig, ax = plt.subplots(figsize=(7, 3.84))\n",
    "ax.plot(modelo.alphas_, rmse_cv)\n",
    "ax.fill_between(\n",
    "    modelo.alphas_,\n",
    "    rmse_cv + rmse_sd,\n",
    "    rmse_cv - rmse_sd,\n",
    "    alpha=0.2\n",
    ")\n",
    "\n",
    "ax.axvline(\n",
    "    x         = optimo,\n",
    "    c         = \"gray\",\n",
    "    linestyle = '--',\n",
    "    label     = 'óptimo'\n",
    ")\n",
    "\n",
    "ax.axvline(\n",
    "    x         = optimo_1sd,\n",
    "    c         = \"blue\",\n",
    "    linestyle = '--',\n",
    "    label     = 'óptimo_1sd'\n",
    ")\n",
    "\n",
    "ax.set_xscale('log')\n",
    "ax.set_ylim([0,None])\n",
    "ax.set_title('Evolución del error CV en función de la regularización')\n",
    "ax.set_xlabel('alpha')\n",
    "ax.set_ylabel('RMSE')\n",
    "plt.legend();\n",
    "\n"
   ]
  },
  {
   "cell_type": "code",
   "execution_count": 288,
   "metadata": {},
   "outputs": [
    {
     "name": "stdout",
     "output_type": "stream",
     "text": [
      "Mejor valor de alpha encontrado + 1 desviación estándar: [1.e-10]\n"
     ]
    }
   ],
   "source": [
    "# Mejor valor alpha encontrado + 1sd\n",
    "# ==============================================================================\n",
    "min_rmse     = np.min(rmse_cv)\n",
    "sd_min_rmse  = rmse_sd[np.argmin(rmse_cv)]\n",
    "min_rsme_1sd = np.max(rmse_cv[rmse_cv <= min_rmse + sd_min_rmse])\n",
    "optimo       = modelo.alphas_[np.argmin(rmse_cv)]\n",
    "optimo_1sd   = modelo.alphas_[rmse_cv == min_rsme_1sd]\n",
    "\n",
    "print(f\"Mejor valor de alpha encontrado + 1 desviación estándar: {optimo_1sd}\")"
   ]
  },
  {
   "cell_type": "code",
   "execution_count": 290,
   "metadata": {},
   "outputs": [
    {
     "data": {
      "text/plain": [
       "Lasso(alpha=array([1.e-10]), normalize=True)"
      ]
     },
     "execution_count": 290,
     "metadata": {},
     "output_type": "execute_result"
    }
   ],
   "source": [
    "# Mejor modelo alpha óptimo + 1sd\n",
    "# ==============================================================================\n",
    "modelo = Lasso(alpha=optimo_1sd, normalize=True)\n",
    "modelo.fit(X_train, y_train)"
   ]
  },
  {
   "cell_type": "code",
   "execution_count": 291,
   "metadata": {},
   "outputs": [
    {
     "data": {
      "text/html": [
       "<div>\n",
       "<style scoped>\n",
       "    .dataframe tbody tr th:only-of-type {\n",
       "        vertical-align: middle;\n",
       "    }\n",
       "\n",
       "    .dataframe tbody tr th {\n",
       "        vertical-align: top;\n",
       "    }\n",
       "\n",
       "    .dataframe thead th {\n",
       "        text-align: right;\n",
       "    }\n",
       "</style>\n",
       "<table border=\"1\" class=\"dataframe\">\n",
       "  <thead>\n",
       "    <tr style=\"text-align: right;\">\n",
       "      <th></th>\n",
       "      <th>predictor</th>\n",
       "      <th>coef</th>\n",
       "    </tr>\n",
       "  </thead>\n",
       "  <tbody>\n",
       "    <tr>\n",
       "      <th>0</th>\n",
       "      <td>DiaMes</td>\n",
       "      <td>6.268810e+00</td>\n",
       "    </tr>\n",
       "    <tr>\n",
       "      <th>1</th>\n",
       "      <td>DiaSemana</td>\n",
       "      <td>1.940013e+02</td>\n",
       "    </tr>\n",
       "    <tr>\n",
       "      <th>2</th>\n",
       "      <td>dia_sem</td>\n",
       "      <td>2.275068e-13</td>\n",
       "    </tr>\n",
       "    <tr>\n",
       "      <th>3</th>\n",
       "      <td>Hora</td>\n",
       "      <td>1.875684e+02</td>\n",
       "    </tr>\n",
       "    <tr>\n",
       "      <th>4</th>\n",
       "      <td>DiaLaboral</td>\n",
       "      <td>3.611508e+02</td>\n",
       "    </tr>\n",
       "  </tbody>\n",
       "</table>\n",
       "</div>"
      ],
      "text/plain": [
       "    predictor          coef\n",
       "0      DiaMes  6.268810e+00\n",
       "1   DiaSemana  1.940013e+02\n",
       "2     dia_sem  2.275068e-13\n",
       "3        Hora  1.875684e+02\n",
       "4  DiaLaboral  3.611508e+02"
      ]
     },
     "execution_count": 291,
     "metadata": {},
     "output_type": "execute_result"
    }
   ],
   "source": [
    "# Coeficientes del modelo\n",
    "# ==============================================================================\n",
    "df_coeficientes = pd.DataFrame(\n",
    "                        {'predictor': X_train.columns,\n",
    "                         'coef': modelo.coef_.flatten()}\n",
    "                  )\n",
    "\n",
    "# Predictores incluidos en el modelo (coeficiente != 0)\n",
    "df_coeficientes[df_coeficientes.coef != 0]"
   ]
  },
  {
   "cell_type": "markdown",
   "metadata": {},
   "source": [
    "El modelo final incluye 5 predictores."
   ]
  },
  {
   "cell_type": "code",
   "execution_count": 292,
   "metadata": {},
   "outputs": [
    {
     "data": {
      "image/png": "[encoded data removed]",
      "text/plain": [
       "<Figure size 792x276.48 with 1 Axes>"
      ]
     },
     "metadata": {},
     "output_type": "display_data"
    }
   ],
   "source": [
    "fig, ax = plt.subplots(figsize=(11, 3.84))\n",
    "ax.stem(df_coeficientes.predictor, df_coeficientes.coef, markerfmt=' ')\n",
    "plt.xticks(rotation=90, ha='right', size=5)\n",
    "ax.set_xlabel('variable')\n",
    "ax.set_ylabel('coeficientes')\n",
    "ax.set_title('Coeficientes del modelo');"
   ]
  },
  {
   "cell_type": "code",
   "execution_count": 293,
   "metadata": {},
   "outputs": [
    {
     "data": {
      "text/plain": [
       "array([4547.49853423, 3259.43066824, 4629.15715101, 2234.48513025,\n",
       "       2265.82917889])"
      ]
     },
     "execution_count": 293,
     "metadata": {},
     "output_type": "execute_result"
    }
   ],
   "source": [
    "# Predicciones test\n",
    "# ==============================================================================\n",
    "predicciones = modelo.predict(X=X_test)\n",
    "predicciones = predicciones.flatten()\n",
    "predicciones[:5]"
   ]
  },
  {
   "cell_type": "code",
   "execution_count": 294,
   "metadata": {},
   "outputs": [
    {
     "name": "stdout",
     "output_type": "stream",
     "text": [
      "\n",
      "El error (rmse) de test es: 1828.3209201960467\n"
     ]
    }
   ],
   "source": [
    "# Error de test del modelo \n",
    "# ==============================================================================\n",
    "rmse_lasso = mean_squared_error(\n",
    "                y_true  = y_test,\n",
    "                y_pred  = predicciones,\n",
    "                squared = False\n",
    "             )\n",
    "print(\"\")\n",
    "print(f\"El error (rmse) de test es: {rmse_lasso}\")"
   ]
  },
  {
   "cell_type": "markdown",
   "metadata": {},
   "source": [
    "Las predicciones del modelo final se alejan en promedio 1828.32 unidades del valor real."
   ]
  },
  {
   "cell_type": "markdown",
   "metadata": {},
   "source": [
    "ELASTICNET"
   ]
  },
  {
   "cell_type": "code",
   "execution_count": 295,
   "metadata": {},
   "outputs": [],
   "source": [
    "# Creación y entrenamiento del modelo (con búsqueda por CV del valor óptimo alpha)\n",
    "# ==============================================================================\n",
    "# Por defecto ElasticNetCV utiliza el mean squared error\n",
    "modelo = ElasticNetCV(\n",
    "            l1_ratio        = [0, 0.1, 0.5, 0.7, 0.9, 0.95, 0.99],\n",
    "            alphas          = np.logspace(-10, 3, 200),\n",
    "            normalize       = True,\n",
    "            cv              = 10\n",
    "         )\n",
    "_ = modelo.fit(X = X_train, y = y_train)"
   ]
  },
  {
   "cell_type": "code",
   "execution_count": 296,
   "metadata": {},
   "outputs": [
    {
     "data": {
      "text/html": [
       "<div>\n",
       "<style scoped>\n",
       "    .dataframe tbody tr th:only-of-type {\n",
       "        vertical-align: middle;\n",
       "    }\n",
       "\n",
       "    .dataframe tbody tr th {\n",
       "        vertical-align: top;\n",
       "    }\n",
       "\n",
       "    .dataframe thead th {\n",
       "        text-align: right;\n",
       "    }\n",
       "</style>\n",
       "<table border=\"1\" class=\"dataframe\">\n",
       "  <thead>\n",
       "    <tr style=\"text-align: right;\">\n",
       "      <th></th>\n",
       "      <th>l1_ratio</th>\n",
       "      <th>modelo.alphas_</th>\n",
       "      <th>mse_cv</th>\n",
       "      <th>rmse_cv</th>\n",
       "    </tr>\n",
       "  </thead>\n",
       "  <tbody>\n",
       "    <tr>\n",
       "      <th>529</th>\n",
       "      <td>0.50</td>\n",
       "      <td>0.000004</td>\n",
       "      <td>3.652367e+06</td>\n",
       "      <td>1911.116595</td>\n",
       "    </tr>\n",
       "    <tr>\n",
       "      <th>333</th>\n",
       "      <td>0.10</td>\n",
       "      <td>0.000002</td>\n",
       "      <td>3.652367e+06</td>\n",
       "      <td>1911.116599</td>\n",
       "    </tr>\n",
       "    <tr>\n",
       "      <th>918</th>\n",
       "      <td>0.90</td>\n",
       "      <td>0.000020</td>\n",
       "      <td>3.652367e+06</td>\n",
       "      <td>1911.116609</td>\n",
       "    </tr>\n",
       "    <tr>\n",
       "      <th>1114</th>\n",
       "      <td>0.95</td>\n",
       "      <td>0.000036</td>\n",
       "      <td>3.652367e+06</td>\n",
       "      <td>1911.116629</td>\n",
       "    </tr>\n",
       "    <tr>\n",
       "      <th>134</th>\n",
       "      <td>0.00</td>\n",
       "      <td>0.000002</td>\n",
       "      <td>3.652367e+06</td>\n",
       "      <td>1911.116637</td>\n",
       "    </tr>\n",
       "    <tr>\n",
       "      <th>...</th>\n",
       "      <td>...</td>\n",
       "      <td>...</td>\n",
       "      <td>...</td>\n",
       "      <td>...</td>\n",
       "    </tr>\n",
       "    <tr>\n",
       "      <th>801</th>\n",
       "      <td>0.90</td>\n",
       "      <td>860.346442</td>\n",
       "      <td>5.382360e+06</td>\n",
       "      <td>2319.991422</td>\n",
       "    </tr>\n",
       "    <tr>\n",
       "      <th>613</th>\n",
       "      <td>0.70</td>\n",
       "      <td>141.499130</td>\n",
       "      <td>5.382360e+06</td>\n",
       "      <td>2319.991422</td>\n",
       "    </tr>\n",
       "    <tr>\n",
       "      <th>1200</th>\n",
       "      <td>0.99</td>\n",
       "      <td>1000.000000</td>\n",
       "      <td>5.382360e+06</td>\n",
       "      <td>2319.991422</td>\n",
       "    </tr>\n",
       "    <tr>\n",
       "      <th>1202</th>\n",
       "      <td>0.99</td>\n",
       "      <td>740.196000</td>\n",
       "      <td>5.382360e+06</td>\n",
       "      <td>2319.991422</td>\n",
       "    </tr>\n",
       "    <tr>\n",
       "      <th>612</th>\n",
       "      <td>0.70</td>\n",
       "      <td>164.467618</td>\n",
       "      <td>5.382360e+06</td>\n",
       "      <td>2319.991422</td>\n",
       "    </tr>\n",
       "  </tbody>\n",
       "</table>\n",
       "<p>1400 rows × 4 columns</p>\n",
       "</div>"
      ],
      "text/plain": [
       "      l1_ratio  modelo.alphas_        mse_cv      rmse_cv\n",
       "529       0.50        0.000004  3.652367e+06  1911.116595\n",
       "333       0.10        0.000002  3.652367e+06  1911.116599\n",
       "918       0.90        0.000020  3.652367e+06  1911.116609\n",
       "1114      0.95        0.000036  3.652367e+06  1911.116629\n",
       "134       0.00        0.000002  3.652367e+06  1911.116637\n",
       "...        ...             ...           ...          ...\n",
       "801       0.90      860.346442  5.382360e+06  2319.991422\n",
       "613       0.70      141.499130  5.382360e+06  2319.991422\n",
       "1200      0.99     1000.000000  5.382360e+06  2319.991422\n",
       "1202      0.99      740.196000  5.382360e+06  2319.991422\n",
       "612       0.70      164.467618  5.382360e+06  2319.991422\n",
       "\n",
       "[1400 rows x 4 columns]"
      ]
     },
     "execution_count": 296,
     "metadata": {},
     "output_type": "execute_result"
    }
   ],
   "source": [
    "# Evolución del error en función de alpha y l1_ratio\n",
    "# ==============================================================================\n",
    "# modelo.mse_path_ almacena el mse de cv para cada valor de alpha y l1_ratio.\n",
    "# Tiene dimensiones (n_l1_ratio, n_alpha, n_folds)\n",
    "\n",
    "# Error medio de las 10 particiones por cada valor de alpha y l1_ratio \n",
    "mean_error_cv = modelo.mse_path_.mean(axis =2)\n",
    "\n",
    "# El resultado es un array de dimensiones (n_l1_ratio, n_alpha)\n",
    "# Se convierte en un dataframe\n",
    "df_resultados_cv = pd.DataFrame(\n",
    "                        data   = mean_error_cv.flatten(),\n",
    "                        index  = pd.MultiIndex.from_product(\n",
    "                                    iterables = [modelo.l1_ratio, modelo.alphas_],\n",
    "                                    names     = ['l1_ratio', 'modelo.alphas_']\n",
    "                                 ),\n",
    "                        columns = [\"mse_cv\"]\n",
    "                    )\n",
    "\n",
    "df_resultados_cv['rmse_cv'] = np.sqrt(df_resultados_cv['mse_cv'])\n",
    "df_resultados_cv = df_resultados_cv.reset_index().sort_values('mse_cv', ascending = True)\n",
    "df_resultados_cv"
   ]
  },
  {
   "cell_type": "code",
   "execution_count": 297,
   "metadata": {},
   "outputs": [
    {
     "data": {
      "image/png": "[encoded data removed]",
      "text/plain": [
       "<Figure size 504x276.48 with 1 Axes>"
      ]
     },
     "metadata": {},
     "output_type": "display_data"
    }
   ],
   "source": [
    "# Mejor valor encontrado para cada l1_ratio\n",
    "fig, ax = plt.subplots(figsize=(7, 3.84))\n",
    "df_resultados_cv.groupby('l1_ratio')['rmse_cv'].min().plot(ax = ax)\n",
    "ax.set_title('Evolución del error CV en función de la l1_ratio')\n",
    "ax.set_xlabel('l1_ratio')\n",
    "ax.set_ylabel('rmse_cv');"
   ]
  },
  {
   "cell_type": "code",
   "execution_count": 298,
   "metadata": {},
   "outputs": [
    {
     "name": "stdout",
     "output_type": "stream",
     "text": [
      "Mejor valor de alpha encontrado: 3.7399373024788014e-06\n",
      "Mejor valor de l1_ratio encontrado: 0.5\n"
     ]
    }
   ],
   "source": [
    "# Mejor valor alpha y l1_ratio_ encontrado\n",
    "# ==============================================================================\n",
    "print(f\"Mejor valor de alpha encontrado: {modelo.alpha_}\")\n",
    "print(f\"Mejor valor de l1_ratio encontrado: {modelo.l1_ratio_}\")"
   ]
  },
  {
   "cell_type": "code",
   "execution_count": 299,
   "metadata": {},
   "outputs": [],
   "source": [
    "# Coeficientes del modelo\n",
    "# ==============================================================================\n",
    "df_coeficientes = pd.DataFrame(\n",
    "                        {'predictor': X_train.columns,\n",
    "                         'coef': modelo.coef_.flatten()}\n",
    "                  )"
   ]
  },
  {
   "cell_type": "code",
   "execution_count": 300,
   "metadata": {},
   "outputs": [
    {
     "data": {
      "image/png": "[encoded data removed]",
      "text/plain": [
       "<Figure size 792x276.48 with 1 Axes>"
      ]
     },
     "metadata": {},
     "output_type": "display_data"
    }
   ],
   "source": [
    "fig, ax = plt.subplots(figsize=(11, 3.84))\n",
    "ax.stem(df_coeficientes.predictor, df_coeficientes.coef, markerfmt=' ')\n",
    "plt.xticks(rotation=90, ha='right', size=5)\n",
    "ax.set_xlabel('variable')\n",
    "ax.set_ylabel('coeficientes')\n",
    "ax.set_title('Coeficientes del modelo');"
   ]
  },
  {
   "cell_type": "code",
   "execution_count": 301,
   "metadata": {},
   "outputs": [],
   "source": [
    "# Predicciones test\n",
    "# ==============================================================================\n",
    "predicciones = modelo.predict(X=X_test)\n",
    "predicciones = predicciones.flatten()"
   ]
  },
  {
   "cell_type": "code",
   "execution_count": 302,
   "metadata": {},
   "outputs": [
    {
     "name": "stdout",
     "output_type": "stream",
     "text": [
      "\n",
      "El error (rmse) de test es: 1828.5529066712313\n"
     ]
    }
   ],
   "source": [
    "# Error de test del modelo \n",
    "# ==============================================================================\n",
    "rmse_elastic = mean_squared_error(\n",
    "                y_true  = y_test,\n",
    "                y_pred  = predicciones,\n",
    "                squared = False\n",
    "               )\n",
    "print(\"\")\n",
    "print(f\"El error (rmse) de test es: {rmse_elastic}\")"
   ]
  },
  {
   "cell_type": "markdown",
   "metadata": {},
   "source": [
    "Las predicciones del modelo final se alejan en promedio 1828.55 unidades del valor real."
   ]
  },
  {
   "cell_type": "code",
   "execution_count": null,
   "metadata": {},
   "outputs": [],
   "source": [
    "COMPARACIÓN MODELOS"
   ]
  },
  {
   "cell_type": "code",
   "execution_count": 303,
   "metadata": {},
   "outputs": [
    {
     "data": {
      "image/png": "[encoded data removed]",
      "text/plain": [
       "<Figure size 504x276.48 with 1 Axes>"
      ]
     },
     "metadata": {},
     "output_type": "display_data"
    }
   ],
   "source": [
    "df_comparacion = pd.DataFrame({\n",
    "                    'modelo': ['OLS', 'Ridge', 'Lasso', 'Elastic-net'],\n",
    "                    'test rmse': [rmse_ols, rmse_ridge, rmse_lasso, rmse_elastic]\n",
    "                 })\n",
    "\n",
    "fig, ax = plt.subplots(figsize=(7, 3.84))\n",
    "df_comparacion.set_index('modelo').plot(kind='barh', ax=ax)\n",
    "ax.set_xlabel('rmse')\n",
    "ax.set_ylabel('modelo')\n",
    "ax.set_title('Comparación de modelos');"
   ]
  },
  {
   "cell_type": "code",
   "execution_count": null,
   "metadata": {},
   "outputs": [],
   "source": [
    "Todos los valores rmse obtenidos son bastante similares, sin embargo en este caso el mejor modelo se obtiene aplicando regularización OLS. "
   ]
  }
 ],
 "metadata": {
  "kernelspec": {
   "display_name": "Python 3",
   "language": "python",
   "name": "python3"
  },
  "language_info": {
   "codemirror_mode": {
    "name": "ipython",
    "version": 3
   },
   "file_extension": ".py",
   "mimetype": "text/x-python",
   "name": "python",
   "nbconvert_exporter": "python",
   "pygments_lexer": "ipython3",
   "version": "3.8.5"
  }
 },
 "nbformat": 4,
 "nbformat_minor": 5
}
