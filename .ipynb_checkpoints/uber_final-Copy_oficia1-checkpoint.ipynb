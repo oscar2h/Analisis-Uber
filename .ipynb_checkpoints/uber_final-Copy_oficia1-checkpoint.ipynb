{
 "cells": [
  {
   "cell_type": "code",
   "execution_count": 6,
   "metadata": {},
   "outputs": [],
   "source": [
    "# Tratamiento de datos\n",
    "# ==============================================================================\n",
    "import pandas as pd\n",
    "import numpy as np"
   ]
  },
  {
   "cell_type": "code",
   "execution_count": 7,
   "metadata": {},
   "outputs": [],
   "source": [
    "# Gráficos\n",
    "# ==============================================================================\n",
    "import matplotlib.pyplot as plt\n",
    "from matplotlib import style\n",
    "import seaborn as sns"
   ]
  },
  {
   "cell_type": "code",
   "execution_count": 8,
   "metadata": {},
   "outputs": [],
   "source": [
    "# Preprocesado y modelado\n",
    "# ==============================================================================\n",
    "from scipy.stats import pearsonr\n",
    "from sklearn.model_selection import train_test_split\n",
    "from sklearn.metrics import mean_squared_error\n",
    "from sklearn.linear_model import LinearRegression\n",
    "from sklearn.linear_model import Ridge\n",
    "from sklearn.linear_model import Lasso\n",
    "from sklearn.linear_model import ElasticNet\n",
    "from sklearn.linear_model import RidgeCV\n",
    "from sklearn.linear_model import LassoCV\n",
    "from sklearn.linear_model import ElasticNetCV\n",
    "import statsmodels.api as sm\n",
    "import statsmodels.formula.api as smf\n",
    "from sklearn import datasets, linear_model\n"
   ]
  },
  {
   "cell_type": "code",
   "execution_count": 43,
   "metadata": {},
   "outputs": [],
   "source": [
    "# Configuración matplotlib\n",
    "# ==============================================================================\n",
    "plt.rcParams['image.cmap'] = \"bwr\"\n",
    "#plt.rcParams['figure.dpi'] = \"100\"\n",
    "plt.rcParams['savefig.bbox'] = \"tight\"\n",
    "style.use('ggplot') or plt.style.use('ggplot')"
   ]
  },
  {
   "cell_type": "code",
   "execution_count": 44,
   "metadata": {},
   "outputs": [],
   "source": [
    "# Configuración warnings\n",
    "# ==============================================================================\n",
    "import warnings\n",
    "warnings.filterwarnings('ignore')"
   ]
  },
  {
   "cell_type": "code",
   "execution_count": 45,
   "metadata": {},
   "outputs": [],
   "source": [
    "pd.set_option('display.float_format', lambda x: '%.5f' % x)"
   ]
  },
  {
   "cell_type": "code",
   "execution_count": 46,
   "metadata": {},
   "outputs": [],
   "source": [
    "archivos2014 =['uber-raw-data-may14.csv',\n",
    "                'uber-raw-data-apr14.csv',\n",
    "                'uber-raw-data-jul14.csv',\n",
    "                'uber-raw-data-jun14.csv',\n",
    "                'uber-raw-data-sep14.csv',\n",
    "                'uber-raw-data-aug14.csv']\n",
    "df2014 = pd.DataFrame()\n",
    "for file in archivos2014:\n",
    "    df = pd.read_csv(file,encoding='utf-8')\n",
    "    df2014 = pd.concat([df,df2014])"
   ]
  },
  {
   "cell_type": "code",
   "execution_count": 47,
   "metadata": {},
   "outputs": [
    {
     "data": {
      "text/html": [
       "<div>\n",
       "<style scoped>\n",
       "    .dataframe tbody tr th:only-of-type {\n",
       "        vertical-align: middle;\n",
       "    }\n",
       "\n",
       "    .dataframe tbody tr th {\n",
       "        vertical-align: top;\n",
       "    }\n",
       "\n",
       "    .dataframe thead th {\n",
       "        text-align: right;\n",
       "    }\n",
       "</style>\n",
       "<table border=\"1\" class=\"dataframe\">\n",
       "  <thead>\n",
       "    <tr style=\"text-align: right;\">\n",
       "      <th></th>\n",
       "      <th>Date/Time</th>\n",
       "      <th>Lat</th>\n",
       "      <th>Lon</th>\n",
       "      <th>Base</th>\n",
       "    </tr>\n",
       "  </thead>\n",
       "  <tbody>\n",
       "    <tr>\n",
       "      <th>0</th>\n",
       "      <td>8/1/2014 0:03:00</td>\n",
       "      <td>40.73660</td>\n",
       "      <td>-73.99060</td>\n",
       "      <td>B02512</td>\n",
       "    </tr>\n",
       "    <tr>\n",
       "      <th>1</th>\n",
       "      <td>8/1/2014 0:09:00</td>\n",
       "      <td>40.72600</td>\n",
       "      <td>-73.99180</td>\n",
       "      <td>B02512</td>\n",
       "    </tr>\n",
       "    <tr>\n",
       "      <th>2</th>\n",
       "      <td>8/1/2014 0:12:00</td>\n",
       "      <td>40.72090</td>\n",
       "      <td>-74.05070</td>\n",
       "      <td>B02512</td>\n",
       "    </tr>\n",
       "    <tr>\n",
       "      <th>3</th>\n",
       "      <td>8/1/2014 0:12:00</td>\n",
       "      <td>40.73870</td>\n",
       "      <td>-73.98560</td>\n",
       "      <td>B02512</td>\n",
       "    </tr>\n",
       "    <tr>\n",
       "      <th>4</th>\n",
       "      <td>8/1/2014 0:12:00</td>\n",
       "      <td>40.73230</td>\n",
       "      <td>-74.00770</td>\n",
       "      <td>B02512</td>\n",
       "    </tr>\n",
       "    <tr>\n",
       "      <th>...</th>\n",
       "      <td>...</td>\n",
       "      <td>...</td>\n",
       "      <td>...</td>\n",
       "      <td>...</td>\n",
       "    </tr>\n",
       "    <tr>\n",
       "      <th>652430</th>\n",
       "      <td>5/31/2014 23:45:00</td>\n",
       "      <td>40.73090</td>\n",
       "      <td>-74.00140</td>\n",
       "      <td>B02764</td>\n",
       "    </tr>\n",
       "    <tr>\n",
       "      <th>652431</th>\n",
       "      <td>5/31/2014 23:52:00</td>\n",
       "      <td>40.75280</td>\n",
       "      <td>-73.97980</td>\n",
       "      <td>B02764</td>\n",
       "    </tr>\n",
       "    <tr>\n",
       "      <th>652432</th>\n",
       "      <td>5/31/2014 23:55:00</td>\n",
       "      <td>40.71580</td>\n",
       "      <td>-73.95190</td>\n",
       "      <td>B02764</td>\n",
       "    </tr>\n",
       "    <tr>\n",
       "      <th>652433</th>\n",
       "      <td>5/31/2014 23:56:00</td>\n",
       "      <td>40.69610</td>\n",
       "      <td>-73.89970</td>\n",
       "      <td>B02764</td>\n",
       "    </tr>\n",
       "    <tr>\n",
       "      <th>652434</th>\n",
       "      <td>5/31/2014 23:59:00</td>\n",
       "      <td>40.73930</td>\n",
       "      <td>-73.99190</td>\n",
       "      <td>B02764</td>\n",
       "    </tr>\n",
       "  </tbody>\n",
       "</table>\n",
       "<p>4534327 rows × 4 columns</p>\n",
       "</div>"
      ],
      "text/plain": [
       "                 Date/Time      Lat       Lon    Base\n",
       "0         8/1/2014 0:03:00 40.73660 -73.99060  B02512\n",
       "1         8/1/2014 0:09:00 40.72600 -73.99180  B02512\n",
       "2         8/1/2014 0:12:00 40.72090 -74.05070  B02512\n",
       "3         8/1/2014 0:12:00 40.73870 -73.98560  B02512\n",
       "4         8/1/2014 0:12:00 40.73230 -74.00770  B02512\n",
       "...                    ...      ...       ...     ...\n",
       "652430  5/31/2014 23:45:00 40.73090 -74.00140  B02764\n",
       "652431  5/31/2014 23:52:00 40.75280 -73.97980  B02764\n",
       "652432  5/31/2014 23:55:00 40.71580 -73.95190  B02764\n",
       "652433  5/31/2014 23:56:00 40.69610 -73.89970  B02764\n",
       "652434  5/31/2014 23:59:00 40.73930 -73.99190  B02764\n",
       "\n",
       "[4534327 rows x 4 columns]"
      ]
     },
     "execution_count": 47,
     "metadata": {},
     "output_type": "execute_result"
    }
   ],
   "source": [
    "df2014"
   ]
  },
  {
   "cell_type": "code",
   "execution_count": 48,
   "metadata": {},
   "outputs": [
    {
     "data": {
      "text/plain": [
       "0    8/1/2014 0:03:00\n",
       "1    8/1/2014 0:09:00\n",
       "2    8/1/2014 0:12:00\n",
       "3    8/1/2014 0:12:00\n",
       "4    8/1/2014 0:12:00\n",
       "Name: Date/Time, dtype: object"
      ]
     },
     "execution_count": 48,
     "metadata": {},
     "output_type": "execute_result"
    }
   ],
   "source": [
    "df2014['Date/Time'].head(5)"
   ]
  },
  {
   "cell_type": "code",
   "execution_count": 49,
   "metadata": {},
   "outputs": [],
   "source": [
    "df2014['Date/Time'] = pd.to_datetime(df2014['Date/Time'], format=\"%m/%d/%Y %H:%M:%S\")"
   ]
  },
  {
   "cell_type": "code",
   "execution_count": 50,
   "metadata": {},
   "outputs": [],
   "source": [
    "df2014['DiaSemana'] = df2014['Date/Time'].dt.dayofweek\n",
    "df2014['DiaMes'] = df2014['Date/Time'].dt.day\n",
    "df2014['Hora'] = df2014['Date/Time'].dt.hour\n",
    "df2014['DiaSemana'] = df2014['Date/Time'].dt.day_name()\n",
    "df2014['Mes'] = df2014['Date/Time'].dt.month\n",
    "df2014['Minuto'] = df2014['Date/Time'].dt.minute"
   ]
  },
  {
   "cell_type": "code",
   "execution_count": 51,
   "metadata": {
    "scrolled": true
   },
   "outputs": [
    {
     "name": "stdout",
     "output_type": "stream",
     "text": [
      "82581\n"
     ]
    },
    {
     "data": {
      "text/html": [
       "<div>\n",
       "<style scoped>\n",
       "    .dataframe tbody tr th:only-of-type {\n",
       "        vertical-align: middle;\n",
       "    }\n",
       "\n",
       "    .dataframe tbody tr th {\n",
       "        vertical-align: top;\n",
       "    }\n",
       "\n",
       "    .dataframe thead th {\n",
       "        text-align: right;\n",
       "    }\n",
       "</style>\n",
       "<table border=\"1\" class=\"dataframe\">\n",
       "  <thead>\n",
       "    <tr style=\"text-align: right;\">\n",
       "      <th></th>\n",
       "      <th>Date/Time</th>\n",
       "      <th>Lat</th>\n",
       "      <th>Lon</th>\n",
       "      <th>Base</th>\n",
       "      <th>DiaSemana</th>\n",
       "      <th>DiaMes</th>\n",
       "      <th>Hora</th>\n",
       "      <th>Mes</th>\n",
       "      <th>Minuto</th>\n",
       "    </tr>\n",
       "  </thead>\n",
       "  <tbody>\n",
       "    <tr>\n",
       "      <th>0</th>\n",
       "      <td>2014-08-01 00:03:00</td>\n",
       "      <td>40.73660</td>\n",
       "      <td>-73.99060</td>\n",
       "      <td>B02512</td>\n",
       "      <td>Friday</td>\n",
       "      <td>1</td>\n",
       "      <td>0</td>\n",
       "      <td>8</td>\n",
       "      <td>3</td>\n",
       "    </tr>\n",
       "    <tr>\n",
       "      <th>1</th>\n",
       "      <td>2014-08-01 00:09:00</td>\n",
       "      <td>40.72600</td>\n",
       "      <td>-73.99180</td>\n",
       "      <td>B02512</td>\n",
       "      <td>Friday</td>\n",
       "      <td>1</td>\n",
       "      <td>0</td>\n",
       "      <td>8</td>\n",
       "      <td>9</td>\n",
       "    </tr>\n",
       "    <tr>\n",
       "      <th>2</th>\n",
       "      <td>2014-08-01 00:12:00</td>\n",
       "      <td>40.72090</td>\n",
       "      <td>-74.05070</td>\n",
       "      <td>B02512</td>\n",
       "      <td>Friday</td>\n",
       "      <td>1</td>\n",
       "      <td>0</td>\n",
       "      <td>8</td>\n",
       "      <td>12</td>\n",
       "    </tr>\n",
       "    <tr>\n",
       "      <th>3</th>\n",
       "      <td>2014-08-01 00:12:00</td>\n",
       "      <td>40.73870</td>\n",
       "      <td>-73.98560</td>\n",
       "      <td>B02512</td>\n",
       "      <td>Friday</td>\n",
       "      <td>1</td>\n",
       "      <td>0</td>\n",
       "      <td>8</td>\n",
       "      <td>12</td>\n",
       "    </tr>\n",
       "    <tr>\n",
       "      <th>4</th>\n",
       "      <td>2014-08-01 00:12:00</td>\n",
       "      <td>40.73230</td>\n",
       "      <td>-74.00770</td>\n",
       "      <td>B02512</td>\n",
       "      <td>Friday</td>\n",
       "      <td>1</td>\n",
       "      <td>0</td>\n",
       "      <td>8</td>\n",
       "      <td>12</td>\n",
       "    </tr>\n",
       "  </tbody>\n",
       "</table>\n",
       "</div>"
      ],
      "text/plain": [
       "            Date/Time      Lat       Lon    Base DiaSemana  DiaMes  Hora  Mes  \\\n",
       "0 2014-08-01 00:03:00 40.73660 -73.99060  B02512    Friday       1     0    8   \n",
       "1 2014-08-01 00:09:00 40.72600 -73.99180  B02512    Friday       1     0    8   \n",
       "2 2014-08-01 00:12:00 40.72090 -74.05070  B02512    Friday       1     0    8   \n",
       "3 2014-08-01 00:12:00 40.73870 -73.98560  B02512    Friday       1     0    8   \n",
       "4 2014-08-01 00:12:00 40.73230 -74.00770  B02512    Friday       1     0    8   \n",
       "\n",
       "   Minuto  \n",
       "0       3  \n",
       "1       9  \n",
       "2      12  \n",
       "3      12  \n",
       "4      12  "
      ]
     },
     "execution_count": 51,
     "metadata": {},
     "output_type": "execute_result"
    }
   ],
   "source": [
    "df2014.duplicated().sum()\n",
    "print(df2014.duplicated().sum())\n",
    "df2014.drop_duplicates(inplace=True)\n",
    "df2014.head(5)"
   ]
  },
  {
   "cell_type": "code",
   "execution_count": 52,
   "metadata": {},
   "outputs": [],
   "source": [
    "def esFinde(dia):\n",
    "    if dia == 'Sunday' or dia == 'Saturday' :\n",
    "        return 0\n",
    "    else:\n",
    "        return 1"
   ]
  },
  {
   "cell_type": "code",
   "execution_count": 53,
   "metadata": {},
   "outputs": [],
   "source": [
    "df2014['DiaLaboral'] = df2014['DiaSemana'].apply(esFinde)"
   ]
  },
  {
   "cell_type": "code",
   "execution_count": 54,
   "metadata": {},
   "outputs": [
    {
     "data": {
      "text/html": [
       "<div>\n",
       "<style scoped>\n",
       "    .dataframe tbody tr th:only-of-type {\n",
       "        vertical-align: middle;\n",
       "    }\n",
       "\n",
       "    .dataframe tbody tr th {\n",
       "        vertical-align: top;\n",
       "    }\n",
       "\n",
       "    .dataframe thead th {\n",
       "        text-align: right;\n",
       "    }\n",
       "</style>\n",
       "<table border=\"1\" class=\"dataframe\">\n",
       "  <thead>\n",
       "    <tr style=\"text-align: right;\">\n",
       "      <th></th>\n",
       "      <th>Date/Time</th>\n",
       "      <th>Lat</th>\n",
       "      <th>Lon</th>\n",
       "      <th>Base</th>\n",
       "      <th>DiaSemana</th>\n",
       "      <th>DiaMes</th>\n",
       "      <th>Hora</th>\n",
       "      <th>Mes</th>\n",
       "      <th>Minuto</th>\n",
       "      <th>DiaLaboral</th>\n",
       "    </tr>\n",
       "  </thead>\n",
       "  <tbody>\n",
       "    <tr>\n",
       "      <th>0</th>\n",
       "      <td>2014-08-01 00:03:00</td>\n",
       "      <td>40.73660</td>\n",
       "      <td>-73.99060</td>\n",
       "      <td>B02512</td>\n",
       "      <td>Friday</td>\n",
       "      <td>1</td>\n",
       "      <td>0</td>\n",
       "      <td>8</td>\n",
       "      <td>3</td>\n",
       "      <td>1</td>\n",
       "    </tr>\n",
       "    <tr>\n",
       "      <th>1</th>\n",
       "      <td>2014-08-01 00:09:00</td>\n",
       "      <td>40.72600</td>\n",
       "      <td>-73.99180</td>\n",
       "      <td>B02512</td>\n",
       "      <td>Friday</td>\n",
       "      <td>1</td>\n",
       "      <td>0</td>\n",
       "      <td>8</td>\n",
       "      <td>9</td>\n",
       "      <td>1</td>\n",
       "    </tr>\n",
       "    <tr>\n",
       "      <th>2</th>\n",
       "      <td>2014-08-01 00:12:00</td>\n",
       "      <td>40.72090</td>\n",
       "      <td>-74.05070</td>\n",
       "      <td>B02512</td>\n",
       "      <td>Friday</td>\n",
       "      <td>1</td>\n",
       "      <td>0</td>\n",
       "      <td>8</td>\n",
       "      <td>12</td>\n",
       "      <td>1</td>\n",
       "    </tr>\n",
       "    <tr>\n",
       "      <th>3</th>\n",
       "      <td>2014-08-01 00:12:00</td>\n",
       "      <td>40.73870</td>\n",
       "      <td>-73.98560</td>\n",
       "      <td>B02512</td>\n",
       "      <td>Friday</td>\n",
       "      <td>1</td>\n",
       "      <td>0</td>\n",
       "      <td>8</td>\n",
       "      <td>12</td>\n",
       "      <td>1</td>\n",
       "    </tr>\n",
       "    <tr>\n",
       "      <th>4</th>\n",
       "      <td>2014-08-01 00:12:00</td>\n",
       "      <td>40.73230</td>\n",
       "      <td>-74.00770</td>\n",
       "      <td>B02512</td>\n",
       "      <td>Friday</td>\n",
       "      <td>1</td>\n",
       "      <td>0</td>\n",
       "      <td>8</td>\n",
       "      <td>12</td>\n",
       "      <td>1</td>\n",
       "    </tr>\n",
       "  </tbody>\n",
       "</table>\n",
       "</div>"
      ],
      "text/plain": [
       "            Date/Time      Lat       Lon    Base DiaSemana  DiaMes  Hora  Mes  \\\n",
       "0 2014-08-01 00:03:00 40.73660 -73.99060  B02512    Friday       1     0    8   \n",
       "1 2014-08-01 00:09:00 40.72600 -73.99180  B02512    Friday       1     0    8   \n",
       "2 2014-08-01 00:12:00 40.72090 -74.05070  B02512    Friday       1     0    8   \n",
       "3 2014-08-01 00:12:00 40.73870 -73.98560  B02512    Friday       1     0    8   \n",
       "4 2014-08-01 00:12:00 40.73230 -74.00770  B02512    Friday       1     0    8   \n",
       "\n",
       "   Minuto  DiaLaboral  \n",
       "0       3           1  \n",
       "1       9           1  \n",
       "2      12           1  \n",
       "3      12           1  \n",
       "4      12           1  "
      ]
     },
     "execution_count": 54,
     "metadata": {},
     "output_type": "execute_result"
    }
   ],
   "source": [
    "df2014.head()"
   ]
  },
  {
   "cell_type": "code",
   "execution_count": 55,
   "metadata": {},
   "outputs": [],
   "source": [
    "df2014['DiaSemana'] = df2014['DiaSemana'].replace('Monday', '1')\n",
    "df2014['DiaSemana'] = df2014['DiaSemana'].replace('Tuesday', '2')\n",
    "df2014['DiaSemana'] = df2014['DiaSemana'].replace('Wednesday', '3')\n",
    "df2014['DiaSemana'] = df2014['DiaSemana'].replace('Thursday', '4')\n",
    "df2014['DiaSemana'] = df2014['DiaSemana'].replace('Friday', '5')\n",
    "df2014['DiaSemana'] = df2014['DiaSemana'].replace('Saturday', '6')\n",
    "df2014['DiaSemana'] = df2014['DiaSemana'].replace('Sunday', '7')"
   ]
  },
  {
   "cell_type": "code",
   "execution_count": 56,
   "metadata": {},
   "outputs": [
    {
     "data": {
      "text/plain": [
       "0         5\n",
       "1         5\n",
       "2         5\n",
       "3         5\n",
       "4         5\n",
       "         ..\n",
       "652430    6\n",
       "652431    6\n",
       "652432    6\n",
       "652433    6\n",
       "652434    6\n",
       "Name: DiaSemana, Length: 4451746, dtype: int32"
      ]
     },
     "execution_count": 56,
     "metadata": {},
     "output_type": "execute_result"
    }
   ],
   "source": [
    "df2014['DiaSemana'].astype(int)"
   ]
  },
  {
   "cell_type": "code",
   "execution_count": 57,
   "metadata": {},
   "outputs": [],
   "source": [
    "datos_2=df2014. groupby (['DiaMes','DiaSemana','Hora','DiaLaboral']). agg ({'Hora': ['count']}). reset_index ()"
   ]
  },
  {
   "cell_type": "code",
   "execution_count": 58,
   "metadata": {},
   "outputs": [],
   "source": [
    "datos_2.drop_duplicates(inplace=True)"
   ]
  },
  {
   "cell_type": "code",
   "execution_count": 59,
   "metadata": {},
   "outputs": [],
   "source": [
    "df_lluvias = pd.read_excel(\"Lluvia.xlsx\")\n",
    "X2 = pd.merge(df2014, df_lluvias, how='left', left_on=['Hora', 'Mes','DiaMes'], right_on=['hora', 'mes', 'Dia'])\n",
    "X2= X2.drop(['año', 'mes', 'Dia', 'hora', 'New York'], axis=1)"
   ]
  },
  {
   "cell_type": "code",
   "execution_count": 60,
   "metadata": {},
   "outputs": [
    {
     "data": {
      "text/html": [
       "<div>\n",
       "<style scoped>\n",
       "    .dataframe tbody tr th:only-of-type {\n",
       "        vertical-align: middle;\n",
       "    }\n",
       "\n",
       "    .dataframe tbody tr th {\n",
       "        vertical-align: top;\n",
       "    }\n",
       "\n",
       "    .dataframe thead th {\n",
       "        text-align: right;\n",
       "    }\n",
       "</style>\n",
       "<table border=\"1\" class=\"dataframe\">\n",
       "  <thead>\n",
       "    <tr style=\"text-align: right;\">\n",
       "      <th></th>\n",
       "      <th>Date/Time</th>\n",
       "      <th>Lat</th>\n",
       "      <th>Lon</th>\n",
       "      <th>Base</th>\n",
       "      <th>DiaSemana</th>\n",
       "      <th>DiaMes</th>\n",
       "      <th>Hora</th>\n",
       "      <th>Mes</th>\n",
       "      <th>Minuto</th>\n",
       "      <th>DiaLaboral</th>\n",
       "      <th>Lluvia</th>\n",
       "      <th>temp</th>\n",
       "    </tr>\n",
       "  </thead>\n",
       "  <tbody>\n",
       "    <tr>\n",
       "      <th>0</th>\n",
       "      <td>2014-08-01 00:03:00</td>\n",
       "      <td>40.73660</td>\n",
       "      <td>-73.99060</td>\n",
       "      <td>B02512</td>\n",
       "      <td>5</td>\n",
       "      <td>1</td>\n",
       "      <td>0</td>\n",
       "      <td>8</td>\n",
       "      <td>3</td>\n",
       "      <td>1</td>\n",
       "      <td>0</td>\n",
       "      <td>297.51000</td>\n",
       "    </tr>\n",
       "    <tr>\n",
       "      <th>1</th>\n",
       "      <td>2014-08-01 00:09:00</td>\n",
       "      <td>40.72600</td>\n",
       "      <td>-73.99180</td>\n",
       "      <td>B02512</td>\n",
       "      <td>5</td>\n",
       "      <td>1</td>\n",
       "      <td>0</td>\n",
       "      <td>8</td>\n",
       "      <td>9</td>\n",
       "      <td>1</td>\n",
       "      <td>0</td>\n",
       "      <td>297.51000</td>\n",
       "    </tr>\n",
       "    <tr>\n",
       "      <th>2</th>\n",
       "      <td>2014-08-01 00:12:00</td>\n",
       "      <td>40.72090</td>\n",
       "      <td>-74.05070</td>\n",
       "      <td>B02512</td>\n",
       "      <td>5</td>\n",
       "      <td>1</td>\n",
       "      <td>0</td>\n",
       "      <td>8</td>\n",
       "      <td>12</td>\n",
       "      <td>1</td>\n",
       "      <td>0</td>\n",
       "      <td>297.51000</td>\n",
       "    </tr>\n",
       "    <tr>\n",
       "      <th>3</th>\n",
       "      <td>2014-08-01 00:12:00</td>\n",
       "      <td>40.73870</td>\n",
       "      <td>-73.98560</td>\n",
       "      <td>B02512</td>\n",
       "      <td>5</td>\n",
       "      <td>1</td>\n",
       "      <td>0</td>\n",
       "      <td>8</td>\n",
       "      <td>12</td>\n",
       "      <td>1</td>\n",
       "      <td>0</td>\n",
       "      <td>297.51000</td>\n",
       "    </tr>\n",
       "    <tr>\n",
       "      <th>4</th>\n",
       "      <td>2014-08-01 00:12:00</td>\n",
       "      <td>40.73230</td>\n",
       "      <td>-74.00770</td>\n",
       "      <td>B02512</td>\n",
       "      <td>5</td>\n",
       "      <td>1</td>\n",
       "      <td>0</td>\n",
       "      <td>8</td>\n",
       "      <td>12</td>\n",
       "      <td>1</td>\n",
       "      <td>0</td>\n",
       "      <td>297.51000</td>\n",
       "    </tr>\n",
       "    <tr>\n",
       "      <th>...</th>\n",
       "      <td>...</td>\n",
       "      <td>...</td>\n",
       "      <td>...</td>\n",
       "      <td>...</td>\n",
       "      <td>...</td>\n",
       "      <td>...</td>\n",
       "      <td>...</td>\n",
       "      <td>...</td>\n",
       "      <td>...</td>\n",
       "      <td>...</td>\n",
       "      <td>...</td>\n",
       "      <td>...</td>\n",
       "    </tr>\n",
       "    <tr>\n",
       "      <th>4451741</th>\n",
       "      <td>2014-05-31 23:45:00</td>\n",
       "      <td>40.73090</td>\n",
       "      <td>-74.00140</td>\n",
       "      <td>B02764</td>\n",
       "      <td>6</td>\n",
       "      <td>31</td>\n",
       "      <td>23</td>\n",
       "      <td>5</td>\n",
       "      <td>45</td>\n",
       "      <td>0</td>\n",
       "      <td>0</td>\n",
       "      <td>292.80000</td>\n",
       "    </tr>\n",
       "    <tr>\n",
       "      <th>4451742</th>\n",
       "      <td>2014-05-31 23:52:00</td>\n",
       "      <td>40.75280</td>\n",
       "      <td>-73.97980</td>\n",
       "      <td>B02764</td>\n",
       "      <td>6</td>\n",
       "      <td>31</td>\n",
       "      <td>23</td>\n",
       "      <td>5</td>\n",
       "      <td>52</td>\n",
       "      <td>0</td>\n",
       "      <td>0</td>\n",
       "      <td>292.80000</td>\n",
       "    </tr>\n",
       "    <tr>\n",
       "      <th>4451743</th>\n",
       "      <td>2014-05-31 23:55:00</td>\n",
       "      <td>40.71580</td>\n",
       "      <td>-73.95190</td>\n",
       "      <td>B02764</td>\n",
       "      <td>6</td>\n",
       "      <td>31</td>\n",
       "      <td>23</td>\n",
       "      <td>5</td>\n",
       "      <td>55</td>\n",
       "      <td>0</td>\n",
       "      <td>0</td>\n",
       "      <td>292.80000</td>\n",
       "    </tr>\n",
       "    <tr>\n",
       "      <th>4451744</th>\n",
       "      <td>2014-05-31 23:56:00</td>\n",
       "      <td>40.69610</td>\n",
       "      <td>-73.89970</td>\n",
       "      <td>B02764</td>\n",
       "      <td>6</td>\n",
       "      <td>31</td>\n",
       "      <td>23</td>\n",
       "      <td>5</td>\n",
       "      <td>56</td>\n",
       "      <td>0</td>\n",
       "      <td>0</td>\n",
       "      <td>292.80000</td>\n",
       "    </tr>\n",
       "    <tr>\n",
       "      <th>4451745</th>\n",
       "      <td>2014-05-31 23:59:00</td>\n",
       "      <td>40.73930</td>\n",
       "      <td>-73.99190</td>\n",
       "      <td>B02764</td>\n",
       "      <td>6</td>\n",
       "      <td>31</td>\n",
       "      <td>23</td>\n",
       "      <td>5</td>\n",
       "      <td>59</td>\n",
       "      <td>0</td>\n",
       "      <td>0</td>\n",
       "      <td>292.80000</td>\n",
       "    </tr>\n",
       "  </tbody>\n",
       "</table>\n",
       "<p>4451746 rows × 12 columns</p>\n",
       "</div>"
      ],
      "text/plain": [
       "                  Date/Time      Lat       Lon    Base DiaSemana  DiaMes  \\\n",
       "0       2014-08-01 00:03:00 40.73660 -73.99060  B02512         5       1   \n",
       "1       2014-08-01 00:09:00 40.72600 -73.99180  B02512         5       1   \n",
       "2       2014-08-01 00:12:00 40.72090 -74.05070  B02512         5       1   \n",
       "3       2014-08-01 00:12:00 40.73870 -73.98560  B02512         5       1   \n",
       "4       2014-08-01 00:12:00 40.73230 -74.00770  B02512         5       1   \n",
       "...                     ...      ...       ...     ...       ...     ...   \n",
       "4451741 2014-05-31 23:45:00 40.73090 -74.00140  B02764         6      31   \n",
       "4451742 2014-05-31 23:52:00 40.75280 -73.97980  B02764         6      31   \n",
       "4451743 2014-05-31 23:55:00 40.71580 -73.95190  B02764         6      31   \n",
       "4451744 2014-05-31 23:56:00 40.69610 -73.89970  B02764         6      31   \n",
       "4451745 2014-05-31 23:59:00 40.73930 -73.99190  B02764         6      31   \n",
       "\n",
       "         Hora  Mes  Minuto  DiaLaboral  Lluvia      temp  \n",
       "0           0    8       3           1       0 297.51000  \n",
       "1           0    8       9           1       0 297.51000  \n",
       "2           0    8      12           1       0 297.51000  \n",
       "3           0    8      12           1       0 297.51000  \n",
       "4           0    8      12           1       0 297.51000  \n",
       "...       ...  ...     ...         ...     ...       ...  \n",
       "4451741    23    5      45           0       0 292.80000  \n",
       "4451742    23    5      52           0       0 292.80000  \n",
       "4451743    23    5      55           0       0 292.80000  \n",
       "4451744    23    5      56           0       0 292.80000  \n",
       "4451745    23    5      59           0       0 292.80000  \n",
       "\n",
       "[4451746 rows x 12 columns]"
      ]
     },
     "execution_count": 60,
     "metadata": {},
     "output_type": "execute_result"
    }
   ],
   "source": [
    "X2"
   ]
  },
  {
   "cell_type": "code",
   "execution_count": 66,
   "metadata": {},
   "outputs": [],
   "source": [
    "#datos_2=X2.groupby(['DiaMes','DiaSemana','Hora','DiaLaboral', 'Lluvia', 'temp','Mes']).agg({'Date/Time':['count']}).reset_index()\n",
    "datos_2 = X2.groupby(['DiaMes','DiaSemana','Hora','DiaLaboral', 'Lluvia', 'temp','Mes'])['Date/Time'].count().reset_index()"
   ]
  },
  {
   "cell_type": "code",
   "execution_count": 76,
   "metadata": {},
   "outputs": [
    {
     "name": "stdout",
     "output_type": "stream",
     "text": [
      "<class 'pandas.core.frame.DataFrame'>\n",
      "RangeIndex: 4391 entries, 0 to 4390\n",
      "Data columns (total 8 columns):\n",
      " #   Column      Non-Null Count  Dtype  \n",
      "---  ------      --------------  -----  \n",
      " 0   DiaMes      4391 non-null   int64  \n",
      " 1   DiaSemana   4391 non-null   object \n",
      " 2   Hora        4391 non-null   int64  \n",
      " 3   DiaLaboral  4391 non-null   int64  \n",
      " 4   Lluvia      4391 non-null   int64  \n",
      " 5   temp        4391 non-null   float64\n",
      " 6   Mes         4391 non-null   int64  \n",
      " 7   flujo       4391 non-null   int64  \n",
      "dtypes: float64(1), int64(6), object(1)\n",
      "memory usage: 274.6+ KB\n"
     ]
    }
   ],
   "source": [
    "datos_2.info()"
   ]
  },
  {
   "cell_type": "code",
   "execution_count": 29,
   "metadata": {},
   "outputs": [],
   "source": [
    "#datos_2.to_stata('DFdatos2.dta')"
   ]
  },
  {
   "cell_type": "code",
   "execution_count": 81,
   "metadata": {},
   "outputs": [],
   "source": [
    "datos_2=pd.read_stata('DFdatos2.dta')"
   ]
  },
  {
   "cell_type": "code",
   "execution_count": 82,
   "metadata": {},
   "outputs": [
    {
     "data": {
      "text/html": [
       "<div>\n",
       "<style scoped>\n",
       "    .dataframe tbody tr th:only-of-type {\n",
       "        vertical-align: middle;\n",
       "    }\n",
       "\n",
       "    .dataframe tbody tr th {\n",
       "        vertical-align: top;\n",
       "    }\n",
       "\n",
       "    .dataframe thead th {\n",
       "        text-align: right;\n",
       "    }\n",
       "</style>\n",
       "<table border=\"1\" class=\"dataframe\">\n",
       "  <thead>\n",
       "    <tr style=\"text-align: right;\">\n",
       "      <th></th>\n",
       "      <th>index</th>\n",
       "      <th>DiaMes</th>\n",
       "      <th>Hora</th>\n",
       "      <th>DiaLaboral</th>\n",
       "      <th>lluvia</th>\n",
       "      <th>temp</th>\n",
       "      <th>Mes</th>\n",
       "      <th>flujo</th>\n",
       "      <th>dia_sem</th>\n",
       "    </tr>\n",
       "  </thead>\n",
       "  <tbody>\n",
       "    <tr>\n",
       "      <th>0</th>\n",
       "      <td>0</td>\n",
       "      <td>1</td>\n",
       "      <td>0</td>\n",
       "      <td>1</td>\n",
       "      <td>0</td>\n",
       "      <td>298.01000</td>\n",
       "      <td>9</td>\n",
       "      <td>682</td>\n",
       "      <td>1</td>\n",
       "    </tr>\n",
       "    <tr>\n",
       "      <th>1</th>\n",
       "      <td>1</td>\n",
       "      <td>1</td>\n",
       "      <td>1</td>\n",
       "      <td>1</td>\n",
       "      <td>0</td>\n",
       "      <td>297.23000</td>\n",
       "      <td>9</td>\n",
       "      <td>480</td>\n",
       "      <td>1</td>\n",
       "    </tr>\n",
       "    <tr>\n",
       "      <th>2</th>\n",
       "      <td>2</td>\n",
       "      <td>1</td>\n",
       "      <td>2</td>\n",
       "      <td>1</td>\n",
       "      <td>0</td>\n",
       "      <td>297.23000</td>\n",
       "      <td>9</td>\n",
       "      <td>356</td>\n",
       "      <td>1</td>\n",
       "    </tr>\n",
       "    <tr>\n",
       "      <th>3</th>\n",
       "      <td>3</td>\n",
       "      <td>1</td>\n",
       "      <td>3</td>\n",
       "      <td>1</td>\n",
       "      <td>0</td>\n",
       "      <td>296.81000</td>\n",
       "      <td>9</td>\n",
       "      <td>329</td>\n",
       "      <td>1</td>\n",
       "    </tr>\n",
       "    <tr>\n",
       "      <th>4</th>\n",
       "      <td>4</td>\n",
       "      <td>1</td>\n",
       "      <td>4</td>\n",
       "      <td>1</td>\n",
       "      <td>0</td>\n",
       "      <td>296.72000</td>\n",
       "      <td>9</td>\n",
       "      <td>260</td>\n",
       "      <td>1</td>\n",
       "    </tr>\n",
       "    <tr>\n",
       "      <th>...</th>\n",
       "      <td>...</td>\n",
       "      <td>...</td>\n",
       "      <td>...</td>\n",
       "      <td>...</td>\n",
       "      <td>...</td>\n",
       "      <td>...</td>\n",
       "      <td>...</td>\n",
       "      <td>...</td>\n",
       "      <td>...</td>\n",
       "    </tr>\n",
       "    <tr>\n",
       "      <th>4386</th>\n",
       "      <td>4386</td>\n",
       "      <td>31</td>\n",
       "      <td>19</td>\n",
       "      <td>0</td>\n",
       "      <td>1</td>\n",
       "      <td>303.45000</td>\n",
       "      <td>8</td>\n",
       "      <td>1315</td>\n",
       "      <td>7</td>\n",
       "    </tr>\n",
       "    <tr>\n",
       "      <th>4387</th>\n",
       "      <td>4387</td>\n",
       "      <td>31</td>\n",
       "      <td>20</td>\n",
       "      <td>0</td>\n",
       "      <td>0</td>\n",
       "      <td>302.18000</td>\n",
       "      <td>8</td>\n",
       "      <td>1223</td>\n",
       "      <td>7</td>\n",
       "    </tr>\n",
       "    <tr>\n",
       "      <th>4388</th>\n",
       "      <td>4388</td>\n",
       "      <td>31</td>\n",
       "      <td>21</td>\n",
       "      <td>0</td>\n",
       "      <td>0</td>\n",
       "      <td>299.70000</td>\n",
       "      <td>8</td>\n",
       "      <td>1395</td>\n",
       "      <td>7</td>\n",
       "    </tr>\n",
       "    <tr>\n",
       "      <th>4389</th>\n",
       "      <td>4389</td>\n",
       "      <td>31</td>\n",
       "      <td>22</td>\n",
       "      <td>0</td>\n",
       "      <td>0</td>\n",
       "      <td>298.71000</td>\n",
       "      <td>8</td>\n",
       "      <td>1325</td>\n",
       "      <td>7</td>\n",
       "    </tr>\n",
       "    <tr>\n",
       "      <th>4390</th>\n",
       "      <td>4390</td>\n",
       "      <td>31</td>\n",
       "      <td>23</td>\n",
       "      <td>0</td>\n",
       "      <td>0</td>\n",
       "      <td>298.53000</td>\n",
       "      <td>8</td>\n",
       "      <td>1012</td>\n",
       "      <td>7</td>\n",
       "    </tr>\n",
       "  </tbody>\n",
       "</table>\n",
       "<p>4391 rows × 9 columns</p>\n",
       "</div>"
      ],
      "text/plain": [
       "      index  DiaMes  Hora  DiaLaboral  lluvia      temp  Mes  flujo  dia_sem\n",
       "0         0       1     0           1       0 298.01000    9    682        1\n",
       "1         1       1     1           1       0 297.23000    9    480        1\n",
       "2         2       1     2           1       0 297.23000    9    356        1\n",
       "3         3       1     3           1       0 296.81000    9    329        1\n",
       "4         4       1     4           1       0 296.72000    9    260        1\n",
       "...     ...     ...   ...         ...     ...       ...  ...    ...      ...\n",
       "4386   4386      31    19           0       1 303.45000    8   1315        7\n",
       "4387   4387      31    20           0       0 302.18000    8   1223        7\n",
       "4388   4388      31    21           0       0 299.70000    8   1395        7\n",
       "4389   4389      31    22           0       0 298.71000    8   1325        7\n",
       "4390   4390      31    23           0       0 298.53000    8   1012        7\n",
       "\n",
       "[4391 rows x 9 columns]"
      ]
     },
     "execution_count": 82,
     "metadata": {},
     "output_type": "execute_result"
    }
   ],
   "source": [
    "datos_2 = datos_2.rename(columns={'Date/Time':'flujo'})\n",
    "datos_2"
   ]
  },
  {
   "cell_type": "code",
   "execution_count": 83,
   "metadata": {},
   "outputs": [
    {
     "data": {
      "text/html": [
       "<div>\n",
       "<style scoped>\n",
       "    .dataframe tbody tr th:only-of-type {\n",
       "        vertical-align: middle;\n",
       "    }\n",
       "\n",
       "    .dataframe tbody tr th {\n",
       "        vertical-align: top;\n",
       "    }\n",
       "\n",
       "    .dataframe thead th {\n",
       "        text-align: right;\n",
       "    }\n",
       "</style>\n",
       "<table border=\"1\" class=\"dataframe\">\n",
       "  <thead>\n",
       "    <tr style=\"text-align: right;\">\n",
       "      <th></th>\n",
       "      <th>DiaMes</th>\n",
       "      <th>Hora</th>\n",
       "      <th>DiaLaboral</th>\n",
       "      <th>lluvia</th>\n",
       "      <th>temp</th>\n",
       "      <th>Mes</th>\n",
       "      <th>flujo</th>\n",
       "      <th>dia_sem</th>\n",
       "    </tr>\n",
       "  </thead>\n",
       "  <tbody>\n",
       "    <tr>\n",
       "      <th>0</th>\n",
       "      <td>1</td>\n",
       "      <td>0</td>\n",
       "      <td>1</td>\n",
       "      <td>0</td>\n",
       "      <td>298.01000</td>\n",
       "      <td>9</td>\n",
       "      <td>682</td>\n",
       "      <td>1</td>\n",
       "    </tr>\n",
       "    <tr>\n",
       "      <th>1</th>\n",
       "      <td>1</td>\n",
       "      <td>1</td>\n",
       "      <td>1</td>\n",
       "      <td>0</td>\n",
       "      <td>297.23000</td>\n",
       "      <td>9</td>\n",
       "      <td>480</td>\n",
       "      <td>1</td>\n",
       "    </tr>\n",
       "    <tr>\n",
       "      <th>2</th>\n",
       "      <td>1</td>\n",
       "      <td>2</td>\n",
       "      <td>1</td>\n",
       "      <td>0</td>\n",
       "      <td>297.23000</td>\n",
       "      <td>9</td>\n",
       "      <td>356</td>\n",
       "      <td>1</td>\n",
       "    </tr>\n",
       "    <tr>\n",
       "      <th>3</th>\n",
       "      <td>1</td>\n",
       "      <td>3</td>\n",
       "      <td>1</td>\n",
       "      <td>0</td>\n",
       "      <td>296.81000</td>\n",
       "      <td>9</td>\n",
       "      <td>329</td>\n",
       "      <td>1</td>\n",
       "    </tr>\n",
       "    <tr>\n",
       "      <th>4</th>\n",
       "      <td>1</td>\n",
       "      <td>4</td>\n",
       "      <td>1</td>\n",
       "      <td>0</td>\n",
       "      <td>296.72000</td>\n",
       "      <td>9</td>\n",
       "      <td>260</td>\n",
       "      <td>1</td>\n",
       "    </tr>\n",
       "    <tr>\n",
       "      <th>...</th>\n",
       "      <td>...</td>\n",
       "      <td>...</td>\n",
       "      <td>...</td>\n",
       "      <td>...</td>\n",
       "      <td>...</td>\n",
       "      <td>...</td>\n",
       "      <td>...</td>\n",
       "      <td>...</td>\n",
       "    </tr>\n",
       "    <tr>\n",
       "      <th>4386</th>\n",
       "      <td>31</td>\n",
       "      <td>19</td>\n",
       "      <td>0</td>\n",
       "      <td>1</td>\n",
       "      <td>303.45000</td>\n",
       "      <td>8</td>\n",
       "      <td>1315</td>\n",
       "      <td>7</td>\n",
       "    </tr>\n",
       "    <tr>\n",
       "      <th>4387</th>\n",
       "      <td>31</td>\n",
       "      <td>20</td>\n",
       "      <td>0</td>\n",
       "      <td>0</td>\n",
       "      <td>302.18000</td>\n",
       "      <td>8</td>\n",
       "      <td>1223</td>\n",
       "      <td>7</td>\n",
       "    </tr>\n",
       "    <tr>\n",
       "      <th>4388</th>\n",
       "      <td>31</td>\n",
       "      <td>21</td>\n",
       "      <td>0</td>\n",
       "      <td>0</td>\n",
       "      <td>299.70000</td>\n",
       "      <td>8</td>\n",
       "      <td>1395</td>\n",
       "      <td>7</td>\n",
       "    </tr>\n",
       "    <tr>\n",
       "      <th>4389</th>\n",
       "      <td>31</td>\n",
       "      <td>22</td>\n",
       "      <td>0</td>\n",
       "      <td>0</td>\n",
       "      <td>298.71000</td>\n",
       "      <td>8</td>\n",
       "      <td>1325</td>\n",
       "      <td>7</td>\n",
       "    </tr>\n",
       "    <tr>\n",
       "      <th>4390</th>\n",
       "      <td>31</td>\n",
       "      <td>23</td>\n",
       "      <td>0</td>\n",
       "      <td>0</td>\n",
       "      <td>298.53000</td>\n",
       "      <td>8</td>\n",
       "      <td>1012</td>\n",
       "      <td>7</td>\n",
       "    </tr>\n",
       "  </tbody>\n",
       "</table>\n",
       "<p>4391 rows × 8 columns</p>\n",
       "</div>"
      ],
      "text/plain": [
       "      DiaMes  Hora  DiaLaboral  lluvia      temp  Mes  flujo  dia_sem\n",
       "0          1     0           1       0 298.01000    9    682        1\n",
       "1          1     1           1       0 297.23000    9    480        1\n",
       "2          1     2           1       0 297.23000    9    356        1\n",
       "3          1     3           1       0 296.81000    9    329        1\n",
       "4          1     4           1       0 296.72000    9    260        1\n",
       "...      ...   ...         ...     ...       ...  ...    ...      ...\n",
       "4386      31    19           0       1 303.45000    8   1315        7\n",
       "4387      31    20           0       0 302.18000    8   1223        7\n",
       "4388      31    21           0       0 299.70000    8   1395        7\n",
       "4389      31    22           0       0 298.71000    8   1325        7\n",
       "4390      31    23           0       0 298.53000    8   1012        7\n",
       "\n",
       "[4391 rows x 8 columns]"
      ]
     },
     "execution_count": 83,
     "metadata": {},
     "output_type": "execute_result"
    }
   ],
   "source": [
    "datos_2= datos_2.drop(['index'], axis=1)\n",
    "datos_2"
   ]
  },
  {
   "cell_type": "code",
   "execution_count": 84,
   "metadata": {},
   "outputs": [
    {
     "data": {
      "image/png": "[encoded data removed]",
      "text/plain": [
       "<Figure size 1080x720 with 1 Axes>"
      ]
     },
     "metadata": {},
     "output_type": "display_data"
    }
   ],
   "source": [
    "# Correlación entre columnas numéricas\n",
    "data = datos_2.corr(method='pearson')\n",
    "plt.figure(figsize=(15, 10))\n",
    "sns.heatmap(data[0:9], annot=True,fmt='.0', linewidths=.1, cmap=\"YlGnBu\", cbar=False)\n",
    "plt.show()"
   ]
  },
  {
   "cell_type": "markdown",
   "metadata": {},
   "source": [
    "OLS"
   ]
  },
  {
   "cell_type": "code",
   "execution_count": 86,
   "metadata": {},
   "outputs": [
    {
     "name": "stdout",
     "output_type": "stream",
     "text": [
      "                            OLS Regression Results                            \n",
      "==============================================================================\n",
      "Dep. Variable:                  flujo   R-squared:                       0.526\n",
      "Model:                            OLS   Adj. R-squared:                  0.525\n",
      "Method:                 Least Squares   F-statistic:                     694.2\n",
      "Date:                Fri, 10 Jun 2022   Prob (F-statistic):               0.00\n",
      "Time:                        19:21:48   Log-Likelihood:                -32908.\n",
      "No. Observations:                4391   AIC:                         6.583e+04\n",
      "Df Residuals:                    4383   BIC:                         6.588e+04\n",
      "Df Model:                           7                                         \n",
      "Covariance Type:            nonrobust                                         \n",
      "==============================================================================\n",
      "                 coef    std err          t      P>|t|      [0.025      0.975]\n",
      "------------------------------------------------------------------------------\n",
      "Intercept    281.1503    355.854      0.790      0.430    -416.504     978.804\n",
      "DiaMes         2.9007      0.747      3.883      0.000       1.436       4.365\n",
      "Hora          58.8026      1.013     58.043      0.000      56.816      60.789\n",
      "DiaLaboral   399.8960     23.900     16.732      0.000     353.039     446.753\n",
      "lluvia        56.1201     17.830      3.147      0.002      21.164      91.076\n",
      "temp          -4.6191      1.261     -3.662      0.000      -7.092      -2.146\n",
      "Mes          124.1705      4.537     27.368      0.000     115.275     133.066\n",
      "dia_sem       64.4724      5.404     11.931      0.000      53.879      75.066\n",
      "==============================================================================\n",
      "Omnibus:                      165.684   Durbin-Watson:                   0.685\n",
      "Prob(Omnibus):                  0.000   Jarque-Bera (JB):              300.847\n",
      "Skew:                           0.299   Prob(JB):                     4.70e-66\n",
      "Kurtosis:                       4.134   Cond. No.                     1.59e+04\n",
      "==============================================================================\n",
      "\n",
      "Notes:\n",
      "[1] Standard Errors assume that the covariance matrix of the errors is correctly specified.\n",
      "[2] The condition number is large, 1.59e+04. This might indicate that there are\n",
      "strong multicollinearity or other numerical problems.\n"
     ]
    }
   ],
   "source": [
    "import statsmodels.formula.api as smf\n",
    "reg = smf.ols('flujo ~ DiaMes + Hora + DiaLaboral + lluvia + temp + Mes + dia_sem',data=datos_2)\n",
    "modelo = reg.fit()\n",
    "print(modelo.summary())"
   ]
  },
  {
   "cell_type": "code",
   "execution_count": 87,
   "metadata": {},
   "outputs": [],
   "source": [
    "# División de los datos en train y test\n",
    "# ==============================================================================\n",
    "X = datos_2.drop(columns='flujo')\n",
    "y = datos_2[('flujo')]\n",
    "\n",
    "X_train, X_test, y_train, y_test = train_test_split(\n",
    "                                        X,\n",
    "                                        y.values.reshape(-1,1),\n",
    "                                        train_size   = 0.7,\n",
    "                                        random_state = 1234,\n",
    "                                        shuffle      = True\n",
    "                                    )"
   ]
  },
  {
   "cell_type": "code",
   "execution_count": 88,
   "metadata": {},
   "outputs": [
    {
     "data": {
      "text/plain": [
       "LinearRegression(normalize=True)"
      ]
     },
     "execution_count": 88,
     "metadata": {},
     "output_type": "execute_result"
    }
   ],
   "source": [
    "# Creación y entrenamiento del modelo\n",
    "# ==============================================================================\n",
    "modelo = LinearRegression(normalize=True)\n",
    "modelo.fit(X = X_train, y = y_train)"
   ]
  },
  {
   "cell_type": "code",
   "execution_count": 89,
   "metadata": {},
   "outputs": [
    {
     "name": "stdout",
     "output_type": "stream",
     "text": [
      "Intercept: [836.25746446]\n",
      "Coeficiente: [('DiaMes', 2.1109447033755795), ('Hora', 59.200139368517334), ('DiaLaboral', 375.5403832824105), ('lluvia', 49.503850921687494), ('temp', -6.396871951449836), ('Mes', 124.1413715904524), ('dia_sem', 62.00640764901576)]\n",
      "Coeficiente de determinación R^2: 0.5252057071754929\n"
     ]
    }
   ],
   "source": [
    "# Información del modelo\n",
    "# ==============================================================================\n",
    "print(\"Intercept:\", modelo.intercept_)\n",
    "print(\"Coeficiente:\", list(zip(X.columns, modelo.coef_.flatten(), )))\n",
    "print(\"Coeficiente de determinación R^2:\", modelo.score(X, y))"
   ]
  },
  {
   "cell_type": "markdown",
   "metadata": {},
   "source": [
    "Una vez entrenado el modelo, se evalúa la capacidad predictiva empleando el conjunto de test."
   ]
  },
  {
   "cell_type": "code",
   "execution_count": 90,
   "metadata": {},
   "outputs": [
    {
     "data": {
      "image/png": "[encoded data removed]",
      "text/plain": [
       "<Figure size 792x276.48 with 1 Axes>"
      ]
     },
     "metadata": {},
     "output_type": "display_data"
    }
   ],
   "source": [
    "# Coeficientes del modelo\n",
    "# ==============================================================================\n",
    "df_coeficientes = pd.DataFrame(\n",
    "                        {'predictor': X_train.columns,\n",
    "                         'coef': modelo.coef_.flatten()}\n",
    "                  )\n",
    "\n",
    "fig, ax = plt.subplots(figsize=(11, 3.84))\n",
    "ax.stem(df_coeficientes.predictor, df_coeficientes.coef, markerfmt=' ')\n",
    "plt.xticks(rotation=90, ha='right', size=5)\n",
    "ax.set_xlabel('variable')\n",
    "ax.set_ylabel('coeficientes')\n",
    "ax.set_title('Coeficientes del modelo');"
   ]
  },
  {
   "cell_type": "code",
   "execution_count": 91,
   "metadata": {},
   "outputs": [
    {
     "data": {
      "text/plain": [
       "array([ 928.34175157, 2030.36250467, 1013.84092922, 1472.01551323,\n",
       "       1100.87839013])"
      ]
     },
     "execution_count": 91,
     "metadata": {},
     "output_type": "execute_result"
    }
   ],
   "source": [
    "# Predicciones test\n",
    "# ==============================================================================\n",
    "predicciones = modelo.predict(X=X_test)\n",
    "predicciones = predicciones.flatten()\n",
    "predicciones[:5]"
   ]
  },
  {
   "cell_type": "code",
   "execution_count": 92,
   "metadata": {},
   "outputs": [
    {
     "name": "stdout",
     "output_type": "stream",
     "text": [
      "\n",
      "El error (rmse) de test es: 444.535164746171\n"
     ]
    }
   ],
   "source": [
    "# Error de test del modelo \n",
    "# ==============================================================================\n",
    "rmse_ols = mean_squared_error(\n",
    "            y_true  = y_test,\n",
    "            y_pred  = predicciones,\n",
    "            squared = False\n",
    "           )\n",
    "print(\"\")\n",
    "print(f\"El error (rmse) de test es: {rmse_ols}\")"
   ]
  },
  {
   "cell_type": "markdown",
   "metadata": {},
   "source": [
    "Las predicciones del modelo final se alejan en promedio 1828.32 unidades del valor real."
   ]
  },
  {
   "cell_type": "markdown",
   "metadata": {},
   "source": [
    "RIDGE"
   ]
  },
  {
   "cell_type": "code",
   "execution_count": 93,
   "metadata": {},
   "outputs": [],
   "source": [
    "# Creación y entrenamiento del modelo (con búsqueda por CV del valor óptimo alpha)\n",
    "# ==============================================================================\n",
    "# Por defecto RidgeCV utiliza el mean squared error\n",
    "modelo = RidgeCV(\n",
    "            alphas          = np.logspace(-10, 2, 200),\n",
    "            fit_intercept   = True,\n",
    "            normalize       = True,\n",
    "            store_cv_values = True\n",
    "         )\n",
    "\n",
    "_ = modelo.fit(X = X_train, y = y_train)"
   ]
  },
  {
   "cell_type": "code",
   "execution_count": 94,
   "metadata": {},
   "outputs": [
    {
     "data": {
      "image/png": "[encoded data removed]",
      "text/plain": [
       "<Figure size 504x276.48 with 1 Axes>"
      ]
     },
     "metadata": {},
     "output_type": "display_data"
    }
   ],
   "source": [
    "# Evolución de los coeficientes en función de alpha\n",
    "# ==============================================================================\n",
    "alphas = modelo.alphas\n",
    "coefs = []\n",
    "\n",
    "for alpha in alphas:\n",
    "    modelo_temp = Ridge(alpha=alpha, fit_intercept=False, normalize=True)\n",
    "    modelo_temp.fit(X_train, y_train)\n",
    "    coefs.append(modelo_temp.coef_.flatten())\n",
    "\n",
    "fig, ax = plt.subplots(figsize=(7, 3.84))\n",
    "ax.plot(alphas, coefs)\n",
    "#ax.set_xscale('log')\n",
    "ax.set_xlabel('alpha')\n",
    "ax.set_ylabel('coeficientes')\n",
    "ax.set_title('Coeficientes del modelo en función de la regularización');\n",
    "plt.axis('tight')\n",
    "plt.show()"
   ]
  },
  {
   "cell_type": "code",
   "execution_count": 95,
   "metadata": {},
   "outputs": [
    {
     "data": {
      "image/png": "[encoded data removed]",
      "text/plain": [
       "<Figure size 504x276.48 with 1 Axes>"
      ]
     },
     "metadata": {},
     "output_type": "display_data"
    }
   ],
   "source": [
    "# Evolución del error en función de alpha\n",
    "# ==============================================================================\n",
    "# modelo.cv_values almacena el mse de cv para cada valor de alpha. Tiene\n",
    "# dimensiones (n_samples, n_targets, n_alphas)\n",
    "mse_cv = modelo.cv_values_.reshape((-1, 200)).mean(axis=0)\n",
    "mse_sd = modelo.cv_values_.reshape((-1, 200)).std(axis=0)\n",
    "\n",
    "# Se aplica la raíz cuadrada para pasar de mse a rmse\n",
    "rmse_cv = np.sqrt(mse_cv)\n",
    "rmse_sd = np.sqrt(mse_sd)\n",
    "\n",
    "# Se identifica el óptimo y el óptimo + 1std\n",
    "min_rmse     = np.min(rmse_cv)\n",
    "sd_min_rmse  = rmse_sd[np.argmin(rmse_cv)]\n",
    "min_rsme_1sd = np.max(rmse_cv[rmse_cv <= min_rmse + sd_min_rmse])\n",
    "optimo       = modelo.alphas[np.argmin(rmse_cv)]\n",
    "optimo_1sd   = modelo.alphas[rmse_cv == min_rsme_1sd]\n",
    "\n",
    "\n",
    "# Gráfico del error +- 1 desviación estándar\n",
    "fig, ax = plt.subplots(figsize=(7, 3.84))\n",
    "ax.plot(modelo.alphas, rmse_cv)\n",
    "ax.fill_between(\n",
    "    modelo.alphas,\n",
    "    rmse_cv + rmse_sd,\n",
    "    rmse_cv - rmse_sd,\n",
    "    alpha=0.2\n",
    ")\n",
    "\n",
    "ax.axvline(\n",
    "    x         = optimo,\n",
    "    c         = \"gray\",\n",
    "    linestyle = '--',\n",
    "    label     = 'óptimo'\n",
    ")\n",
    "\n",
    "ax.axvline(\n",
    "    x         = optimo_1sd,\n",
    "    c         = \"blue\",\n",
    "    linestyle = '--',\n",
    "    label     = 'óptimo_1sd'\n",
    ")\n",
    "#ax.set_xscale('log')\n",
    "ax.set_xlim([0,10])\n",
    "ax.set_ylim([0,None])\n",
    "ax.set_title('Evolución del error CV en función de la regularización')\n",
    "ax.set_xlabel('alpha')\n",
    "ax.set_ylabel('RMSE')\n",
    "plt.legend();\n",
    "\n"
   ]
  },
  {
   "cell_type": "code",
   "execution_count": 96,
   "metadata": {},
   "outputs": [
    {
     "name": "stdout",
     "output_type": "stream",
     "text": [
      "Mejor valor de alpha encontrado: 0.001499268432786044\n"
     ]
    }
   ],
   "source": [
    "# Mejor valor alpha encontrado\n",
    "# ==============================================================================\n",
    "print(f\"Mejor valor de alpha encontrado: {modelo.alpha_}\")"
   ]
  },
  {
   "cell_type": "code",
   "execution_count": 97,
   "metadata": {},
   "outputs": [
    {
     "data": {
      "image/png": "[encoded data removed]",
      "text/plain": [
       "<Figure size 792x276.48 with 1 Axes>"
      ]
     },
     "metadata": {},
     "output_type": "display_data"
    }
   ],
   "source": [
    "# Coeficientes del modelo\n",
    "# ==============================================================================\n",
    "df_coeficientes = pd.DataFrame(\n",
    "                        {'predictor': X_train.columns,\n",
    "                         'coef': modelo.coef_.flatten()}\n",
    "                  )\n",
    "\n",
    "fig, ax = plt.subplots(figsize=(11, 3.84))\n",
    "ax.stem(df_coeficientes.predictor, df_coeficientes.coef, markerfmt=' ')\n",
    "plt.xticks(rotation=90, ha='right', size=5)\n",
    "ax.set_xlabel('variable')\n",
    "ax.set_ylabel('coeficientes')\n",
    "ax.set_title('Coeficientes del modelo');"
   ]
  },
  {
   "cell_type": "markdown",
   "metadata": {},
   "source": [
    "En comparación al modelo por mínimos cuadrados ordinarios, con ridge, el orden de magnitud de los coeficientes es similar."
   ]
  },
  {
   "cell_type": "code",
   "execution_count": 98,
   "metadata": {},
   "outputs": [
    {
     "data": {
      "text/plain": [
       "array([ 927.56484395, 2027.52189781, 1013.40537842, 1471.79231531,\n",
       "       1101.41910694])"
      ]
     },
     "execution_count": 98,
     "metadata": {},
     "output_type": "execute_result"
    }
   ],
   "source": [
    "# Predicciones test\n",
    "# ==============================================================================\n",
    "predicciones = modelo.predict(X=X_test)\n",
    "predicciones = predicciones.flatten()\n",
    "predicciones[:5]"
   ]
  },
  {
   "cell_type": "code",
   "execution_count": 99,
   "metadata": {},
   "outputs": [
    {
     "name": "stdout",
     "output_type": "stream",
     "text": [
      "\n",
      "El error (rmse) de test es: 444.54741689260004\n"
     ]
    }
   ],
   "source": [
    "# Error de test del modelo \n",
    "# ==============================================================================\n",
    "rmse_ridge = mean_squared_error(\n",
    "                y_true  = y_test,\n",
    "                y_pred  = predicciones,\n",
    "                squared = False\n",
    "             )\n",
    "print(\"\")\n",
    "print(f\"El error (rmse) de test es: {rmse_ridge}\")"
   ]
  },
  {
   "cell_type": "markdown",
   "metadata": {},
   "source": [
    "Las predicciones del modelo final se alejan en promedio 1828.57 unidades del valor real."
   ]
  },
  {
   "cell_type": "markdown",
   "metadata": {},
   "source": [
    "LASSO"
   ]
  },
  {
   "cell_type": "code",
   "execution_count": 100,
   "metadata": {},
   "outputs": [],
   "source": [
    "# Creación y entrenamiento del modelo (con búsqueda por CV del valor óptimo alpha)\n",
    "# ==============================================================================\n",
    "# Por defecto LassoCV utiliza el mean squared error\n",
    "modelo = LassoCV(\n",
    "            alphas          = np.logspace(-10, 3, 200),\n",
    "            normalize       = True,\n",
    "            cv              = 10\n",
    "         )\n",
    "_ = modelo.fit(X = X_train, y = y_train)"
   ]
  },
  {
   "cell_type": "code",
   "execution_count": 101,
   "metadata": {},
   "outputs": [
    {
     "data": {
      "image/png": "[encoded data removed]",
      "text/plain": [
       "<Figure size 504x276.48 with 1 Axes>"
      ]
     },
     "metadata": {},
     "output_type": "display_data"
    }
   ],
   "source": [
    "# Evolución de los coeficientes en función de alpha\n",
    "# ==============================================================================\n",
    "alphas = modelo.alphas_\n",
    "coefs = []\n",
    "\n",
    "for alpha in alphas:\n",
    "    modelo_temp = Lasso(alpha=alpha, fit_intercept=False, normalize=True)\n",
    "    modelo_temp.fit(X_train, y_train)\n",
    "    coefs.append(modelo_temp.coef_.flatten())\n",
    "\n",
    "fig, ax = plt.subplots(figsize=(7, 3.84))\n",
    "ax.plot(alphas, coefs)\n",
    "#ax.set_xscale('log')\n",
    "ax.set_xlim([0,10])\n",
    "ax.set_ylim([-15,None])\n",
    "ax.set_xlabel('alpha')\n",
    "ax.set_ylabel('coeficientes')\n",
    "ax.set_title('Coeficientes del modelo en función de la regularización');"
   ]
  },
  {
   "cell_type": "code",
   "execution_count": 102,
   "metadata": {},
   "outputs": [
    {
     "data": {
      "image/png": "[encoded data removed]",
      "text/plain": [
       "<Figure size 504x276.48 with 1 Axes>"
      ]
     },
     "metadata": {},
     "output_type": "display_data"
    }
   ],
   "source": [
    "# Número de predictores incluidos (coeficiente !=0) en función de alpha\n",
    "# ==============================================================================\n",
    "alphas = modelo.alphas_\n",
    "n_predictores = []\n",
    "\n",
    "for alpha in alphas:\n",
    "    modelo_temp = Lasso(alpha=alpha, fit_intercept=False, normalize=True)\n",
    "    modelo_temp.fit(X_train, y_train)\n",
    "    coef_no_cero = np.sum(modelo_temp.coef_.flatten() != 0)\n",
    "    n_predictores.append(coef_no_cero)\n",
    "\n",
    "fig, ax = plt.subplots(figsize=(7, 3.84))\n",
    "ax.plot(alphas, n_predictores)\n",
    "#ax.set_xscale('log')\n",
    "ax.set_ylim([-15,None])\n",
    "ax.set_xlabel('alpha')\n",
    "ax.set_ylabel('nº predictores')\n",
    "ax.set_title('Predictores incluidos en función de la regularización');"
   ]
  },
  {
   "cell_type": "code",
   "execution_count": 103,
   "metadata": {},
   "outputs": [
    {
     "data": {
      "image/png": "[encoded data removed]",
      "text/plain": [
       "<Figure size 504x276.48 with 1 Axes>"
      ]
     },
     "metadata": {},
     "output_type": "display_data"
    }
   ],
   "source": [
    "# Evolución del error en función de alpha\n",
    "# ==============================================================================\n",
    "# modelo.mse_path_ almacena el mse de cv para cada valor de alpha. Tiene\n",
    "# dimensiones (n_alphas, n_folds)\n",
    "mse_cv = modelo.mse_path_.mean(axis=1)\n",
    "mse_sd = modelo.mse_path_.std(axis=1)\n",
    "\n",
    "# Se aplica la raíz cuadrada para pasar de mse a rmse\n",
    "rmse_cv = np.sqrt(mse_cv)\n",
    "rmse_sd = np.sqrt(mse_sd)\n",
    "\n",
    "# Se identifica el óptimo y el óptimo + 1std\n",
    "min_rmse     = np.min(rmse_cv)\n",
    "sd_min_rmse  = rmse_sd[np.argmin(rmse_cv)]\n",
    "min_rsme_1sd = np.max(rmse_cv[rmse_cv <= min_rmse + sd_min_rmse])\n",
    "optimo       = modelo.alphas_[np.argmin(rmse_cv)]\n",
    "optimo_1sd   = modelo.alphas_[rmse_cv == min_rsme_1sd]\n",
    "\n",
    "# Gráfico del error +- 1 desviación estándar\n",
    "fig, ax = plt.subplots(figsize=(7, 3.84))\n",
    "ax.plot(modelo.alphas_, rmse_cv)\n",
    "ax.fill_between(\n",
    "    modelo.alphas_,\n",
    "    rmse_cv + rmse_sd,\n",
    "    rmse_cv - rmse_sd,\n",
    "    alpha=0.2\n",
    ")\n",
    "\n",
    "ax.axvline(\n",
    "    x         = optimo,\n",
    "    c         = \"gray\",\n",
    "    linestyle = '--',\n",
    "    label     = 'óptimo'\n",
    ")\n",
    "\n",
    "ax.axvline(\n",
    "    x         = optimo_1sd,\n",
    "    c         = \"blue\",\n",
    "    linestyle = '--',\n",
    "    label     = 'óptimo_1sd'\n",
    ")\n",
    "\n",
    "#ax.set_xscale('log')\n",
    "ax.set_xlim([0,10])\n",
    "ax.set_ylim([0,None])\n",
    "ax.set_title('Evolución del error CV en función de la regularización')\n",
    "ax.set_xlabel('alpha')\n",
    "ax.set_ylabel('RMSE')\n",
    "plt.legend();\n",
    "\n"
   ]
  },
  {
   "cell_type": "code",
   "execution_count": 104,
   "metadata": {},
   "outputs": [
    {
     "name": "stdout",
     "output_type": "stream",
     "text": [
      "Mejor valor de alpha encontrado + 1 desviación estándar: [5.17092024]\n"
     ]
    }
   ],
   "source": [
    "# Mejor valor alpha encontrado + 1sd\n",
    "# ==============================================================================\n",
    "min_rmse     = np.min(rmse_cv)\n",
    "sd_min_rmse  = rmse_sd[np.argmin(rmse_cv)]\n",
    "min_rsme_1sd = np.max(rmse_cv[rmse_cv <= min_rmse + sd_min_rmse])\n",
    "optimo       = modelo.alphas_[np.argmin(rmse_cv)]\n",
    "optimo_1sd   = modelo.alphas_[rmse_cv == min_rsme_1sd]\n",
    "\n",
    "print(f\"Mejor valor de alpha encontrado + 1 desviación estándar: {optimo_1sd}\")"
   ]
  },
  {
   "cell_type": "code",
   "execution_count": 105,
   "metadata": {},
   "outputs": [
    {
     "data": {
      "text/plain": [
       "Lasso(alpha=array([5.17092024]), normalize=True)"
      ]
     },
     "execution_count": 105,
     "metadata": {},
     "output_type": "execute_result"
    }
   ],
   "source": [
    "# Mejor modelo alpha óptimo + 1sd\n",
    "# ==============================================================================\n",
    "modelo = Lasso(alpha=optimo_1sd, normalize=True)\n",
    "modelo.fit(X_train, y_train)"
   ]
  },
  {
   "cell_type": "code",
   "execution_count": 106,
   "metadata": {},
   "outputs": [
    {
     "data": {
      "text/html": [
       "<div>\n",
       "<style scoped>\n",
       "    .dataframe tbody tr th:only-of-type {\n",
       "        vertical-align: middle;\n",
       "    }\n",
       "\n",
       "    .dataframe tbody tr th {\n",
       "        vertical-align: top;\n",
       "    }\n",
       "\n",
       "    .dataframe thead th {\n",
       "        text-align: right;\n",
       "    }\n",
       "</style>\n",
       "<table border=\"1\" class=\"dataframe\">\n",
       "  <thead>\n",
       "    <tr style=\"text-align: right;\">\n",
       "      <th></th>\n",
       "      <th>predictor</th>\n",
       "      <th>coef</th>\n",
       "    </tr>\n",
       "  </thead>\n",
       "  <tbody>\n",
       "    <tr>\n",
       "      <th>1</th>\n",
       "      <td>Hora</td>\n",
       "      <td>16.32811</td>\n",
       "    </tr>\n",
       "  </tbody>\n",
       "</table>\n",
       "</div>"
      ],
      "text/plain": [
       "  predictor     coef\n",
       "1      Hora 16.32811"
      ]
     },
     "execution_count": 106,
     "metadata": {},
     "output_type": "execute_result"
    }
   ],
   "source": [
    "# Coeficientes del modelo\n",
    "# ==============================================================================\n",
    "df_coeficientes = pd.DataFrame(\n",
    "                        {'predictor': X_train.columns,\n",
    "                         'coef': modelo.coef_.flatten()}\n",
    "                  )\n",
    "\n",
    "# Predictores incluidos en el modelo (coeficiente != 0)\n",
    "df_coeficientes[df_coeficientes.coef != 0]"
   ]
  },
  {
   "cell_type": "markdown",
   "metadata": {},
   "source": [
    "El modelo final incluye 1 predictor."
   ]
  },
  {
   "cell_type": "code",
   "execution_count": 107,
   "metadata": {},
   "outputs": [
    {
     "data": {
      "image/png": "[encoded data removed]",
      "text/plain": [
       "<Figure size 792x276.48 with 1 Axes>"
      ]
     },
     "metadata": {},
     "output_type": "display_data"
    }
   ],
   "source": [
    "fig, ax = plt.subplots(figsize=(11, 3.84))\n",
    "ax.stem(df_coeficientes.predictor, df_coeficientes.coef, markerfmt=' ')\n",
    "plt.xticks(rotation=90, ha='right', size=5)\n",
    "ax.set_xlabel('variable')\n",
    "ax.set_ylabel('coeficientes')\n",
    "ax.set_title('Coeficientes del modelo');"
   ]
  },
  {
   "cell_type": "code",
   "execution_count": 108,
   "metadata": {},
   "outputs": [
    {
     "data": {
      "text/plain": [
       "array([1040.29544221, 1203.57649603, 1072.95165297, 1105.60786374,\n",
       "       1023.96733683])"
      ]
     },
     "execution_count": 108,
     "metadata": {},
     "output_type": "execute_result"
    }
   ],
   "source": [
    "# Predicciones test\n",
    "# ==============================================================================\n",
    "predicciones = modelo.predict(X=X_test)\n",
    "predicciones = predicciones.flatten()\n",
    "predicciones[:5]"
   ]
  },
  {
   "cell_type": "code",
   "execution_count": 109,
   "metadata": {},
   "outputs": [
    {
     "name": "stdout",
     "output_type": "stream",
     "text": [
      "\n",
      "El error (rmse) de test es: 578.696237514241\n"
     ]
    }
   ],
   "source": [
    "# Error de test del modelo \n",
    "# ==============================================================================\n",
    "rmse_lasso = mean_squared_error(\n",
    "                y_true  = y_test,\n",
    "                y_pred  = predicciones,\n",
    "                squared = False\n",
    "             )\n",
    "print(\"\")\n",
    "print(f\"El error (rmse) de test es: {rmse_lasso}\")"
   ]
  },
  {
   "cell_type": "markdown",
   "metadata": {},
   "source": [
    "Las predicciones del modelo final se alejan en promedio 578.69 unidades del valor real."
   ]
  },
  {
   "cell_type": "markdown",
   "metadata": {},
   "source": [
    "ELASTICNET"
   ]
  },
  {
   "cell_type": "code",
   "execution_count": 110,
   "metadata": {},
   "outputs": [],
   "source": [
    "# Creación y entrenamiento del modelo (con búsqueda por CV del valor óptimo alpha)\n",
    "# ==============================================================================\n",
    "# Por defecto ElasticNetCV utiliza el mean squared error\n",
    "modelo = ElasticNetCV(\n",
    "            l1_ratio        = [0, 0.1, 0.5, 0.7, 0.9, 0.95, 0.99],\n",
    "            alphas          = np.logspace(-10, 3, 200),\n",
    "            normalize       = True,\n",
    "            cv              = 10\n",
    "         )\n",
    "_ = modelo.fit(X = X_train, y = y_train)"
   ]
  },
  {
   "cell_type": "code",
   "execution_count": 111,
   "metadata": {},
   "outputs": [
    {
     "data": {
      "text/html": [
       "<div>\n",
       "<style scoped>\n",
       "    .dataframe tbody tr th:only-of-type {\n",
       "        vertical-align: middle;\n",
       "    }\n",
       "\n",
       "    .dataframe tbody tr th {\n",
       "        vertical-align: top;\n",
       "    }\n",
       "\n",
       "    .dataframe thead th {\n",
       "        text-align: right;\n",
       "    }\n",
       "</style>\n",
       "<table border=\"1\" class=\"dataframe\">\n",
       "  <thead>\n",
       "    <tr style=\"text-align: right;\">\n",
       "      <th></th>\n",
       "      <th>l1_ratio</th>\n",
       "      <th>modelo.alphas_</th>\n",
       "      <th>mse_cv</th>\n",
       "      <th>rmse_cv</th>\n",
       "    </tr>\n",
       "  </thead>\n",
       "  <tbody>\n",
       "    <tr>\n",
       "      <th>140</th>\n",
       "      <td>0.00000</td>\n",
       "      <td>0.00000</td>\n",
       "      <td>187170.82367</td>\n",
       "      <td>432.63243</td>\n",
       "    </tr>\n",
       "    <tr>\n",
       "      <th>339</th>\n",
       "      <td>0.10000</td>\n",
       "      <td>0.00000</td>\n",
       "      <td>187170.82409</td>\n",
       "      <td>432.63244</td>\n",
       "    </tr>\n",
       "    <tr>\n",
       "      <th>732</th>\n",
       "      <td>0.70000</td>\n",
       "      <td>0.00000</td>\n",
       "      <td>187170.82436</td>\n",
       "      <td>432.63244</td>\n",
       "    </tr>\n",
       "    <tr>\n",
       "      <th>535</th>\n",
       "      <td>0.50000</td>\n",
       "      <td>0.00000</td>\n",
       "      <td>187170.82625</td>\n",
       "      <td>432.63244</td>\n",
       "    </tr>\n",
       "    <tr>\n",
       "      <th>1120</th>\n",
       "      <td>0.95000</td>\n",
       "      <td>0.00001</td>\n",
       "      <td>187170.82827</td>\n",
       "      <td>432.63244</td>\n",
       "    </tr>\n",
       "    <tr>\n",
       "      <th>...</th>\n",
       "      <td>...</td>\n",
       "      <td>...</td>\n",
       "      <td>...</td>\n",
       "      <td>...</td>\n",
       "    </tr>\n",
       "    <tr>\n",
       "      <th>204</th>\n",
       "      <td>0.10000</td>\n",
       "      <td>547.89012</td>\n",
       "      <td>394105.69769</td>\n",
       "      <td>627.77838</td>\n",
       "    </tr>\n",
       "    <tr>\n",
       "      <th>203</th>\n",
       "      <td>0.10000</td>\n",
       "      <td>636.82499</td>\n",
       "      <td>394105.69769</td>\n",
       "      <td>627.77838</td>\n",
       "    </tr>\n",
       "    <tr>\n",
       "      <th>202</th>\n",
       "      <td>0.10000</td>\n",
       "      <td>740.19600</td>\n",
       "      <td>394105.69769</td>\n",
       "      <td>627.77838</td>\n",
       "    </tr>\n",
       "    <tr>\n",
       "      <th>210</th>\n",
       "      <td>0.10000</td>\n",
       "      <td>222.19469</td>\n",
       "      <td>394105.69769</td>\n",
       "      <td>627.77838</td>\n",
       "    </tr>\n",
       "    <tr>\n",
       "      <th>612</th>\n",
       "      <td>0.70000</td>\n",
       "      <td>164.46762</td>\n",
       "      <td>394105.69769</td>\n",
       "      <td>627.77838</td>\n",
       "    </tr>\n",
       "  </tbody>\n",
       "</table>\n",
       "<p>1400 rows × 4 columns</p>\n",
       "</div>"
      ],
      "text/plain": [
       "      l1_ratio  modelo.alphas_       mse_cv   rmse_cv\n",
       "140    0.00000         0.00000 187170.82367 432.63243\n",
       "339    0.10000         0.00000 187170.82409 432.63244\n",
       "732    0.70000         0.00000 187170.82436 432.63244\n",
       "535    0.50000         0.00000 187170.82625 432.63244\n",
       "1120   0.95000         0.00001 187170.82827 432.63244\n",
       "...        ...             ...          ...       ...\n",
       "204    0.10000       547.89012 394105.69769 627.77838\n",
       "203    0.10000       636.82499 394105.69769 627.77838\n",
       "202    0.10000       740.19600 394105.69769 627.77838\n",
       "210    0.10000       222.19469 394105.69769 627.77838\n",
       "612    0.70000       164.46762 394105.69769 627.77838\n",
       "\n",
       "[1400 rows x 4 columns]"
      ]
     },
     "execution_count": 111,
     "metadata": {},
     "output_type": "execute_result"
    }
   ],
   "source": [
    "# Evolución del error en función de alpha y l1_ratio\n",
    "# ==============================================================================\n",
    "# modelo.mse_path_ almacena el mse de cv para cada valor de alpha y l1_ratio.\n",
    "# Tiene dimensiones (n_l1_ratio, n_alpha, n_folds)\n",
    "\n",
    "# Error medio de las 10 particiones por cada valor de alpha y l1_ratio \n",
    "mean_error_cv = modelo.mse_path_.mean(axis =2)\n",
    "\n",
    "# El resultado es un array de dimensiones (n_l1_ratio, n_alpha)\n",
    "# Se convierte en un dataframe\n",
    "df_resultados_cv = pd.DataFrame(\n",
    "                        data   = mean_error_cv.flatten(),\n",
    "                        index  = pd.MultiIndex.from_product(\n",
    "                                    iterables = [modelo.l1_ratio, modelo.alphas_],\n",
    "                                    names     = ['l1_ratio', 'modelo.alphas_']\n",
    "                                 ),\n",
    "                        columns = [\"mse_cv\"]\n",
    "                    )\n",
    "\n",
    "df_resultados_cv['rmse_cv'] = np.sqrt(df_resultados_cv['mse_cv'])\n",
    "df_resultados_cv = df_resultados_cv.reset_index().sort_values('mse_cv', ascending = True)\n",
    "df_resultados_cv"
   ]
  },
  {
   "cell_type": "code",
   "execution_count": 112,
   "metadata": {},
   "outputs": [
    {
     "data": {
      "image/png": "[encoded data removed]",
      "text/plain": [
       "<Figure size 504x276.48 with 1 Axes>"
      ]
     },
     "metadata": {},
     "output_type": "display_data"
    }
   ],
   "source": [
    "# Mejor valor encontrado para cada l1_ratio\n",
    "fig, ax = plt.subplots(figsize=(7, 3.84))\n",
    "df_resultados_cv.groupby('l1_ratio')['rmse_cv'].min().plot(ax = ax)\n",
    "ax.set_title('Evolución del error CV en función de la l1_ratio')\n",
    "ax.set_xlabel('l1_ratio')\n",
    "ax.set_ylabel('rmse_cv');"
   ]
  },
  {
   "cell_type": "code",
   "execution_count": 113,
   "metadata": {},
   "outputs": [
    {
     "name": "stdout",
     "output_type": "stream",
     "text": [
      "Mejor valor de alpha encontrado: 7.149428986597591e-07\n",
      "Mejor valor de l1_ratio encontrado: 0.0\n"
     ]
    }
   ],
   "source": [
    "# Mejor valor alpha y l1_ratio_ encontrado\n",
    "# ==============================================================================\n",
    "print(f\"Mejor valor de alpha encontrado: {modelo.alpha_}\")\n",
    "print(f\"Mejor valor de l1_ratio encontrado: {modelo.l1_ratio_}\")"
   ]
  },
  {
   "cell_type": "code",
   "execution_count": 114,
   "metadata": {},
   "outputs": [],
   "source": [
    "# Coeficientes del modelo\n",
    "# ==============================================================================\n",
    "df_coeficientes = pd.DataFrame(\n",
    "                        {'predictor': X_train.columns,\n",
    "                         'coef': modelo.coef_.flatten()}\n",
    "                  )"
   ]
  },
  {
   "cell_type": "code",
   "execution_count": 115,
   "metadata": {},
   "outputs": [
    {
     "data": {
      "image/png": "[encoded data removed]",
      "text/plain": [
       "<Figure size 792x276.48 with 1 Axes>"
      ]
     },
     "metadata": {},
     "output_type": "display_data"
    }
   ],
   "source": [
    "fig, ax = plt.subplots(figsize=(11, 3.84))\n",
    "ax.stem(df_coeficientes.predictor, df_coeficientes.coef, markerfmt=' ')\n",
    "plt.xticks(rotation=90, ha='right', size=5)\n",
    "ax.set_xlabel('variable')\n",
    "ax.set_ylabel('coeficientes')\n",
    "ax.set_title('Coeficientes del modelo');"
   ]
  },
  {
   "cell_type": "code",
   "execution_count": 116,
   "metadata": {},
   "outputs": [],
   "source": [
    "# Predicciones test\n",
    "# ==============================================================================\n",
    "predicciones = modelo.predict(X=X_test)\n",
    "predicciones = predicciones.flatten()"
   ]
  },
  {
   "cell_type": "code",
   "execution_count": 117,
   "metadata": {},
   "outputs": [
    {
     "name": "stdout",
     "output_type": "stream",
     "text": [
      "\n",
      "El error (rmse) de test es: 444.5539478219315\n"
     ]
    }
   ],
   "source": [
    "# Error de test del modelo \n",
    "# ==============================================================================\n",
    "rmse_elastic = mean_squared_error(\n",
    "                y_true  = y_test,\n",
    "                y_pred  = predicciones,\n",
    "                squared = False\n",
    "               )\n",
    "print(\"\")\n",
    "print(f\"El error (rmse) de test es: {rmse_elastic}\")"
   ]
  },
  {
   "cell_type": "markdown",
   "metadata": {},
   "source": [
    "Las predicciones del modelo final se alejan en promedio 444.55 unidades del valor real."
   ]
  },
  {
   "cell_type": "markdown",
   "metadata": {},
   "source": [
    "COMPARACIÓN MODELOS"
   ]
  },
  {
   "cell_type": "code",
   "execution_count": 119,
   "metadata": {},
   "outputs": [
    {
     "data": {
      "image/png": "[encoded data removed]",
      "text/plain": [
       "<Figure size 504x276.48 with 1 Axes>"
      ]
     },
     "metadata": {},
     "output_type": "display_data"
    }
   ],
   "source": [
    "df_comparacion = pd.DataFrame({\n",
    "                    'modelo': ['OLS', 'Ridge', 'Lasso', 'Elastic-net'],\n",
    "                    'test rmse': [rmse_ols, rmse_ridge, rmse_lasso, rmse_elastic]\n",
    "                 })\n",
    "\n",
    "fig, ax = plt.subplots(figsize=(7, 3.84))\n",
    "df_comparacion.set_index('modelo').plot(kind='barh', ax=ax)\n",
    "ax.set_xlabel('rmse')\n",
    "ax.set_ylabel('modelo')\n",
    "ax.set_title('Comparación de modelos');"
   ]
  },
  {
   "cell_type": "markdown",
   "metadata": {},
   "source": [
    "Todos los valores rmse obtenidos son bastante similares, sin embargo en este caso el mejor modelo se obtiene aplicando regularización OLS. "
   ]
  },
  {
   "cell_type": "code",
   "execution_count": null,
   "metadata": {},
   "outputs": [],
   "source": []
  }
 ],
 "metadata": {
  "kernelspec": {
   "display_name": "Python 3",
   "language": "python",
   "name": "python3"
  },
  "language_info": {
   "codemirror_mode": {
    "name": "ipython",
    "version": 3
   },
   "file_extension": ".py",
   "mimetype": "text/x-python",
   "name": "python",
   "nbconvert_exporter": "python",
   "pygments_lexer": "ipython3",
   "version": "3.8.5"
  }
 },
 "nbformat": 4,
 "nbformat_minor": 5
}
