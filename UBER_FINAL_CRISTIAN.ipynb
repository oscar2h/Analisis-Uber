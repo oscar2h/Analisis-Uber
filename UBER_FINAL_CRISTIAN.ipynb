{
 "cells": [
  {
   "cell_type": "code",
   "execution_count": 1,
   "id": "e0c9b85f",
   "metadata": {},
   "outputs": [],
   "source": [
    "# Tratamiento de datos\n",
    "# ==============================================================================\n",
    "import pandas as pd\n",
    "import numpy as np"
   ]
  },
  {
   "cell_type": "code",
   "execution_count": 2,
   "id": "e72c35e2",
   "metadata": {},
   "outputs": [],
   "source": [
    "# Gráficos\n",
    "# ==============================================================================\n",
    "import matplotlib.pyplot as plt\n",
    "from matplotlib import style\n",
    "import seaborn as sns"
   ]
  },
  {
   "cell_type": "code",
   "execution_count": 3,
   "id": "323332b6",
   "metadata": {},
   "outputs": [],
   "source": [
    "# Preprocesado y modelado\n",
    "# ==============================================================================\n",
    "from scipy.stats import pearsonr\n",
    "from sklearn.model_selection import train_test_split\n",
    "from sklearn.metrics import mean_squared_error\n",
    "from sklearn.linear_model import LinearRegression\n",
    "from sklearn.linear_model import Ridge\n",
    "from sklearn.linear_model import Lasso\n",
    "from sklearn.linear_model import ElasticNet\n",
    "from sklearn.linear_model import RidgeCV\n",
    "from sklearn.linear_model import LassoCV\n",
    "from sklearn.linear_model import ElasticNetCV\n",
    "import statsmodels.api as sm\n",
    "import statsmodels.formula.api as smf\n",
    "from sklearn import datasets, linear_model\n"
   ]
  },
  {
   "cell_type": "code",
   "execution_count": 4,
   "id": "a4dcf8c7",
   "metadata": {},
   "outputs": [],
   "source": [
    "# Configuración matplotlib\n",
    "# ==============================================================================\n",
    "plt.rcParams['image.cmap'] = \"bwr\"\n",
    "#plt.rcParams['figure.dpi'] = \"100\"\n",
    "plt.rcParams['savefig.bbox'] = \"tight\"\n",
    "style.use('ggplot') or plt.style.use('ggplot')"
   ]
  },
  {
   "cell_type": "code",
   "execution_count": 5,
   "id": "970b933c",
   "metadata": {},
   "outputs": [],
   "source": [
    "# Configuración warnings\n",
    "# ==============================================================================\n",
    "import warnings\n",
    "warnings.filterwarnings('ignore')"
   ]
  },
  {
   "cell_type": "code",
   "execution_count": 6,
   "id": "2da59b14",
   "metadata": {},
   "outputs": [],
   "source": [
    "pd.set_option('display.float_format', lambda x: '%.5f' % x)"
   ]
  },
  {
   "cell_type": "code",
   "execution_count": 7,
   "id": "6bc33af8",
   "metadata": {},
   "outputs": [],
   "source": [
    "archivos2014 =['uber-raw-data-may14.csv',\n",
    "                'uber-raw-data-apr14.csv',\n",
    "                'uber-raw-data-jul14.csv',\n",
    "                'uber-raw-data-jun14.csv',\n",
    "                'uber-raw-data-sep14.csv',\n",
    "                'uber-raw-data-aug14.csv']\n",
    "df2014 = pd.DataFrame()\n",
    "for file in archivos2014:\n",
    "    df = pd.read_csv(file,encoding='utf-8')\n",
    "    df2014 = pd.concat([df,df2014])"
   ]
  },
  {
   "cell_type": "code",
   "execution_count": 8,
   "id": "7123586c",
   "metadata": {},
   "outputs": [
    {
     "data": {
      "text/html": [
       "<div>\n",
       "<style scoped>\n",
       "    .dataframe tbody tr th:only-of-type {\n",
       "        vertical-align: middle;\n",
       "    }\n",
       "\n",
       "    .dataframe tbody tr th {\n",
       "        vertical-align: top;\n",
       "    }\n",
       "\n",
       "    .dataframe thead th {\n",
       "        text-align: right;\n",
       "    }\n",
       "</style>\n",
       "<table border=\"1\" class=\"dataframe\">\n",
       "  <thead>\n",
       "    <tr style=\"text-align: right;\">\n",
       "      <th></th>\n",
       "      <th>Date/Time</th>\n",
       "      <th>Lat</th>\n",
       "      <th>Lon</th>\n",
       "      <th>Base</th>\n",
       "    </tr>\n",
       "  </thead>\n",
       "  <tbody>\n",
       "    <tr>\n",
       "      <th>0</th>\n",
       "      <td>8/1/2014 0:03:00</td>\n",
       "      <td>40.73660</td>\n",
       "      <td>-73.99060</td>\n",
       "      <td>B02512</td>\n",
       "    </tr>\n",
       "    <tr>\n",
       "      <th>1</th>\n",
       "      <td>8/1/2014 0:09:00</td>\n",
       "      <td>40.72600</td>\n",
       "      <td>-73.99180</td>\n",
       "      <td>B02512</td>\n",
       "    </tr>\n",
       "    <tr>\n",
       "      <th>2</th>\n",
       "      <td>8/1/2014 0:12:00</td>\n",
       "      <td>40.72090</td>\n",
       "      <td>-74.05070</td>\n",
       "      <td>B02512</td>\n",
       "    </tr>\n",
       "    <tr>\n",
       "      <th>3</th>\n",
       "      <td>8/1/2014 0:12:00</td>\n",
       "      <td>40.73870</td>\n",
       "      <td>-73.98560</td>\n",
       "      <td>B02512</td>\n",
       "    </tr>\n",
       "    <tr>\n",
       "      <th>4</th>\n",
       "      <td>8/1/2014 0:12:00</td>\n",
       "      <td>40.73230</td>\n",
       "      <td>-74.00770</td>\n",
       "      <td>B02512</td>\n",
       "    </tr>\n",
       "    <tr>\n",
       "      <th>...</th>\n",
       "      <td>...</td>\n",
       "      <td>...</td>\n",
       "      <td>...</td>\n",
       "      <td>...</td>\n",
       "    </tr>\n",
       "    <tr>\n",
       "      <th>652430</th>\n",
       "      <td>5/31/2014 23:45:00</td>\n",
       "      <td>40.73090</td>\n",
       "      <td>-74.00140</td>\n",
       "      <td>B02764</td>\n",
       "    </tr>\n",
       "    <tr>\n",
       "      <th>652431</th>\n",
       "      <td>5/31/2014 23:52:00</td>\n",
       "      <td>40.75280</td>\n",
       "      <td>-73.97980</td>\n",
       "      <td>B02764</td>\n",
       "    </tr>\n",
       "    <tr>\n",
       "      <th>652432</th>\n",
       "      <td>5/31/2014 23:55:00</td>\n",
       "      <td>40.71580</td>\n",
       "      <td>-73.95190</td>\n",
       "      <td>B02764</td>\n",
       "    </tr>\n",
       "    <tr>\n",
       "      <th>652433</th>\n",
       "      <td>5/31/2014 23:56:00</td>\n",
       "      <td>40.69610</td>\n",
       "      <td>-73.89970</td>\n",
       "      <td>B02764</td>\n",
       "    </tr>\n",
       "    <tr>\n",
       "      <th>652434</th>\n",
       "      <td>5/31/2014 23:59:00</td>\n",
       "      <td>40.73930</td>\n",
       "      <td>-73.99190</td>\n",
       "      <td>B02764</td>\n",
       "    </tr>\n",
       "  </tbody>\n",
       "</table>\n",
       "<p>4534327 rows × 4 columns</p>\n",
       "</div>"
      ],
      "text/plain": [
       "                 Date/Time      Lat       Lon    Base\n",
       "0         8/1/2014 0:03:00 40.73660 -73.99060  B02512\n",
       "1         8/1/2014 0:09:00 40.72600 -73.99180  B02512\n",
       "2         8/1/2014 0:12:00 40.72090 -74.05070  B02512\n",
       "3         8/1/2014 0:12:00 40.73870 -73.98560  B02512\n",
       "4         8/1/2014 0:12:00 40.73230 -74.00770  B02512\n",
       "...                    ...      ...       ...     ...\n",
       "652430  5/31/2014 23:45:00 40.73090 -74.00140  B02764\n",
       "652431  5/31/2014 23:52:00 40.75280 -73.97980  B02764\n",
       "652432  5/31/2014 23:55:00 40.71580 -73.95190  B02764\n",
       "652433  5/31/2014 23:56:00 40.69610 -73.89970  B02764\n",
       "652434  5/31/2014 23:59:00 40.73930 -73.99190  B02764\n",
       "\n",
       "[4534327 rows x 4 columns]"
      ]
     },
     "execution_count": 8,
     "metadata": {},
     "output_type": "execute_result"
    }
   ],
   "source": [
    "df2014"
   ]
  },
  {
   "cell_type": "code",
   "execution_count": 9,
   "id": "b67e66dc",
   "metadata": {},
   "outputs": [
    {
     "data": {
      "text/plain": [
       "0    8/1/2014 0:03:00\n",
       "1    8/1/2014 0:09:00\n",
       "2    8/1/2014 0:12:00\n",
       "3    8/1/2014 0:12:00\n",
       "4    8/1/2014 0:12:00\n",
       "Name: Date/Time, dtype: object"
      ]
     },
     "execution_count": 9,
     "metadata": {},
     "output_type": "execute_result"
    }
   ],
   "source": [
    "df2014['Date/Time'].head(5)"
   ]
  },
  {
   "cell_type": "code",
   "execution_count": 10,
   "id": "b238e53c",
   "metadata": {},
   "outputs": [],
   "source": [
    "df2014['Date/Time'] = pd.to_datetime(df2014['Date/Time'], format=\"%m/%d/%Y %H:%M:%S\")"
   ]
  },
  {
   "cell_type": "code",
   "execution_count": 11,
   "id": "7338b539",
   "metadata": {},
   "outputs": [],
   "source": [
    "df2014['DiaSemana'] = df2014['Date/Time'].dt.dayofweek\n",
    "df2014['DiaMes'] = df2014['Date/Time'].dt.day\n",
    "df2014['Hora'] = df2014['Date/Time'].dt.hour\n",
    "df2014['DiaSemana'] = df2014['Date/Time'].dt.day_name()\n",
    "df2014['Mes'] = df2014['Date/Time'].dt.month\n",
    "df2014['Minuto'] = df2014['Date/Time'].dt.minute"
   ]
  },
  {
   "cell_type": "code",
   "execution_count": 12,
   "id": "ff0a14bf",
   "metadata": {
    "scrolled": true
   },
   "outputs": [
    {
     "name": "stdout",
     "output_type": "stream",
     "text": [
      "82581\n"
     ]
    },
    {
     "data": {
      "text/html": [
       "<div>\n",
       "<style scoped>\n",
       "    .dataframe tbody tr th:only-of-type {\n",
       "        vertical-align: middle;\n",
       "    }\n",
       "\n",
       "    .dataframe tbody tr th {\n",
       "        vertical-align: top;\n",
       "    }\n",
       "\n",
       "    .dataframe thead th {\n",
       "        text-align: right;\n",
       "    }\n",
       "</style>\n",
       "<table border=\"1\" class=\"dataframe\">\n",
       "  <thead>\n",
       "    <tr style=\"text-align: right;\">\n",
       "      <th></th>\n",
       "      <th>Date/Time</th>\n",
       "      <th>Lat</th>\n",
       "      <th>Lon</th>\n",
       "      <th>Base</th>\n",
       "      <th>DiaSemana</th>\n",
       "      <th>DiaMes</th>\n",
       "      <th>Hora</th>\n",
       "      <th>Mes</th>\n",
       "      <th>Minuto</th>\n",
       "    </tr>\n",
       "  </thead>\n",
       "  <tbody>\n",
       "    <tr>\n",
       "      <th>0</th>\n",
       "      <td>2014-08-01 00:03:00</td>\n",
       "      <td>40.73660</td>\n",
       "      <td>-73.99060</td>\n",
       "      <td>B02512</td>\n",
       "      <td>Friday</td>\n",
       "      <td>1</td>\n",
       "      <td>0</td>\n",
       "      <td>8</td>\n",
       "      <td>3</td>\n",
       "    </tr>\n",
       "    <tr>\n",
       "      <th>1</th>\n",
       "      <td>2014-08-01 00:09:00</td>\n",
       "      <td>40.72600</td>\n",
       "      <td>-73.99180</td>\n",
       "      <td>B02512</td>\n",
       "      <td>Friday</td>\n",
       "      <td>1</td>\n",
       "      <td>0</td>\n",
       "      <td>8</td>\n",
       "      <td>9</td>\n",
       "    </tr>\n",
       "    <tr>\n",
       "      <th>2</th>\n",
       "      <td>2014-08-01 00:12:00</td>\n",
       "      <td>40.72090</td>\n",
       "      <td>-74.05070</td>\n",
       "      <td>B02512</td>\n",
       "      <td>Friday</td>\n",
       "      <td>1</td>\n",
       "      <td>0</td>\n",
       "      <td>8</td>\n",
       "      <td>12</td>\n",
       "    </tr>\n",
       "    <tr>\n",
       "      <th>3</th>\n",
       "      <td>2014-08-01 00:12:00</td>\n",
       "      <td>40.73870</td>\n",
       "      <td>-73.98560</td>\n",
       "      <td>B02512</td>\n",
       "      <td>Friday</td>\n",
       "      <td>1</td>\n",
       "      <td>0</td>\n",
       "      <td>8</td>\n",
       "      <td>12</td>\n",
       "    </tr>\n",
       "    <tr>\n",
       "      <th>4</th>\n",
       "      <td>2014-08-01 00:12:00</td>\n",
       "      <td>40.73230</td>\n",
       "      <td>-74.00770</td>\n",
       "      <td>B02512</td>\n",
       "      <td>Friday</td>\n",
       "      <td>1</td>\n",
       "      <td>0</td>\n",
       "      <td>8</td>\n",
       "      <td>12</td>\n",
       "    </tr>\n",
       "  </tbody>\n",
       "</table>\n",
       "</div>"
      ],
      "text/plain": [
       "            Date/Time      Lat       Lon    Base DiaSemana  DiaMes  Hora  Mes  \\\n",
       "0 2014-08-01 00:03:00 40.73660 -73.99060  B02512    Friday       1     0    8   \n",
       "1 2014-08-01 00:09:00 40.72600 -73.99180  B02512    Friday       1     0    8   \n",
       "2 2014-08-01 00:12:00 40.72090 -74.05070  B02512    Friday       1     0    8   \n",
       "3 2014-08-01 00:12:00 40.73870 -73.98560  B02512    Friday       1     0    8   \n",
       "4 2014-08-01 00:12:00 40.73230 -74.00770  B02512    Friday       1     0    8   \n",
       "\n",
       "   Minuto  \n",
       "0       3  \n",
       "1       9  \n",
       "2      12  \n",
       "3      12  \n",
       "4      12  "
      ]
     },
     "execution_count": 12,
     "metadata": {},
     "output_type": "execute_result"
    }
   ],
   "source": [
    "df2014.duplicated().sum()\n",
    "print(df2014.duplicated().sum())\n",
    "df2014.drop_duplicates(inplace=True)\n",
    "df2014.head(5)"
   ]
  },
  {
   "cell_type": "code",
   "execution_count": 13,
   "id": "d3248d91",
   "metadata": {},
   "outputs": [],
   "source": [
    "def esFinde(dia):\n",
    "    if dia == 'Sunday' or dia == 'Saturday' :\n",
    "        return 0\n",
    "    else:\n",
    "        return 1"
   ]
  },
  {
   "cell_type": "code",
   "execution_count": 14,
   "id": "146077c5",
   "metadata": {},
   "outputs": [],
   "source": [
    "df2014['DiaLaboral'] = df2014['DiaSemana'].apply(esFinde)"
   ]
  },
  {
   "cell_type": "code",
   "execution_count": 15,
   "id": "a1e37c85",
   "metadata": {},
   "outputs": [
    {
     "data": {
      "text/html": [
       "<div>\n",
       "<style scoped>\n",
       "    .dataframe tbody tr th:only-of-type {\n",
       "        vertical-align: middle;\n",
       "    }\n",
       "\n",
       "    .dataframe tbody tr th {\n",
       "        vertical-align: top;\n",
       "    }\n",
       "\n",
       "    .dataframe thead th {\n",
       "        text-align: right;\n",
       "    }\n",
       "</style>\n",
       "<table border=\"1\" class=\"dataframe\">\n",
       "  <thead>\n",
       "    <tr style=\"text-align: right;\">\n",
       "      <th></th>\n",
       "      <th>Date/Time</th>\n",
       "      <th>Lat</th>\n",
       "      <th>Lon</th>\n",
       "      <th>Base</th>\n",
       "      <th>DiaSemana</th>\n",
       "      <th>DiaMes</th>\n",
       "      <th>Hora</th>\n",
       "      <th>Mes</th>\n",
       "      <th>Minuto</th>\n",
       "      <th>DiaLaboral</th>\n",
       "    </tr>\n",
       "  </thead>\n",
       "  <tbody>\n",
       "    <tr>\n",
       "      <th>0</th>\n",
       "      <td>2014-08-01 00:03:00</td>\n",
       "      <td>40.73660</td>\n",
       "      <td>-73.99060</td>\n",
       "      <td>B02512</td>\n",
       "      <td>Friday</td>\n",
       "      <td>1</td>\n",
       "      <td>0</td>\n",
       "      <td>8</td>\n",
       "      <td>3</td>\n",
       "      <td>1</td>\n",
       "    </tr>\n",
       "    <tr>\n",
       "      <th>1</th>\n",
       "      <td>2014-08-01 00:09:00</td>\n",
       "      <td>40.72600</td>\n",
       "      <td>-73.99180</td>\n",
       "      <td>B02512</td>\n",
       "      <td>Friday</td>\n",
       "      <td>1</td>\n",
       "      <td>0</td>\n",
       "      <td>8</td>\n",
       "      <td>9</td>\n",
       "      <td>1</td>\n",
       "    </tr>\n",
       "    <tr>\n",
       "      <th>2</th>\n",
       "      <td>2014-08-01 00:12:00</td>\n",
       "      <td>40.72090</td>\n",
       "      <td>-74.05070</td>\n",
       "      <td>B02512</td>\n",
       "      <td>Friday</td>\n",
       "      <td>1</td>\n",
       "      <td>0</td>\n",
       "      <td>8</td>\n",
       "      <td>12</td>\n",
       "      <td>1</td>\n",
       "    </tr>\n",
       "    <tr>\n",
       "      <th>3</th>\n",
       "      <td>2014-08-01 00:12:00</td>\n",
       "      <td>40.73870</td>\n",
       "      <td>-73.98560</td>\n",
       "      <td>B02512</td>\n",
       "      <td>Friday</td>\n",
       "      <td>1</td>\n",
       "      <td>0</td>\n",
       "      <td>8</td>\n",
       "      <td>12</td>\n",
       "      <td>1</td>\n",
       "    </tr>\n",
       "    <tr>\n",
       "      <th>4</th>\n",
       "      <td>2014-08-01 00:12:00</td>\n",
       "      <td>40.73230</td>\n",
       "      <td>-74.00770</td>\n",
       "      <td>B02512</td>\n",
       "      <td>Friday</td>\n",
       "      <td>1</td>\n",
       "      <td>0</td>\n",
       "      <td>8</td>\n",
       "      <td>12</td>\n",
       "      <td>1</td>\n",
       "    </tr>\n",
       "  </tbody>\n",
       "</table>\n",
       "</div>"
      ],
      "text/plain": [
       "            Date/Time      Lat       Lon    Base DiaSemana  DiaMes  Hora  Mes  \\\n",
       "0 2014-08-01 00:03:00 40.73660 -73.99060  B02512    Friday       1     0    8   \n",
       "1 2014-08-01 00:09:00 40.72600 -73.99180  B02512    Friday       1     0    8   \n",
       "2 2014-08-01 00:12:00 40.72090 -74.05070  B02512    Friday       1     0    8   \n",
       "3 2014-08-01 00:12:00 40.73870 -73.98560  B02512    Friday       1     0    8   \n",
       "4 2014-08-01 00:12:00 40.73230 -74.00770  B02512    Friday       1     0    8   \n",
       "\n",
       "   Minuto  DiaLaboral  \n",
       "0       3           1  \n",
       "1       9           1  \n",
       "2      12           1  \n",
       "3      12           1  \n",
       "4      12           1  "
      ]
     },
     "execution_count": 15,
     "metadata": {},
     "output_type": "execute_result"
    }
   ],
   "source": [
    "df2014.head()"
   ]
  },
  {
   "cell_type": "code",
   "execution_count": 16,
   "id": "77f7bd12",
   "metadata": {},
   "outputs": [],
   "source": [
    "df2014['DiaSemana'] = df2014['DiaSemana'].replace('Monday', '1')\n",
    "df2014['DiaSemana'] = df2014['DiaSemana'].replace('Tuesday', '2')\n",
    "df2014['DiaSemana'] = df2014['DiaSemana'].replace('Wednesday', '3')\n",
    "df2014['DiaSemana'] = df2014['DiaSemana'].replace('Thursday', '4')\n",
    "df2014['DiaSemana'] = df2014['DiaSemana'].replace('Friday', '5')\n",
    "df2014['DiaSemana'] = df2014['DiaSemana'].replace('Saturday', '6')\n",
    "df2014['DiaSemana'] = df2014['DiaSemana'].replace('Sunday', '7')"
   ]
  },
  {
   "cell_type": "code",
   "execution_count": 17,
   "id": "204edcdf",
   "metadata": {},
   "outputs": [
    {
     "data": {
      "text/plain": [
       "0         5\n",
       "1         5\n",
       "2         5\n",
       "3         5\n",
       "4         5\n",
       "         ..\n",
       "652430    6\n",
       "652431    6\n",
       "652432    6\n",
       "652433    6\n",
       "652434    6\n",
       "Name: DiaSemana, Length: 4451746, dtype: int32"
      ]
     },
     "execution_count": 17,
     "metadata": {},
     "output_type": "execute_result"
    }
   ],
   "source": [
    "df2014['DiaSemana'].astype(int)"
   ]
  },
  {
   "cell_type": "code",
   "execution_count": null,
   "id": "2f84aabb",
   "metadata": {},
   "outputs": [],
   "source": [
    "df_lluvias = pd.read_excel(\"Lluvia.xlsx\")\n",
    "X2 = pd.merge(df2014, df_lluvias, how='left', left_on=['Hora', 'Mes','DiaMes'], right_on=['hora', 'mes', 'Dia'])\n",
    "X2= X2.drop(['año', 'mes', 'Dia', 'hora', 'New York'], axis=1)"
   ]
  },
  {
   "cell_type": "code",
   "execution_count": null,
   "id": "1a877d88",
   "metadata": {},
   "outputs": [],
   "source": [
    "X2"
   ]
  },
  {
   "cell_type": "code",
   "execution_count": 42,
   "id": "c057d2ce",
   "metadata": {},
   "outputs": [],
   "source": [
    "df_lat_long = df2014[['Lat', 'Lon']]"
   ]
  },
  {
   "cell_type": "code",
   "execution_count": 43,
   "id": "7ee76565",
   "metadata": {},
   "outputs": [],
   "source": [
    "from sklearn.cluster import KMeans"
   ]
  },
  {
   "cell_type": "code",
   "execution_count": 86,
   "id": "f742c41b",
   "metadata": {},
   "outputs": [],
   "source": [
    "kmeans = KMeans(n_clusters=6, random_state=0)\n",
    "kmeans.fit(df_lat_long)\n",
    "y_kmeans = kmeans.predict(df_lat_long)"
   ]
  },
  {
   "cell_type": "code",
   "execution_count": null,
   "id": "2ecd7a46",
   "metadata": {},
   "outputs": [],
   "source": [
    "df2014['cluster'] = y_kmeans"
   ]
  },
  {
   "cell_type": "code",
   "execution_count": null,
   "id": "ec43aff8",
   "metadata": {},
   "outputs": [],
   "source": [
    "df_cluster = pd.get_dummies(df2014['cluster'],prefix='cluster')\n",
    "df2014['cluster0'] = df_cluster['cluster_0']\n",
    "df2014['cluster1'] = df_cluster['cluster_1']\n",
    "df2014['cluster2'] = df_cluster['cluster_2']\n",
    "df2014['cluster3'] = df_cluster['cluster_3']\n",
    "df2014['cluster4'] = df_cluster['cluster_4']\n",
    "df2014['cluster5'] = df_cluster['cluster_5']"
   ]
  },
  {
   "cell_type": "code",
   "execution_count": null,
   "id": "d8689f46",
   "metadata": {},
   "outputs": [],
   "source": [
    "centroids = kmeans.cluster_centers_\n",
    "centroids"
   ]
  },
  {
   "cell_type": "code",
   "execution_count": null,
   "id": "d3ee06ae",
   "metadata": {},
   "outputs": [],
   "source": [
    "clocation = pd.DataFrame()\n",
    "clocation['Latitude'] = centroids[:,0]\n",
    "clocation['Longitude'] = centroids[:,1]\n",
    "clocation = clocation.reset_index(level=0)\n",
    "clocation=clocation.rename(columns = {'index':'Cluster'})\n",
    "clocation"
   ]
  },
  {
   "cell_type": "code",
   "execution_count": 69,
   "id": "71ee643f",
   "metadata": {},
   "outputs": [
    {
     "data": {
      "text/plain": [
       "0         5\n",
       "1         5\n",
       "2         5\n",
       "3         5\n",
       "4         5\n",
       "         ..\n",
       "652430    6\n",
       "652431    6\n",
       "652432    6\n",
       "652433    6\n",
       "652434    6\n",
       "Name: DiaSemana, Length: 4451746, dtype: int32"
      ]
     },
     "execution_count": 69,
     "metadata": {},
     "output_type": "execute_result"
    }
   ],
   "source": [
    "df2014['cluster0'].astype(int)\n",
    "df2014['cluster1'].astype(int)\n",
    "df2014['cluster2'].astype(int)\n",
    "df2014['cluster3'].astype(int)\n",
    "df2014['cluster4'].astype(int)\n",
    "df2014['cluster5'].astype(int)\n",
    "df2014['DiaSemana'].astype(int)"
   ]
  },
  {
   "cell_type": "code",
   "execution_count": 87,
   "id": "0d3b6c6b",
   "metadata": {},
   "outputs": [],
   "source": [
    "datos_2=X2. groupby (['DiaMes','DiaSemana','Hora','DiaLaboral', 'Lluvia', 'temp','Mes','cluster0','cluster1','cluster2','cluster3','cluster4','cluster5'])['Date/Time'].count().reset_index()\n",
    "#datos_2=X2. groupby (['DiaMes','DiaSemana','Hora','DiaLaboral', 'Lluvia', 'temp','Mes','cluster0','cluster1','cluster2','cluster3','cluster4','cluster5']). agg ({'Date/Time': ['count']}). reset_index ()"
   ]
  },
  {
   "cell_type": "code",
   "execution_count": 88,
   "id": "09521d62",
   "metadata": {},
   "outputs": [
    {
     "data": {
      "text/html": [
       "<div>\n",
       "<style scoped>\n",
       "    .dataframe tbody tr th:only-of-type {\n",
       "        vertical-align: middle;\n",
       "    }\n",
       "\n",
       "    .dataframe tbody tr th {\n",
       "        vertical-align: top;\n",
       "    }\n",
       "\n",
       "    .dataframe thead th {\n",
       "        text-align: right;\n",
       "    }\n",
       "</style>\n",
       "<table border=\"1\" class=\"dataframe\">\n",
       "  <thead>\n",
       "    <tr style=\"text-align: right;\">\n",
       "      <th></th>\n",
       "      <th>DiaMes</th>\n",
       "      <th>DiaSemana</th>\n",
       "      <th>Hora</th>\n",
       "      <th>DiaLaboral</th>\n",
       "      <th>Lluvia</th>\n",
       "      <th>temp</th>\n",
       "      <th>Mes</th>\n",
       "      <th>cluster0</th>\n",
       "      <th>cluster1</th>\n",
       "      <th>cluster2</th>\n",
       "      <th>cluster3</th>\n",
       "      <th>cluster4</th>\n",
       "      <th>cluster5</th>\n",
       "      <th>Date/Time</th>\n",
       "    </tr>\n",
       "  </thead>\n",
       "  <tbody>\n",
       "    <tr>\n",
       "      <th>0</th>\n",
       "      <td>1</td>\n",
       "      <td>1</td>\n",
       "      <td>0</td>\n",
       "      <td>1</td>\n",
       "      <td>0</td>\n",
       "      <td>298.01000</td>\n",
       "      <td>9</td>\n",
       "      <td>0</td>\n",
       "      <td>0</td>\n",
       "      <td>0</td>\n",
       "      <td>0</td>\n",
       "      <td>0</td>\n",
       "      <td>1</td>\n",
       "      <td>175</td>\n",
       "    </tr>\n",
       "    <tr>\n",
       "      <th>1</th>\n",
       "      <td>1</td>\n",
       "      <td>1</td>\n",
       "      <td>0</td>\n",
       "      <td>1</td>\n",
       "      <td>0</td>\n",
       "      <td>298.01000</td>\n",
       "      <td>9</td>\n",
       "      <td>0</td>\n",
       "      <td>0</td>\n",
       "      <td>0</td>\n",
       "      <td>0</td>\n",
       "      <td>1</td>\n",
       "      <td>0</td>\n",
       "      <td>9</td>\n",
       "    </tr>\n",
       "    <tr>\n",
       "      <th>2</th>\n",
       "      <td>1</td>\n",
       "      <td>1</td>\n",
       "      <td>0</td>\n",
       "      <td>1</td>\n",
       "      <td>0</td>\n",
       "      <td>298.01000</td>\n",
       "      <td>9</td>\n",
       "      <td>0</td>\n",
       "      <td>0</td>\n",
       "      <td>0</td>\n",
       "      <td>1</td>\n",
       "      <td>0</td>\n",
       "      <td>0</td>\n",
       "      <td>147</td>\n",
       "    </tr>\n",
       "    <tr>\n",
       "      <th>3</th>\n",
       "      <td>1</td>\n",
       "      <td>1</td>\n",
       "      <td>0</td>\n",
       "      <td>1</td>\n",
       "      <td>0</td>\n",
       "      <td>298.01000</td>\n",
       "      <td>9</td>\n",
       "      <td>0</td>\n",
       "      <td>0</td>\n",
       "      <td>1</td>\n",
       "      <td>0</td>\n",
       "      <td>0</td>\n",
       "      <td>0</td>\n",
       "      <td>32</td>\n",
       "    </tr>\n",
       "    <tr>\n",
       "      <th>4</th>\n",
       "      <td>1</td>\n",
       "      <td>1</td>\n",
       "      <td>0</td>\n",
       "      <td>1</td>\n",
       "      <td>0</td>\n",
       "      <td>298.01000</td>\n",
       "      <td>9</td>\n",
       "      <td>0</td>\n",
       "      <td>1</td>\n",
       "      <td>0</td>\n",
       "      <td>0</td>\n",
       "      <td>0</td>\n",
       "      <td>0</td>\n",
       "      <td>291</td>\n",
       "    </tr>\n",
       "    <tr>\n",
       "      <th>...</th>\n",
       "      <td>...</td>\n",
       "      <td>...</td>\n",
       "      <td>...</td>\n",
       "      <td>...</td>\n",
       "      <td>...</td>\n",
       "      <td>...</td>\n",
       "      <td>...</td>\n",
       "      <td>...</td>\n",
       "      <td>...</td>\n",
       "      <td>...</td>\n",
       "      <td>...</td>\n",
       "      <td>...</td>\n",
       "      <td>...</td>\n",
       "      <td>...</td>\n",
       "    </tr>\n",
       "    <tr>\n",
       "      <th>26135</th>\n",
       "      <td>31</td>\n",
       "      <td>7</td>\n",
       "      <td>23</td>\n",
       "      <td>1</td>\n",
       "      <td>0</td>\n",
       "      <td>298.53000</td>\n",
       "      <td>8</td>\n",
       "      <td>0</td>\n",
       "      <td>0</td>\n",
       "      <td>0</td>\n",
       "      <td>0</td>\n",
       "      <td>1</td>\n",
       "      <td>0</td>\n",
       "      <td>16</td>\n",
       "    </tr>\n",
       "    <tr>\n",
       "      <th>26136</th>\n",
       "      <td>31</td>\n",
       "      <td>7</td>\n",
       "      <td>23</td>\n",
       "      <td>1</td>\n",
       "      <td>0</td>\n",
       "      <td>298.53000</td>\n",
       "      <td>8</td>\n",
       "      <td>0</td>\n",
       "      <td>0</td>\n",
       "      <td>0</td>\n",
       "      <td>1</td>\n",
       "      <td>0</td>\n",
       "      <td>0</td>\n",
       "      <td>220</td>\n",
       "    </tr>\n",
       "    <tr>\n",
       "      <th>26137</th>\n",
       "      <td>31</td>\n",
       "      <td>7</td>\n",
       "      <td>23</td>\n",
       "      <td>1</td>\n",
       "      <td>0</td>\n",
       "      <td>298.53000</td>\n",
       "      <td>8</td>\n",
       "      <td>0</td>\n",
       "      <td>0</td>\n",
       "      <td>1</td>\n",
       "      <td>0</td>\n",
       "      <td>0</td>\n",
       "      <td>0</td>\n",
       "      <td>80</td>\n",
       "    </tr>\n",
       "    <tr>\n",
       "      <th>26138</th>\n",
       "      <td>31</td>\n",
       "      <td>7</td>\n",
       "      <td>23</td>\n",
       "      <td>1</td>\n",
       "      <td>0</td>\n",
       "      <td>298.53000</td>\n",
       "      <td>8</td>\n",
       "      <td>0</td>\n",
       "      <td>1</td>\n",
       "      <td>0</td>\n",
       "      <td>0</td>\n",
       "      <td>0</td>\n",
       "      <td>0</td>\n",
       "      <td>413</td>\n",
       "    </tr>\n",
       "    <tr>\n",
       "      <th>26139</th>\n",
       "      <td>31</td>\n",
       "      <td>7</td>\n",
       "      <td>23</td>\n",
       "      <td>1</td>\n",
       "      <td>0</td>\n",
       "      <td>298.53000</td>\n",
       "      <td>8</td>\n",
       "      <td>1</td>\n",
       "      <td>0</td>\n",
       "      <td>0</td>\n",
       "      <td>0</td>\n",
       "      <td>0</td>\n",
       "      <td>0</td>\n",
       "      <td>54</td>\n",
       "    </tr>\n",
       "  </tbody>\n",
       "</table>\n",
       "<p>26140 rows × 14 columns</p>\n",
       "</div>"
      ],
      "text/plain": [
       "       DiaMes DiaSemana  Hora  DiaLaboral  Lluvia      temp  Mes  cluster0  \\\n",
       "0           1         1     0           1       0 298.01000    9         0   \n",
       "1           1         1     0           1       0 298.01000    9         0   \n",
       "2           1         1     0           1       0 298.01000    9         0   \n",
       "3           1         1     0           1       0 298.01000    9         0   \n",
       "4           1         1     0           1       0 298.01000    9         0   \n",
       "...       ...       ...   ...         ...     ...       ...  ...       ...   \n",
       "26135      31         7    23           1       0 298.53000    8         0   \n",
       "26136      31         7    23           1       0 298.53000    8         0   \n",
       "26137      31         7    23           1       0 298.53000    8         0   \n",
       "26138      31         7    23           1       0 298.53000    8         0   \n",
       "26139      31         7    23           1       0 298.53000    8         1   \n",
       "\n",
       "       cluster1  cluster2  cluster3  cluster4  cluster5  Date/Time  \n",
       "0             0         0         0         0         1        175  \n",
       "1             0         0         0         1         0          9  \n",
       "2             0         0         1         0         0        147  \n",
       "3             0         1         0         0         0         32  \n",
       "4             1         0         0         0         0        291  \n",
       "...         ...       ...       ...       ...       ...        ...  \n",
       "26135         0         0         0         1         0         16  \n",
       "26136         0         0         1         0         0        220  \n",
       "26137         0         1         0         0         0         80  \n",
       "26138         1         0         0         0         0        413  \n",
       "26139         0         0         0         0         0         54  \n",
       "\n",
       "[26140 rows x 14 columns]"
      ]
     },
     "execution_count": 88,
     "metadata": {},
     "output_type": "execute_result"
    }
   ],
   "source": [
    "datos_2"
   ]
  },
  {
   "cell_type": "code",
   "execution_count": 89,
   "id": "89aeea5f",
   "metadata": {},
   "outputs": [
    {
     "data": {
      "text/plain": [
       "Index(['DiaMes', 'DiaSemana', 'Hora', 'DiaLaboral', 'Lluvia', 'temp', 'Mes',\n",
       "       'cluster0', 'cluster1', 'cluster2', 'cluster3', 'cluster4', 'cluster5',\n",
       "       'Date/Time'],\n",
       "      dtype='object')"
      ]
     },
     "execution_count": 89,
     "metadata": {},
     "output_type": "execute_result"
    }
   ],
   "source": [
    "datos_2.columns"
   ]
  },
  {
   "cell_type": "code",
   "execution_count": 107,
   "id": "0d5be7ec",
   "metadata": {},
   "outputs": [],
   "source": [
    "datos_2.rename(columns = {'Lluvia':'lluvia', 'Date/Time':'flujo','DiaSemana':'dia_sem'}, inplace = True)\n",
    "#datos_2.rename(columns = {'Lluvia':'lluvia','Date/Time count':'flujo'}, inplace = True)"
   ]
  },
  {
   "cell_type": "code",
   "execution_count": 108,
   "id": "4b24ac44",
   "metadata": {},
   "outputs": [
    {
     "data": {
      "text/html": [
       "<div>\n",
       "<style scoped>\n",
       "    .dataframe tbody tr th:only-of-type {\n",
       "        vertical-align: middle;\n",
       "    }\n",
       "\n",
       "    .dataframe tbody tr th {\n",
       "        vertical-align: top;\n",
       "    }\n",
       "\n",
       "    .dataframe thead th {\n",
       "        text-align: right;\n",
       "    }\n",
       "</style>\n",
       "<table border=\"1\" class=\"dataframe\">\n",
       "  <thead>\n",
       "    <tr style=\"text-align: right;\">\n",
       "      <th></th>\n",
       "      <th>DiaMes</th>\n",
       "      <th>dia_sem</th>\n",
       "      <th>Hora</th>\n",
       "      <th>DiaLaboral</th>\n",
       "      <th>lluvia</th>\n",
       "      <th>temp</th>\n",
       "      <th>Mes</th>\n",
       "      <th>cluster0</th>\n",
       "      <th>cluster1</th>\n",
       "      <th>cluster2</th>\n",
       "      <th>cluster3</th>\n",
       "      <th>cluster4</th>\n",
       "      <th>cluster5</th>\n",
       "      <th>flujo</th>\n",
       "    </tr>\n",
       "  </thead>\n",
       "  <tbody>\n",
       "    <tr>\n",
       "      <th>0</th>\n",
       "      <td>1</td>\n",
       "      <td>1</td>\n",
       "      <td>0</td>\n",
       "      <td>1</td>\n",
       "      <td>0</td>\n",
       "      <td>298.01000</td>\n",
       "      <td>9</td>\n",
       "      <td>0</td>\n",
       "      <td>0</td>\n",
       "      <td>0</td>\n",
       "      <td>0</td>\n",
       "      <td>0</td>\n",
       "      <td>1</td>\n",
       "      <td>175</td>\n",
       "    </tr>\n",
       "    <tr>\n",
       "      <th>1</th>\n",
       "      <td>1</td>\n",
       "      <td>1</td>\n",
       "      <td>0</td>\n",
       "      <td>1</td>\n",
       "      <td>0</td>\n",
       "      <td>298.01000</td>\n",
       "      <td>9</td>\n",
       "      <td>0</td>\n",
       "      <td>0</td>\n",
       "      <td>0</td>\n",
       "      <td>0</td>\n",
       "      <td>1</td>\n",
       "      <td>0</td>\n",
       "      <td>9</td>\n",
       "    </tr>\n",
       "    <tr>\n",
       "      <th>2</th>\n",
       "      <td>1</td>\n",
       "      <td>1</td>\n",
       "      <td>0</td>\n",
       "      <td>1</td>\n",
       "      <td>0</td>\n",
       "      <td>298.01000</td>\n",
       "      <td>9</td>\n",
       "      <td>0</td>\n",
       "      <td>0</td>\n",
       "      <td>0</td>\n",
       "      <td>1</td>\n",
       "      <td>0</td>\n",
       "      <td>0</td>\n",
       "      <td>147</td>\n",
       "    </tr>\n",
       "    <tr>\n",
       "      <th>3</th>\n",
       "      <td>1</td>\n",
       "      <td>1</td>\n",
       "      <td>0</td>\n",
       "      <td>1</td>\n",
       "      <td>0</td>\n",
       "      <td>298.01000</td>\n",
       "      <td>9</td>\n",
       "      <td>0</td>\n",
       "      <td>0</td>\n",
       "      <td>1</td>\n",
       "      <td>0</td>\n",
       "      <td>0</td>\n",
       "      <td>0</td>\n",
       "      <td>32</td>\n",
       "    </tr>\n",
       "    <tr>\n",
       "      <th>4</th>\n",
       "      <td>1</td>\n",
       "      <td>1</td>\n",
       "      <td>0</td>\n",
       "      <td>1</td>\n",
       "      <td>0</td>\n",
       "      <td>298.01000</td>\n",
       "      <td>9</td>\n",
       "      <td>0</td>\n",
       "      <td>1</td>\n",
       "      <td>0</td>\n",
       "      <td>0</td>\n",
       "      <td>0</td>\n",
       "      <td>0</td>\n",
       "      <td>291</td>\n",
       "    </tr>\n",
       "    <tr>\n",
       "      <th>...</th>\n",
       "      <td>...</td>\n",
       "      <td>...</td>\n",
       "      <td>...</td>\n",
       "      <td>...</td>\n",
       "      <td>...</td>\n",
       "      <td>...</td>\n",
       "      <td>...</td>\n",
       "      <td>...</td>\n",
       "      <td>...</td>\n",
       "      <td>...</td>\n",
       "      <td>...</td>\n",
       "      <td>...</td>\n",
       "      <td>...</td>\n",
       "      <td>...</td>\n",
       "    </tr>\n",
       "    <tr>\n",
       "      <th>26135</th>\n",
       "      <td>31</td>\n",
       "      <td>7</td>\n",
       "      <td>23</td>\n",
       "      <td>1</td>\n",
       "      <td>0</td>\n",
       "      <td>298.53000</td>\n",
       "      <td>8</td>\n",
       "      <td>0</td>\n",
       "      <td>0</td>\n",
       "      <td>0</td>\n",
       "      <td>0</td>\n",
       "      <td>1</td>\n",
       "      <td>0</td>\n",
       "      <td>16</td>\n",
       "    </tr>\n",
       "    <tr>\n",
       "      <th>26136</th>\n",
       "      <td>31</td>\n",
       "      <td>7</td>\n",
       "      <td>23</td>\n",
       "      <td>1</td>\n",
       "      <td>0</td>\n",
       "      <td>298.53000</td>\n",
       "      <td>8</td>\n",
       "      <td>0</td>\n",
       "      <td>0</td>\n",
       "      <td>0</td>\n",
       "      <td>1</td>\n",
       "      <td>0</td>\n",
       "      <td>0</td>\n",
       "      <td>220</td>\n",
       "    </tr>\n",
       "    <tr>\n",
       "      <th>26137</th>\n",
       "      <td>31</td>\n",
       "      <td>7</td>\n",
       "      <td>23</td>\n",
       "      <td>1</td>\n",
       "      <td>0</td>\n",
       "      <td>298.53000</td>\n",
       "      <td>8</td>\n",
       "      <td>0</td>\n",
       "      <td>0</td>\n",
       "      <td>1</td>\n",
       "      <td>0</td>\n",
       "      <td>0</td>\n",
       "      <td>0</td>\n",
       "      <td>80</td>\n",
       "    </tr>\n",
       "    <tr>\n",
       "      <th>26138</th>\n",
       "      <td>31</td>\n",
       "      <td>7</td>\n",
       "      <td>23</td>\n",
       "      <td>1</td>\n",
       "      <td>0</td>\n",
       "      <td>298.53000</td>\n",
       "      <td>8</td>\n",
       "      <td>0</td>\n",
       "      <td>1</td>\n",
       "      <td>0</td>\n",
       "      <td>0</td>\n",
       "      <td>0</td>\n",
       "      <td>0</td>\n",
       "      <td>413</td>\n",
       "    </tr>\n",
       "    <tr>\n",
       "      <th>26139</th>\n",
       "      <td>31</td>\n",
       "      <td>7</td>\n",
       "      <td>23</td>\n",
       "      <td>1</td>\n",
       "      <td>0</td>\n",
       "      <td>298.53000</td>\n",
       "      <td>8</td>\n",
       "      <td>1</td>\n",
       "      <td>0</td>\n",
       "      <td>0</td>\n",
       "      <td>0</td>\n",
       "      <td>0</td>\n",
       "      <td>0</td>\n",
       "      <td>54</td>\n",
       "    </tr>\n",
       "  </tbody>\n",
       "</table>\n",
       "<p>26140 rows × 14 columns</p>\n",
       "</div>"
      ],
      "text/plain": [
       "       DiaMes dia_sem  Hora  DiaLaboral  lluvia      temp  Mes  cluster0  \\\n",
       "0           1       1     0           1       0 298.01000    9         0   \n",
       "1           1       1     0           1       0 298.01000    9         0   \n",
       "2           1       1     0           1       0 298.01000    9         0   \n",
       "3           1       1     0           1       0 298.01000    9         0   \n",
       "4           1       1     0           1       0 298.01000    9         0   \n",
       "...       ...     ...   ...         ...     ...       ...  ...       ...   \n",
       "26135      31       7    23           1       0 298.53000    8         0   \n",
       "26136      31       7    23           1       0 298.53000    8         0   \n",
       "26137      31       7    23           1       0 298.53000    8         0   \n",
       "26138      31       7    23           1       0 298.53000    8         0   \n",
       "26139      31       7    23           1       0 298.53000    8         1   \n",
       "\n",
       "       cluster1  cluster2  cluster3  cluster4  cluster5  flujo  \n",
       "0             0         0         0         0         1    175  \n",
       "1             0         0         0         1         0      9  \n",
       "2             0         0         1         0         0    147  \n",
       "3             0         1         0         0         0     32  \n",
       "4             1         0         0         0         0    291  \n",
       "...         ...       ...       ...       ...       ...    ...  \n",
       "26135         0         0         0         1         0     16  \n",
       "26136         0         0         1         0         0    220  \n",
       "26137         0         1         0         0         0     80  \n",
       "26138         1         0         0         0         0    413  \n",
       "26139         0         0         0         0         0     54  \n",
       "\n",
       "[26140 rows x 14 columns]"
      ]
     },
     "execution_count": 108,
     "metadata": {},
     "output_type": "execute_result"
    }
   ],
   "source": [
    "datos_2"
   ]
  },
  {
   "cell_type": "code",
   "execution_count": 114,
   "id": "198ef52e",
   "metadata": {},
   "outputs": [],
   "source": [
    "datos_2.to_csv('DFdatosfinal.csv')"
   ]
  },
  {
   "cell_type": "code",
   "execution_count": 157,
   "id": "c8bda3cd",
   "metadata": {},
   "outputs": [
    {
     "name": "stdout",
     "output_type": "stream",
     "text": [
      "<class 'pandas.core.frame.DataFrame'>\n",
      "RangeIndex: 26140 entries, 0 to 26139\n",
      "Data columns (total 14 columns):\n",
      " #   Column      Non-Null Count  Dtype  \n",
      "---  ------      --------------  -----  \n",
      " 0   DiaMes      26140 non-null  int64  \n",
      " 1   dia_sem     26140 non-null  object \n",
      " 2   Hora        26140 non-null  int64  \n",
      " 3   DiaLaboral  26140 non-null  int64  \n",
      " 4   lluvia      26140 non-null  int64  \n",
      " 5   temp        26140 non-null  float64\n",
      " 6   Mes         26140 non-null  int64  \n",
      " 7   cluster0    26140 non-null  uint64 \n",
      " 8   cluster1    26140 non-null  uint64 \n",
      " 9   cluster2    26140 non-null  uint64 \n",
      " 10  cluster3    26140 non-null  uint64 \n",
      " 11  cluster4    26140 non-null  uint64 \n",
      " 12  cluster5    26140 non-null  uint64 \n",
      " 13  flujo       26140 non-null  int64  \n",
      "dtypes: float64(1), int64(6), object(1), uint64(6)\n",
      "memory usage: 2.8+ MB\n"
     ]
    }
   ],
   "source": [
    "datos_2.info()\n"
   ]
  },
  {
   "cell_type": "code",
   "execution_count": 156,
   "id": "46bfe7b8",
   "metadata": {
    "scrolled": false
   },
   "outputs": [
    {
     "data": {
      "image/png": "[encoded data removed]",
      "text/plain": [
       "<Figure size 1080x720 with 1 Axes>"
      ]
     },
     "metadata": {},
     "output_type": "display_data"
    }
   ],
   "source": [
    "# Correlación entre columnas numéricas\n",
    "data = datos_2.corr(method='pearson')\n",
    "plt.figure(figsize=(15, 10))\n",
    "sns.heatmap(data[0:13], annot=True,fmt='.0', linewidths=.1, cmap=\"YlGnBu\", cbar=False)\n",
    "plt.show()"
   ]
  },
  {
   "cell_type": "markdown",
   "id": "1ec3fce8",
   "metadata": {},
   "source": [
    "OLS"
   ]
  },
  {
   "cell_type": "code",
   "execution_count": 115,
   "id": "076362a8",
   "metadata": {},
   "outputs": [
    {
     "name": "stdout",
     "output_type": "stream",
     "text": [
      "                            OLS Regression Results                            \n",
      "==============================================================================\n",
      "Dep. Variable:                  flujo   R-squared:                       0.622\n",
      "Model:                            OLS   Adj. R-squared:                  0.622\n",
      "Method:                 Least Squares   F-statistic:                     2691.\n",
      "Date:                Fri, 10 Jun 2022   Prob (F-statistic):               0.00\n",
      "Time:                        19:35:52   Log-Likelihood:            -1.6689e+05\n",
      "No. Observations:               26140   AIC:                         3.338e+05\n",
      "Df Residuals:                   26123   BIC:                         3.340e+05\n",
      "Df Model:                          16                                         \n",
      "Covariance Type:            nonrobust                                         \n",
      "================================================================================\n",
      "                   coef    std err          t      P>|t|      [0.025      0.975]\n",
      "--------------------------------------------------------------------------------\n",
      "Intercept       39.6027     21.989      1.801      0.072      -3.497      82.703\n",
      "dia_sem[T.2]    26.8927      3.310      8.125      0.000      20.406      33.380\n",
      "dia_sem[T.3]    42.9063      3.338     12.854      0.000      36.364      49.449\n",
      "dia_sem[T.4]    57.2128      3.347     17.096      0.000      50.653      63.772\n",
      "dia_sem[T.5]    52.9200      3.343     15.829      0.000      46.367      59.473\n",
      "dia_sem[T.6]    27.6825      3.339      8.291      0.000      21.138      34.227\n",
      "dia_sem[T.7]   -13.6185      3.331     -4.088      0.000     -20.147      -7.090\n",
      "DiaMes           0.4933      0.101      4.889      0.000       0.296       0.691\n",
      "Hora             9.9217      0.137     72.257      0.000       9.653      10.191\n",
      "DiaLaboral      39.6027     21.989      1.801      0.072      -3.497      82.703\n",
      "lluvia           6.6376      2.415      2.749      0.006       1.905      11.370\n",
      "temp            -0.6990      0.171     -4.098      0.000      -1.033      -0.365\n",
      "Mes             20.9158      0.613     34.124      0.000      19.714      22.117\n",
      "cluster0      -114.4073      4.165    -27.466      0.000    -122.572    -106.243\n",
      "cluster1       261.9907      4.165     62.903      0.000     253.827     270.154\n",
      "cluster2      -129.8615      4.168    -31.157      0.000    -138.031    -121.692\n",
      "cluster3       210.1034      4.165     50.445      0.000     201.940     218.267\n",
      "cluster4      -154.9601      4.177    -37.098      0.000    -163.147    -146.773\n",
      "cluster5       -33.2624      4.165     -7.986      0.000     -41.426     -25.099\n",
      "==============================================================================\n",
      "Omnibus:                     7962.585   Durbin-Watson:                   2.331\n",
      "Prob(Omnibus):                  0.000   Jarque-Bera (JB):            43617.268\n",
      "Skew:                           1.361   Prob(JB):                         0.00\n",
      "Kurtosis:                       8.713   Cond. No.                     1.04e+18\n",
      "==============================================================================\n",
      "\n",
      "Notes:\n",
      "[1] Standard Errors assume that the covariance matrix of the errors is correctly specified.\n",
      "[2] The smallest eigenvalue is 2.07e-27. This might indicate that there are\n",
      "strong multicollinearity problems or that the design matrix is singular.\n"
     ]
    }
   ],
   "source": [
    "import statsmodels.formula.api as smf\n",
    "reg = smf.ols('flujo ~ DiaMes + Hora + DiaLaboral + lluvia + temp + Mes + dia_sem + cluster0 + cluster1+ cluster2 + cluster3 + cluster4 +cluster5',data=datos_2)\n",
    "modelo = reg.fit()\n",
    "print(modelo.summary())"
   ]
  },
  {
   "cell_type": "code",
   "execution_count": 122,
   "id": "4c0f5c61",
   "metadata": {},
   "outputs": [],
   "source": [
    "# División de los datos en train y test\n",
    "# ==============================================================================\n",
    "X = datos_2.drop(columns='flujo')\n",
    "y = datos_2[('flujo')]\n",
    "\n",
    "X_train, X_test, y_train, y_test = train_test_split(\n",
    "                                        X,\n",
    "                                        y.values.reshape(-1,1),\n",
    "                                        train_size   = 0.7,\n",
    "                                        random_state = 1234,\n",
    "                                        shuffle      = True\n",
    "                                    )"
   ]
  },
  {
   "cell_type": "code",
   "execution_count": 123,
   "id": "b4e90fab",
   "metadata": {},
   "outputs": [
    {
     "data": {
      "text/plain": [
       "LinearRegression(normalize=True)"
      ]
     },
     "execution_count": 123,
     "metadata": {},
     "output_type": "execute_result"
    }
   ],
   "source": [
    "# Creación y entrenamiento del modelo\n",
    "# ==============================================================================\n",
    "modelo = LinearRegression(normalize=True)\n",
    "modelo.fit(X = X_train, y = y_train)"
   ]
  },
  {
   "cell_type": "code",
   "execution_count": 124,
   "id": "31eba19e",
   "metadata": {},
   "outputs": [
    {
     "name": "stdout",
     "output_type": "stream",
     "text": [
      "Intercept: [4.58641156e+15]\n",
      "Coeficiente: [('DiaMes', 0.539980536137683), ('dia_sem', -0.9855373547043039), ('Hora', 9.95183540355997), ('DiaLaboral', -3071030066978629.0), ('lluvia', 12.715389226594688), ('temp', -1.0240158066539906), ('Mes', 21.234820649398333), ('cluster0', -1515381490177159.2), ('cluster1', -1515381490176784.5), ('cluster2', -1515381490177175.8), ('cluster3', -1515381490176835.2), ('cluster4', -1515381490177203.5), ('cluster5', -1515381490177079.5)]\n",
      "Coeficiente de determinación R^2: 0.6115205481339171\n"
     ]
    }
   ],
   "source": [
    "# Información del modelo\n",
    "# ==============================================================================\n",
    "print(\"Intercept:\", modelo.intercept_)\n",
    "print(\"Coeficiente:\", list(zip(X.columns, modelo.coef_.flatten(), )))\n",
    "print(\"Coeficiente de determinación R^2:\", modelo.score(X, y))"
   ]
  },
  {
   "cell_type": "markdown",
   "id": "f791aa74",
   "metadata": {},
   "source": [
    "Una vez entrenado el modelo, se evalúa la capacidad predictiva empleando el conjunto de test."
   ]
  },
  {
   "cell_type": "code",
   "execution_count": 125,
   "id": "c8e39600",
   "metadata": {},
   "outputs": [
    {
     "data": {
      "image/png": "[encoded data removed]",
      "text/plain": [
       "<Figure size 792x276.48 with 1 Axes>"
      ]
     },
     "metadata": {},
     "output_type": "display_data"
    }
   ],
   "source": [
    "# Coeficientes del modelo\n",
    "# ==============================================================================\n",
    "df_coeficientes = pd.DataFrame(\n",
    "                        {'predictor': X_train.columns,\n",
    "                         'coef': modelo.coef_.flatten()}\n",
    "                  )\n",
    "\n",
    "fig, ax = plt.subplots(figsize=(11, 3.84))\n",
    "ax.stem(df_coeficientes.predictor, df_coeficientes.coef, markerfmt=' ')\n",
    "plt.xticks(rotation=90, ha='right', size=5)\n",
    "ax.set_xlabel('variable')\n",
    "ax.set_ylabel('coeficientes')\n",
    "ax.set_title('Coeficientes del modelo');"
   ]
  },
  {
   "cell_type": "code",
   "execution_count": 126,
   "id": "2e136d36",
   "metadata": {},
   "outputs": [
    {
     "data": {
      "text/plain": [
       "array([221.,  24., 271., -85.,  73.])"
      ]
     },
     "execution_count": 126,
     "metadata": {},
     "output_type": "execute_result"
    }
   ],
   "source": [
    "# Predicciones test\n",
    "# ==============================================================================\n",
    "predicciones = modelo.predict(X=X_test)\n",
    "predicciones = predicciones.flatten()\n",
    "predicciones[:5]"
   ]
  },
  {
   "cell_type": "code",
   "execution_count": 127,
   "id": "b59e5ef6",
   "metadata": {},
   "outputs": [
    {
     "name": "stdout",
     "output_type": "stream",
     "text": [
      "\n",
      "El error (rmse) de test es: 146.36404855883507\n"
     ]
    }
   ],
   "source": [
    "# Error de test del modelo \n",
    "# ==============================================================================\n",
    "rmse_ols = mean_squared_error(\n",
    "            y_true  = y_test,\n",
    "            y_pred  = predicciones,\n",
    "            squared = False\n",
    "           )\n",
    "print(\"\")\n",
    "print(f\"El error (rmse) de test es: {rmse_ols}\")"
   ]
  },
  {
   "cell_type": "markdown",
   "id": "be826168",
   "metadata": {},
   "source": [
    "Las predicciones del modelo final se alejan en promedio 146.36 unidades del valor real."
   ]
  },
  {
   "cell_type": "markdown",
   "id": "5f61135c",
   "metadata": {},
   "source": [
    "RIDGE"
   ]
  },
  {
   "cell_type": "code",
   "execution_count": 128,
   "id": "9232dab1",
   "metadata": {},
   "outputs": [],
   "source": [
    "# Creación y entrenamiento del modelo (con búsqueda por CV del valor óptimo alpha)\n",
    "# ==============================================================================\n",
    "# Por defecto RidgeCV utiliza el mean squared error\n",
    "modelo = RidgeCV(\n",
    "            alphas          = np.logspace(-10, 2, 200),\n",
    "            fit_intercept   = True,\n",
    "            normalize       = True,\n",
    "            store_cv_values = True\n",
    "         )\n",
    "\n",
    "_ = modelo.fit(X = X_train, y = y_train)"
   ]
  },
  {
   "cell_type": "code",
   "execution_count": 129,
   "id": "c879dd09",
   "metadata": {},
   "outputs": [
    {
     "data": {
      "image/png": "[encoded data removed]",
      "text/plain": [
       "<Figure size 504x276.48 with 1 Axes>"
      ]
     },
     "metadata": {},
     "output_type": "display_data"
    }
   ],
   "source": [
    "# Evolución de los coeficientes en función de alpha\n",
    "# ==============================================================================\n",
    "alphas = modelo.alphas\n",
    "coefs = []\n",
    "\n",
    "for alpha in alphas:\n",
    "    modelo_temp = Ridge(alpha=alpha, fit_intercept=False, normalize=True)\n",
    "    modelo_temp.fit(X_train, y_train)\n",
    "    coefs.append(modelo_temp.coef_.flatten())\n",
    "\n",
    "fig, ax = plt.subplots(figsize=(7, 3.84))\n",
    "ax.plot(alphas, coefs)\n",
    "#ax.set_xscale('log')\n",
    "ax.set_xlabel('alpha')\n",
    "ax.set_ylabel('coeficientes')\n",
    "ax.set_title('Coeficientes del modelo en función de la regularización');\n",
    "plt.axis('tight')\n",
    "plt.show()"
   ]
  },
  {
   "cell_type": "code",
   "execution_count": 131,
   "id": "df94275e",
   "metadata": {},
   "outputs": [
    {
     "data": {
      "image/png": "[encoded data removed]",
      "text/plain": [
       "<Figure size 504x276.48 with 1 Axes>"
      ]
     },
     "metadata": {},
     "output_type": "display_data"
    }
   ],
   "source": [
    "# Evolución del error en función de alpha\n",
    "# ==============================================================================\n",
    "# modelo.cv_values almacena el mse de cv para cada valor de alpha. Tiene\n",
    "# dimensiones (n_samples, n_targets, n_alphas)\n",
    "mse_cv = modelo.cv_values_.reshape((-1, 200)).mean(axis=0)\n",
    "mse_sd = modelo.cv_values_.reshape((-1, 200)).std(axis=0)\n",
    "\n",
    "# Se aplica la raíz cuadrada para pasar de mse a rmse\n",
    "rmse_cv = np.sqrt(mse_cv)\n",
    "rmse_sd = np.sqrt(mse_sd)\n",
    "\n",
    "# Se identifica el óptimo y el óptimo + 1std\n",
    "min_rmse     = np.min(rmse_cv)\n",
    "sd_min_rmse  = rmse_sd[np.argmin(rmse_cv)]\n",
    "min_rsme_1sd = np.max(rmse_cv[rmse_cv <= min_rmse + sd_min_rmse])\n",
    "optimo       = modelo.alphas[np.argmin(rmse_cv)]\n",
    "optimo_1sd   = modelo.alphas[rmse_cv == min_rsme_1sd]\n",
    "\n",
    "\n",
    "# Gráfico del error +- 1 desviación estándar\n",
    "fig, ax = plt.subplots(figsize=(7, 3.84))\n",
    "ax.plot(modelo.alphas, rmse_cv)\n",
    "ax.fill_between(\n",
    "    modelo.alphas,\n",
    "    rmse_cv + rmse_sd,\n",
    "    rmse_cv - rmse_sd,\n",
    "    alpha=0.2\n",
    ")\n",
    "\n",
    "ax.axvline(\n",
    "    x         = optimo,\n",
    "    c         = \"gray\",\n",
    "    linestyle = '--',\n",
    "    label     = 'óptimo'\n",
    ")\n",
    "\n",
    "ax.axvline(\n",
    "    x         = optimo_1sd,\n",
    "    c         = \"blue\",\n",
    "    linestyle = '--',\n",
    "    label     = 'óptimo_1sd'\n",
    ")\n",
    "#ax.set_xscale('log')\n",
    "#ax.set_xlim([0,10])\n",
    "ax.set_ylim([0,None])\n",
    "ax.set_title('Evolución del error CV en función de la regularización')\n",
    "ax.set_xlabel('alpha')\n",
    "ax.set_ylabel('RMSE')\n",
    "plt.legend();\n",
    "\n"
   ]
  },
  {
   "cell_type": "code",
   "execution_count": 132,
   "id": "d8cced7c",
   "metadata": {},
   "outputs": [
    {
     "name": "stdout",
     "output_type": "stream",
     "text": [
      "Mejor valor de alpha encontrado: 0.0004937047852839004\n"
     ]
    }
   ],
   "source": [
    "# Mejor valor alpha encontrado\n",
    "# ==============================================================================\n",
    "print(f\"Mejor valor de alpha encontrado: {modelo.alpha_}\")"
   ]
  },
  {
   "cell_type": "code",
   "execution_count": 133,
   "id": "60f91aa5",
   "metadata": {},
   "outputs": [
    {
     "data": {
      "image/png": "[encoded data removed]",
      "text/plain": [
       "<Figure size 792x276.48 with 1 Axes>"
      ]
     },
     "metadata": {},
     "output_type": "display_data"
    }
   ],
   "source": [
    "# Coeficientes del modelo\n",
    "# ==============================================================================\n",
    "df_coeficientes = pd.DataFrame(\n",
    "                        {'predictor': X_train.columns,\n",
    "                         'coef': modelo.coef_.flatten()}\n",
    "                  )\n",
    "\n",
    "fig, ax = plt.subplots(figsize=(11, 3.84))\n",
    "ax.stem(df_coeficientes.predictor, df_coeficientes.coef, markerfmt=' ')\n",
    "plt.xticks(rotation=90, ha='right', size=5)\n",
    "ax.set_xlabel('variable')\n",
    "ax.set_ylabel('coeficientes')\n",
    "ax.set_title('Coeficientes del modelo');"
   ]
  },
  {
   "cell_type": "markdown",
   "id": "773d9d6c",
   "metadata": {},
   "source": [
    "En comparación al modelo por mínimos cuadrados ordinarios, con ridge, el orden de magnitud de los coeficientes es similar."
   ]
  },
  {
   "cell_type": "code",
   "execution_count": 134,
   "id": "abcdb237",
   "metadata": {},
   "outputs": [
    {
     "data": {
      "text/plain": [
       "array([220.26868791,  22.83451084, 270.76979849, -86.32558261,\n",
       "        71.26154445])"
      ]
     },
     "execution_count": 134,
     "metadata": {},
     "output_type": "execute_result"
    }
   ],
   "source": [
    "# Predicciones test\n",
    "# ==============================================================================\n",
    "predicciones = modelo.predict(X=X_test)\n",
    "predicciones = predicciones.flatten()\n",
    "predicciones[:5]"
   ]
  },
  {
   "cell_type": "code",
   "execution_count": 135,
   "id": "d9420caf",
   "metadata": {},
   "outputs": [
    {
     "name": "stdout",
     "output_type": "stream",
     "text": [
      "\n",
      "El error (rmse) de test es: 146.3509051448924\n"
     ]
    }
   ],
   "source": [
    "# Error de test del modelo \n",
    "# ==============================================================================\n",
    "rmse_ridge = mean_squared_error(\n",
    "                y_true  = y_test,\n",
    "                y_pred  = predicciones,\n",
    "                squared = False\n",
    "             )\n",
    "print(\"\")\n",
    "print(f\"El error (rmse) de test es: {rmse_ridge}\")"
   ]
  },
  {
   "cell_type": "markdown",
   "id": "451a8159",
   "metadata": {},
   "source": [
    "Las predicciones del modelo final se alejan en promedio 146.35 unidades del valor real."
   ]
  },
  {
   "cell_type": "markdown",
   "id": "024f8e83",
   "metadata": {},
   "source": [
    "LASSO"
   ]
  },
  {
   "cell_type": "code",
   "execution_count": 136,
   "id": "4d56ed40",
   "metadata": {},
   "outputs": [],
   "source": [
    "# Creación y entrenamiento del modelo (con búsqueda por CV del valor óptimo alpha)\n",
    "# ==============================================================================\n",
    "# Por defecto LassoCV utiliza el mean squared error\n",
    "modelo = LassoCV(\n",
    "            alphas          = np.logspace(-10, 3, 200),\n",
    "            normalize       = True,\n",
    "            cv              = 10\n",
    "         )\n",
    "_ = modelo.fit(X = X_train, y = y_train)"
   ]
  },
  {
   "cell_type": "code",
   "execution_count": 137,
   "id": "483355c8",
   "metadata": {},
   "outputs": [
    {
     "data": {
      "image/png": "[encoded data removed]",
      "text/plain": [
       "<Figure size 504x276.48 with 1 Axes>"
      ]
     },
     "metadata": {},
     "output_type": "display_data"
    }
   ],
   "source": [
    "# Evolución de los coeficientes en función de alpha\n",
    "# ==============================================================================\n",
    "alphas = modelo.alphas_\n",
    "coefs = []\n",
    "\n",
    "for alpha in alphas:\n",
    "    modelo_temp = Lasso(alpha=alpha, fit_intercept=False, normalize=True)\n",
    "    modelo_temp.fit(X_train, y_train)\n",
    "    coefs.append(modelo_temp.coef_.flatten())\n",
    "\n",
    "fig, ax = plt.subplots(figsize=(7, 3.84))\n",
    "ax.plot(alphas, coefs)\n",
    "#ax.set_xscale('log')\n",
    "ax.set_xlim([0,10])\n",
    "ax.set_ylim([-15,None])\n",
    "ax.set_xlabel('alpha')\n",
    "ax.set_ylabel('coeficientes')\n",
    "ax.set_title('Coeficientes del modelo en función de la regularización');"
   ]
  },
  {
   "cell_type": "code",
   "execution_count": 134,
   "id": "818bd230",
   "metadata": {},
   "outputs": [
    {
     "data": {
      "image/png": "[encoded data removed]",
      "text/plain": [
       "<Figure size 504x276.48 with 1 Axes>"
      ]
     },
     "metadata": {},
     "output_type": "display_data"
    }
   ],
   "source": [
    "# Número de predictores incluidos (coeficiente !=0) en función de alpha\n",
    "# ==============================================================================\n",
    "alphas = modelo.alphas_\n",
    "n_predictores = []\n",
    "\n",
    "for alpha in alphas:\n",
    "    modelo_temp = Lasso(alpha=alpha, fit_intercept=False, normalize=True)\n",
    "    modelo_temp.fit(X_train, y_train)\n",
    "    coef_no_cero = np.sum(modelo_temp.coef_.flatten() != 0)\n",
    "    n_predictores.append(coef_no_cero)\n",
    "\n",
    "fig, ax = plt.subplots(figsize=(7, 3.84))\n",
    "ax.plot(alphas, n_predictores)\n",
    "#ax.set_xscale('log')\n",
    "ax.set_ylim([-15,None])\n",
    "ax.set_xlabel('alpha')\n",
    "ax.set_ylabel('nº predictores')\n",
    "ax.set_title('Predictores incluidos en función de la regularización');"
   ]
  },
  {
   "cell_type": "code",
   "execution_count": 140,
   "id": "a115de4d",
   "metadata": {},
   "outputs": [
    {
     "data": {
      "image/png": "[encoded data removed]",
      "text/plain": [
       "<Figure size 504x276.48 with 1 Axes>"
      ]
     },
     "metadata": {},
     "output_type": "display_data"
    }
   ],
   "source": [
    "# Evolución del error en función de alpha\n",
    "# ==============================================================================\n",
    "# modelo.mse_path_ almacena el mse de cv para cada valor de alpha. Tiene\n",
    "# dimensiones (n_alphas, n_folds)\n",
    "mse_cv = modelo.mse_path_.mean(axis=1)\n",
    "mse_sd = modelo.mse_path_.std(axis=1)\n",
    "\n",
    "# Se aplica la raíz cuadrada para pasar de mse a rmse\n",
    "rmse_cv = np.sqrt(mse_cv)\n",
    "rmse_sd = np.sqrt(mse_sd)\n",
    "\n",
    "# Se identifica el óptimo y el óptimo + 1std\n",
    "min_rmse     = np.min(rmse_cv)\n",
    "sd_min_rmse  = rmse_sd[np.argmin(rmse_cv)]\n",
    "min_rsme_1sd = np.max(rmse_cv[rmse_cv <= min_rmse + sd_min_rmse])\n",
    "optimo       = modelo.alphas_[np.argmin(rmse_cv)]\n",
    "optimo_1sd   = modelo.alphas_[rmse_cv == min_rsme_1sd]\n",
    "\n",
    "# Gráfico del error +- 1 desviación estándar\n",
    "fig, ax = plt.subplots(figsize=(7, 3.84))\n",
    "ax.plot(modelo.alphas_, rmse_cv)\n",
    "ax.fill_between(\n",
    "    modelo.alphas_,\n",
    "    rmse_cv + rmse_sd,\n",
    "    rmse_cv - rmse_sd,\n",
    "    alpha=0.2\n",
    ")\n",
    "\n",
    "ax.axvline(\n",
    "    x         = optimo,\n",
    "    c         = \"gray\",\n",
    "    linestyle = '--',\n",
    "    label     = 'óptimo'\n",
    ")\n",
    "\n",
    "ax.axvline(\n",
    "    x         = optimo_1sd,\n",
    "    c         = \"blue\",\n",
    "    linestyle = '--',\n",
    "    label     = 'óptimo_1sd'\n",
    ")\n",
    "\n",
    "#ax.set_xscale('log')\n",
    "ax.set_xlim([0,1])\n",
    "ax.set_ylim([0,None])\n",
    "ax.set_title('Evolución del error CV en función de la regularización')\n",
    "ax.set_xlabel('alpha')\n",
    "ax.set_ylabel('RMSE')\n",
    "plt.legend();\n",
    "\n"
   ]
  },
  {
   "cell_type": "code",
   "execution_count": 141,
   "id": "99f9dfd9",
   "metadata": {},
   "outputs": [
    {
     "name": "stdout",
     "output_type": "stream",
     "text": [
      "Mejor valor de alpha encontrado + 1 desviación estándar: [0.34489623]\n"
     ]
    }
   ],
   "source": [
    "# Mejor valor alpha encontrado + 1sd\n",
    "# ==============================================================================\n",
    "min_rmse     = np.min(rmse_cv)\n",
    "sd_min_rmse  = rmse_sd[np.argmin(rmse_cv)]\n",
    "min_rsme_1sd = np.max(rmse_cv[rmse_cv <= min_rmse + sd_min_rmse])\n",
    "optimo       = modelo.alphas_[np.argmin(rmse_cv)]\n",
    "optimo_1sd   = modelo.alphas_[rmse_cv == min_rsme_1sd]\n",
    "\n",
    "print(f\"Mejor valor de alpha encontrado + 1 desviación estándar: {optimo_1sd}\")"
   ]
  },
  {
   "cell_type": "code",
   "execution_count": 142,
   "id": "a31275f7",
   "metadata": {},
   "outputs": [
    {
     "data": {
      "text/plain": [
       "Lasso(alpha=array([0.34489623]), normalize=True)"
      ]
     },
     "execution_count": 142,
     "metadata": {},
     "output_type": "execute_result"
    }
   ],
   "source": [
    "# Mejor modelo alpha óptimo + 1sd\n",
    "# ==============================================================================\n",
    "modelo = Lasso(alpha=optimo_1sd, normalize=True)\n",
    "modelo.fit(X_train, y_train)"
   ]
  },
  {
   "cell_type": "code",
   "execution_count": 143,
   "id": "9c1bc9a3",
   "metadata": {},
   "outputs": [
    {
     "data": {
      "text/html": [
       "<div>\n",
       "<style scoped>\n",
       "    .dataframe tbody tr th:only-of-type {\n",
       "        vertical-align: middle;\n",
       "    }\n",
       "\n",
       "    .dataframe tbody tr th {\n",
       "        vertical-align: top;\n",
       "    }\n",
       "\n",
       "    .dataframe thead th {\n",
       "        text-align: right;\n",
       "    }\n",
       "</style>\n",
       "<table border=\"1\" class=\"dataframe\">\n",
       "  <thead>\n",
       "    <tr style=\"text-align: right;\">\n",
       "      <th></th>\n",
       "      <th>predictor</th>\n",
       "      <th>coef</th>\n",
       "    </tr>\n",
       "  </thead>\n",
       "  <tbody>\n",
       "    <tr>\n",
       "      <th>2</th>\n",
       "      <td>Hora</td>\n",
       "      <td>2.89710</td>\n",
       "    </tr>\n",
       "    <tr>\n",
       "      <th>8</th>\n",
       "      <td>cluster1</td>\n",
       "      <td>212.14189</td>\n",
       "    </tr>\n",
       "    <tr>\n",
       "      <th>10</th>\n",
       "      <td>cluster3</td>\n",
       "      <td>162.23475</td>\n",
       "    </tr>\n",
       "  </tbody>\n",
       "</table>\n",
       "</div>"
      ],
      "text/plain": [
       "   predictor      coef\n",
       "2       Hora   2.89710\n",
       "8   cluster1 212.14189\n",
       "10  cluster3 162.23475"
      ]
     },
     "execution_count": 143,
     "metadata": {},
     "output_type": "execute_result"
    }
   ],
   "source": [
    "# Coeficientes del modelo\n",
    "# ==============================================================================\n",
    "df_coeficientes = pd.DataFrame(\n",
    "                        {'predictor': X_train.columns,\n",
    "                         'coef': modelo.coef_.flatten()}\n",
    "                  )\n",
    "\n",
    "# Predictores incluidos en el modelo (coeficiente != 0)\n",
    "df_coeficientes[df_coeficientes.coef != 0]"
   ]
  },
  {
   "cell_type": "markdown",
   "id": "b34d5949",
   "metadata": {},
   "source": [
    "El modelo final incluye 3 predictores."
   ]
  },
  {
   "cell_type": "code",
   "execution_count": 144,
   "id": "ac4ca5a6",
   "metadata": {},
   "outputs": [
    {
     "data": {
      "image/png": "[encoded data removed]",
      "text/plain": [
       "<Figure size 792x276.48 with 1 Axes>"
      ]
     },
     "metadata": {},
     "output_type": "display_data"
    }
   ],
   "source": [
    "fig, ax = plt.subplots(figsize=(11, 3.84))\n",
    "ax.stem(df_coeficientes.predictor, df_coeficientes.coef, markerfmt=' ')\n",
    "plt.xticks(rotation=90, ha='right', size=5)\n",
    "ax.set_xlabel('variable')\n",
    "ax.set_ylabel('coeficientes')\n",
    "ax.set_title('Coeficientes del modelo');"
   ]
  },
  {
   "cell_type": "code",
   "execution_count": 145,
   "id": "120fd4af",
   "metadata": {},
   "outputs": [
    {
     "data": {
      "text/plain": [
       "array([236.30429126, 114.62890203, 239.20138855,  76.96663723,\n",
       "       111.73180474])"
      ]
     },
     "execution_count": 145,
     "metadata": {},
     "output_type": "execute_result"
    }
   ],
   "source": [
    "# Predicciones test\n",
    "# ==============================================================================\n",
    "predicciones = modelo.predict(X=X_test)\n",
    "predicciones = predicciones.flatten()\n",
    "predicciones[:5]"
   ]
  },
  {
   "cell_type": "code",
   "execution_count": 146,
   "id": "ff4b9049",
   "metadata": {},
   "outputs": [
    {
     "name": "stdout",
     "output_type": "stream",
     "text": [
      "\n",
      "El error (rmse) de test es: 177.28986463774646\n"
     ]
    }
   ],
   "source": [
    "# Error de test del modelo \n",
    "# ==============================================================================\n",
    "rmse_lasso = mean_squared_error(\n",
    "                y_true  = y_test,\n",
    "                y_pred  = predicciones,\n",
    "                squared = False\n",
    "             )\n",
    "print(\"\")\n",
    "print(f\"El error (rmse) de test es: {rmse_lasso}\")"
   ]
  },
  {
   "cell_type": "markdown",
   "id": "ac29743e",
   "metadata": {},
   "source": [
    "Las predicciones del modelo final se alejan en promedio 177.28 unidades del valor real."
   ]
  },
  {
   "cell_type": "markdown",
   "id": "04d62356",
   "metadata": {},
   "source": [
    "ELASTICNET"
   ]
  },
  {
   "cell_type": "code",
   "execution_count": 147,
   "id": "18541002",
   "metadata": {},
   "outputs": [],
   "source": [
    "# Creación y entrenamiento del modelo (con búsqueda por CV del valor óptimo alpha)\n",
    "# ==============================================================================\n",
    "# Por defecto ElasticNetCV utiliza el mean squared error\n",
    "modelo = ElasticNetCV(\n",
    "            l1_ratio        = [0, 0.1, 0.5, 0.7, 0.9, 0.95, 0.99],\n",
    "            alphas          = np.logspace(-10, 3, 200),\n",
    "            normalize       = True,\n",
    "            cv              = 10\n",
    "         )\n",
    "_ = modelo.fit(X = X_train, y = y_train)"
   ]
  },
  {
   "cell_type": "code",
   "execution_count": 148,
   "id": "8b2f1041",
   "metadata": {},
   "outputs": [
    {
     "data": {
      "text/html": [
       "<div>\n",
       "<style scoped>\n",
       "    .dataframe tbody tr th:only-of-type {\n",
       "        vertical-align: middle;\n",
       "    }\n",
       "\n",
       "    .dataframe tbody tr th {\n",
       "        vertical-align: top;\n",
       "    }\n",
       "\n",
       "    .dataframe thead th {\n",
       "        text-align: right;\n",
       "    }\n",
       "</style>\n",
       "<table border=\"1\" class=\"dataframe\">\n",
       "  <thead>\n",
       "    <tr style=\"text-align: right;\">\n",
       "      <th></th>\n",
       "      <th>l1_ratio</th>\n",
       "      <th>modelo.alphas_</th>\n",
       "      <th>mse_cv</th>\n",
       "      <th>rmse_cv</th>\n",
       "    </tr>\n",
       "  </thead>\n",
       "  <tbody>\n",
       "    <tr>\n",
       "      <th>359</th>\n",
       "      <td>0.10000</td>\n",
       "      <td>0.00000</td>\n",
       "      <td>21072.99860</td>\n",
       "      <td>145.16542</td>\n",
       "    </tr>\n",
       "    <tr>\n",
       "      <th>160</th>\n",
       "      <td>0.00000</td>\n",
       "      <td>0.00000</td>\n",
       "      <td>21072.99860</td>\n",
       "      <td>145.16542</td>\n",
       "    </tr>\n",
       "    <tr>\n",
       "      <th>752</th>\n",
       "      <td>0.70000</td>\n",
       "      <td>0.00000</td>\n",
       "      <td>21072.99861</td>\n",
       "      <td>145.16542</td>\n",
       "    </tr>\n",
       "    <tr>\n",
       "      <th>555</th>\n",
       "      <td>0.50000</td>\n",
       "      <td>0.00000</td>\n",
       "      <td>21072.99861</td>\n",
       "      <td>145.16542</td>\n",
       "    </tr>\n",
       "    <tr>\n",
       "      <th>1140</th>\n",
       "      <td>0.95000</td>\n",
       "      <td>0.00000</td>\n",
       "      <td>21072.99865</td>\n",
       "      <td>145.16542</td>\n",
       "    </tr>\n",
       "    <tr>\n",
       "      <th>...</th>\n",
       "      <td>...</td>\n",
       "      <td>...</td>\n",
       "      <td>...</td>\n",
       "      <td>...</td>\n",
       "    </tr>\n",
       "    <tr>\n",
       "      <th>1232</th>\n",
       "      <td>0.99000</td>\n",
       "      <td>8.11984</td>\n",
       "      <td>54426.10866</td>\n",
       "      <td>233.29404</td>\n",
       "    </tr>\n",
       "    <tr>\n",
       "      <th>1233</th>\n",
       "      <td>0.99000</td>\n",
       "      <td>6.98588</td>\n",
       "      <td>54426.10866</td>\n",
       "      <td>233.29404</td>\n",
       "    </tr>\n",
       "    <tr>\n",
       "      <th>1234</th>\n",
       "      <td>0.99000</td>\n",
       "      <td>6.01028</td>\n",
       "      <td>54426.10866</td>\n",
       "      <td>233.29404</td>\n",
       "    </tr>\n",
       "    <tr>\n",
       "      <th>1236</th>\n",
       "      <td>0.99000</td>\n",
       "      <td>4.44878</td>\n",
       "      <td>54426.10866</td>\n",
       "      <td>233.29404</td>\n",
       "    </tr>\n",
       "    <tr>\n",
       "      <th>620</th>\n",
       "      <td>0.70000</td>\n",
       "      <td>49.37048</td>\n",
       "      <td>54426.10866</td>\n",
       "      <td>233.29404</td>\n",
       "    </tr>\n",
       "  </tbody>\n",
       "</table>\n",
       "<p>1400 rows × 4 columns</p>\n",
       "</div>"
      ],
      "text/plain": [
       "      l1_ratio  modelo.alphas_      mse_cv   rmse_cv\n",
       "359    0.10000         0.00000 21072.99860 145.16542\n",
       "160    0.00000         0.00000 21072.99860 145.16542\n",
       "752    0.70000         0.00000 21072.99861 145.16542\n",
       "555    0.50000         0.00000 21072.99861 145.16542\n",
       "1140   0.95000         0.00000 21072.99865 145.16542\n",
       "...        ...             ...         ...       ...\n",
       "1232   0.99000         8.11984 54426.10866 233.29404\n",
       "1233   0.99000         6.98588 54426.10866 233.29404\n",
       "1234   0.99000         6.01028 54426.10866 233.29404\n",
       "1236   0.99000         4.44878 54426.10866 233.29404\n",
       "620    0.70000        49.37048 54426.10866 233.29404\n",
       "\n",
       "[1400 rows x 4 columns]"
      ]
     },
     "execution_count": 148,
     "metadata": {},
     "output_type": "execute_result"
    }
   ],
   "source": [
    "# Evolución del error en función de alpha y l1_ratio\n",
    "# ==============================================================================\n",
    "# modelo.mse_path_ almacena el mse de cv para cada valor de alpha y l1_ratio.\n",
    "# Tiene dimensiones (n_l1_ratio, n_alpha, n_folds)\n",
    "\n",
    "# Error medio de las 10 particiones por cada valor de alpha y l1_ratio \n",
    "mean_error_cv = modelo.mse_path_.mean(axis =2)\n",
    "\n",
    "# El resultado es un array de dimensiones (n_l1_ratio, n_alpha)\n",
    "# Se convierte en un dataframe\n",
    "df_resultados_cv = pd.DataFrame(\n",
    "                        data   = mean_error_cv.flatten(),\n",
    "                        index  = pd.MultiIndex.from_product(\n",
    "                                    iterables = [modelo.l1_ratio, modelo.alphas_],\n",
    "                                    names     = ['l1_ratio', 'modelo.alphas_']\n",
    "                                 ),\n",
    "                        columns = [\"mse_cv\"]\n",
    "                    )\n",
    "\n",
    "df_resultados_cv['rmse_cv'] = np.sqrt(df_resultados_cv['mse_cv'])\n",
    "df_resultados_cv = df_resultados_cv.reset_index().sort_values('mse_cv', ascending = True)\n",
    "df_resultados_cv"
   ]
  },
  {
   "cell_type": "code",
   "execution_count": 149,
   "id": "41cc2bc3",
   "metadata": {},
   "outputs": [
    {
     "data": {
      "image/png": "[encoded data removed]",
      "text/plain": [
       "<Figure size 504x276.48 with 1 Axes>"
      ]
     },
     "metadata": {},
     "output_type": "display_data"
    }
   ],
   "source": [
    "# Mejor valor encontrado para cada l1_ratio\n",
    "fig, ax = plt.subplots(figsize=(7, 3.84))\n",
    "df_resultados_cv.groupby('l1_ratio')['rmse_cv'].min().plot(ax = ax)\n",
    "ax.set_title('Evolución del error CV en función de la l1_ratio')\n",
    "ax.set_xlabel('l1_ratio')\n",
    "ax.set_ylabel('rmse_cv');"
   ]
  },
  {
   "cell_type": "code",
   "execution_count": 150,
   "id": "3a746574",
   "metadata": {},
   "outputs": [
    {
     "name": "stdout",
     "output_type": "stream",
     "text": [
      "Mejor valor de alpha encontrado: 4.1026581058271906e-08\n",
      "Mejor valor de l1_ratio encontrado: 0.1\n"
     ]
    }
   ],
   "source": [
    "# Mejor valor alpha y l1_ratio_ encontrado\n",
    "# ==============================================================================\n",
    "print(f\"Mejor valor de alpha encontrado: {modelo.alpha_}\")\n",
    "print(f\"Mejor valor de l1_ratio encontrado: {modelo.l1_ratio_}\")"
   ]
  },
  {
   "cell_type": "code",
   "execution_count": 151,
   "id": "fa88409f",
   "metadata": {},
   "outputs": [],
   "source": [
    "# Coeficientes del modelo\n",
    "# ==============================================================================\n",
    "df_coeficientes = pd.DataFrame(\n",
    "                        {'predictor': X_train.columns,\n",
    "                         'coef': modelo.coef_.flatten()}\n",
    "                  )"
   ]
  },
  {
   "cell_type": "code",
   "execution_count": 152,
   "id": "8451ae3f",
   "metadata": {},
   "outputs": [
    {
     "data": {
      "image/png": "[encoded data removed]",
      "text/plain": [
       "<Figure size 792x276.48 with 1 Axes>"
      ]
     },
     "metadata": {},
     "output_type": "display_data"
    }
   ],
   "source": [
    "fig, ax = plt.subplots(figsize=(11, 3.84))\n",
    "ax.stem(df_coeficientes.predictor, df_coeficientes.coef, markerfmt=' ')\n",
    "plt.xticks(rotation=90, ha='right', size=5)\n",
    "ax.set_xlabel('variable')\n",
    "ax.set_ylabel('coeficientes')\n",
    "ax.set_title('Coeficientes del modelo');"
   ]
  },
  {
   "cell_type": "code",
   "execution_count": 153,
   "id": "4865543b",
   "metadata": {},
   "outputs": [],
   "source": [
    "# Predicciones test\n",
    "# ==============================================================================\n",
    "predicciones = modelo.predict(X=X_test)\n",
    "predicciones = predicciones.flatten()"
   ]
  },
  {
   "cell_type": "code",
   "execution_count": 154,
   "id": "e831c68c",
   "metadata": {},
   "outputs": [
    {
     "name": "stdout",
     "output_type": "stream",
     "text": [
      "\n",
      "El error (rmse) de test es: 146.35098792758433\n"
     ]
    }
   ],
   "source": [
    "# Error de test del modelo \n",
    "# ==============================================================================\n",
    "rmse_elastic = mean_squared_error(\n",
    "                y_true  = y_test,\n",
    "                y_pred  = predicciones,\n",
    "                squared = False\n",
    "               )\n",
    "print(\"\")\n",
    "print(f\"El error (rmse) de test es: {rmse_elastic}\")"
   ]
  },
  {
   "cell_type": "markdown",
   "id": "af7b9d84",
   "metadata": {},
   "source": [
    "Las predicciones del modelo final se alejan en promedio 146.35 unidades del valor real."
   ]
  },
  {
   "cell_type": "code",
   "execution_count": null,
   "id": "821685bb",
   "metadata": {},
   "outputs": [],
   "source": [
    "COMPARACIÓN MODELOS"
   ]
  },
  {
   "cell_type": "code",
   "execution_count": 155,
   "id": "fc11a37f",
   "metadata": {},
   "outputs": [
    {
     "data": {
      "image/png": "[encoded data removed]",
      "text/plain": [
       "<Figure size 504x276.48 with 1 Axes>"
      ]
     },
     "metadata": {},
     "output_type": "display_data"
    }
   ],
   "source": [
    "df_comparacion = pd.DataFrame({\n",
    "                    'modelo': ['OLS', 'Ridge', 'Lasso', 'Elastic-net'],\n",
    "                    'test rmse': [rmse_ols, rmse_ridge, rmse_lasso, rmse_elastic]\n",
    "                 })\n",
    "\n",
    "fig, ax = plt.subplots(figsize=(7, 3.84))\n",
    "df_comparacion.set_index('modelo').plot(kind='barh', ax=ax)\n",
    "ax.set_xlabel('rmse')\n",
    "ax.set_ylabel('modelo')\n",
    "ax.set_title('Comparación de modelos');"
   ]
  },
  {
   "cell_type": "code",
   "execution_count": null,
   "id": "89cc7c47",
   "metadata": {},
   "outputs": [],
   "source": [
    "Todos los valores rmse obtenidos son bastante similares, sin embargo en este caso el mejor modelo se obtiene aplicando regularización Ridge y Elastic-Net. "
   ]
  }
 ],
 "metadata": {
  "kernelspec": {
   "display_name": "Python 3",
   "language": "python",
   "name": "python3"
  },
  "language_info": {
   "codemirror_mode": {
    "name": "ipython",
    "version": 3
   },
   "file_extension": ".py",
   "mimetype": "text/x-python",
   "name": "python",
   "nbconvert_exporter": "python",
   "pygments_lexer": "ipython3",
   "version": "3.8.8"
  }
 },
 "nbformat": 4,
 "nbformat_minor": 5
}
